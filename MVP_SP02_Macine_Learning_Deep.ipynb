{
  "nbformat": 4,
  "nbformat_minor": 0,
  "metadata": {
    "colab": {
      "provenance": [],
      "collapsed_sections": [
        "dkeLOKzSaf1U"
      ],
      "toc_visible": true,
      "include_colab_link": true
    },
    "kernelspec": {
      "name": "python3",
      "display_name": "Python 3"
    },
    "language_info": {
      "name": "python"
    }
  },
  "cells": [
    {
      "cell_type": "markdown",
      "metadata": {
        "id": "view-in-github",
        "colab_type": "text"
      },
      "source": [
        "<a href=\"https://colab.research.google.com/github/gabrielmprata/MVP_SP02_Macine_Learning_Deep/blob/main/MVP_SP02_Macine_Learning_Deep.ipynb\" target=\"_parent\"><img src=\"https://colab.research.google.com/assets/colab-badge.svg\" alt=\"Open In Colab\"/></a>"
      ]
    },
    {
      "cell_type": "markdown",
      "source": [
        "![bras_83x140_reduzido.png](data:image/png;base64,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) <font size=\"4\"> **MVP de Machine Learning e Deep Learning**"
      ],
      "metadata": {
        "id": "-614P_aFYkUH"
      }
    },
    {
      "cell_type": "markdown",
      "source": [
        "---\n",
        ">\n",
        "**Pós-Graduação em Ciência de Dados e Analytics**\n",
        ">\n",
        "**Sprint 02**\n",
        ">\n",
        "**Aluno**: Gabriel Prata\n",
        ">\n",
        "**Data**: 05/06/2023\n",
        ">\n",
        "---"
      ],
      "metadata": {
        "id": "hQc88NYJZrYT"
      }
    },
    {
      "cell_type": "markdown",
      "source": [
        "#**<font color=#FE8202> 1. Definição do problema**"
      ],
      "metadata": {
        "id": "SPRtTCAMbAmh"
      }
    },
    {
      "cell_type": "markdown",
      "source": [
        "A malha rodoviária é a principal forma de locomoção do país no que tange o deslocamento de pessoas, produtos, matérias primas, alimentos e combustível a curtas e longas distâncias.\n",
        ">\n",
        "Este trabalho visa mostrar através dos dados abertos disponibilizados pela Polícia Rodoviária Federal, dentre os 70.000 Km de rodovias onde atua, o impacto dos acidentes de trânsito e sua letalidade nas rodovias federais, tendo como período analisado o ano de 2020.\n",
        ">\n",
        "O Brasil é o terceiro país com mais mortes no trânsito, ficando atrás apenas da Índia e da China segundo o relatório Global Status Report on Road Safety da Organização Mundial de Saúde (OMS).\n",
        ">\n",
        "Cerca de 82% dos acidentes de trânsito nas rodovias federais brasileiras, são com vítimas, tendo em vista esse grande percentual de vítimas, nesse estudo, queremos entender os fatores que contribuem para os acidentes acontecerem.\n",
        ">\n",
        "Esse estudo tem como objetivo geral analisar o estado físico dos envolvidos, classificando o acidente de trânsito em \"com vítimas\" ou \"sem vítimas\", fazendo uso de **algoritmos de aprendizado de máquina supervisionado**.\n",
        ">\n",
        "O dataset conta com 30 atributos relacionados à caracterização do acidente, 4 atributos que classifica o estado das vítimas em, ilesos, feridos leve, feridos grave e mortos, e 1 variável que classifica o acidente em, sem vítimas, com vítimas feridas e com vitimas fatais. Essa ultima variável utilizaremos como alvo e as demais, serão analisadas para definir quais serão selecionadas como preditoras.\n",
        ">\n",
        "Para mais informações sobre o dataset, consulte: https://www.gov.br/prf/pt-br/acesso-a-informacao/dados-abertos/dicionario-de-dados\n"
      ],
      "metadata": {
        "id": "daJ6dnTGb-nR"
      }
    },
    {
      "cell_type": "markdown",
      "source": [
        ">**<font color=#FE8202> Dicionário de dados**"
      ],
      "metadata": {
        "id": "flcK-l-VqspL"
      }
    },
    {
      "cell_type": "markdown",
      "source": [
        "1.   **id**    -  Variável com valores numéricos, representando o identificador do acidente\n",
        "2.   **pesid** - Variável com valores numéricos, representando o identificador da pessoa envolvida\n",
        "3. **data_inversa** - Data da ocorrência no formato dd/mm/aaaa.\n",
        "4. **dia_semana** - Dia da semana da ocorrência. Ex.: Segunda, terça, etc.\n",
        "5. **horario** - Horário da ocorrência no formato hh:mm:ss.\n",
        "6. **uf** - Unidade da Federação. Ex.: MG, SP, etc.\n",
        "7. **br** - Variável com valores numéricos, representando o identificador da BR.\n",
        "8. **km** - Identificação do quilômetro onde ocorreu o acidente, com valor mínimo de 0,1 km e com a casa decimal separada por ponto.\n",
        "9. **municipio** - Nome do município de ocorrência do acidente.\n",
        "10. **causa_acidente** - Identificação da causa principal do acidente.\n",
        "11. **tipo_acidente** - Identificação do tipo de acidente. Ex.: Colisão frontal, etc.\n",
        "12. **classificação_acidente** - Classificação quanto à gravidade do acidente.\n",
        "13. **fase_dia** - Fase do dia no momento do acidente. Ex.: Amanhecer, Pleno dia, etc.\n",
        "14. **sentido_via** - Sentido da via considerando o ponto de colisão: Crescente e decrescente.\n",
        "15. **Condição_meteorologica** - Condição meteorologica no momento do acidente. Ex.: Céu claro, chuva, etc.\n",
        "16. **tipo_pista** - Tipo da pista considerando a quantidade de faixas: Dupla. simples ou múltipla.\n",
        "17. **tracado_pista** - Descrição do traçãdo da via.\n",
        "18. **usu_solo** - Descrição sobre as características do local do acidente: Urbano=Sim;Rural=Não.\n",
        "19. **id_veiculo** - Variável com valores numéricos, representando o identificador do veículo envolvido.\n",
        "20. **tipo_veiculo** - Tipo do veículo conforme Art. 96 do CNT. Ex.: Automóvel, Caminhão, etc.\n",
        "21. **marca** - Descrição da marca do veículo.\n",
        "22. **ano_fabricacao_veiculo** - Ana de fabricação do veículo, formato aaaa.\n",
        "23. **tipo_envolvido** - Tipo de envolvido no acidente conforme sua participação no evento. Ex.: condutor, passageiro, etc.\n",
        "24. **estado_fisico** - Condição do envolvido conforme a gravidade das lesões.Ex.:morto,feridoleve,etc.\n",
        "25. **idade** - Idade do envolvido. O código \"-1\" indica que não foi possivel coletar a informação.\n",
        "26. **sexo** - Sexo do envolvido. O valor \"invalido\" indica que não foi possivel coletar a informação.\n",
        "27. **ilesos** - Valor binário que identifica se o envolvido foi classificado como ileso.\n",
        "28. **feridos_leves** - Valor binário que identifica se o envolvido foi classificado como ferido leve.\n",
        "29. **feridos_graves** - Valor binário que identifica se o envolvido foi classificado como ferido grave.\n",
        "30. **mortos** - Valor binário que identifica se o envolvido foi classificado como morto.\n",
        "31. **latitude** - Latitude do local do acidente em formato geodésico decimal.\n",
        "32. **longitude** - Longitude do local do acidente em formato geodésico decimal.\n",
        "33. **regional** - Não definido no dicionário de dados fornecido pela PRF.\n",
        "34. **delegacia** - Não definido no dicionário de dados fornecido pela PRF.\n",
        "35. **uop** - Não definido no dicionário de dados fornecido pela PRF.\n",
        "\n"
      ],
      "metadata": {
        "id": "quuGKdcoq7Gl"
      }
    },
    {
      "cell_type": "markdown",
      "source": [
        "#**<font color=#FE8202> 2. Carga de Dados**"
      ],
      "metadata": {
        "id": "ThUqevesMlF-"
      }
    },
    {
      "cell_type": "markdown",
      "source": [
        "Nesse tópico iremos importar o dataset que está armazenado no GitHub, separado por ano, no formato CSV, com cabeçalho e separado por ponto e vírgula(;).\n",
        ">\n",
        "Iremos utilizar o pacote Pandas, para carregar esse arquivo, através de uma URL, e armazenaremos os dados em um **dataframe**(matrizes multidimensionais similares a uma tabela de dados relacionais, com linhas e colunas rotuladas).\n",
        ">\n",
        "Para isso, utilizaremos o método read_csv()"
      ],
      "metadata": {
        "id": "Mt1ymYzOU_a7"
      }
    },
    {
      "cell_type": "code",
      "source": [
        "# Importando todas as bibliotecas que iremos utilizar no projeto\n",
        "# Importação de pacotes\n",
        "import pandas as pd\n",
        "import numpy as np\n",
        "import missingno as ms # para tratamento de missings\n",
        "\n",
        "#bibliotecas para visualização de dados\n",
        "import seaborn as sns\n",
        "import plotly.express as px\n",
        "import matplotlib.pyplot as plt\n",
        "import matplotlib.pylab as pl\n",
        "import matplotlib.gridspec as gridspec #geometria da grade e alocar subplot\n",
        "import folium #mapas\n",
        "import branca.colormap as cm\n",
        "import plotly.graph_objects as go\n",
        "\n",
        "# Transformações Categóricas\n",
        "from sklearn.preprocessing import OneHotEncoder\n",
        "from sklearn.preprocessing import LabelEncoder\n",
        "from sklearn.compose import ColumnTransformer\n",
        "from sklearn.preprocessing import OrdinalEncoder\n",
        "\n",
        "# Feature Selection\n",
        "from sklearn.ensemble import ExtraTreesClassifier # ExtraTrees, para a Importância de Atributos\n",
        "from sklearn.feature_selection import SelectKBest # para a Seleção Univariada\n",
        "from sklearn.feature_selection import f_classif # para o teste ANOVA da Seleção Univariada\n",
        "from sklearn.feature_selection import RFE # para a Eliminação Recursiva de Atributos\n",
        "from sklearn.linear_model import LogisticRegression # Regressão Logística, para a Eliminação Recursiva de Atributos\n",
        "\n",
        "# Separar treino e teste\n",
        "from sklearn.model_selection import train_test_split\n",
        "\n",
        "# Pipeline\n",
        "from sklearn.pipeline import Pipeline\n",
        "\n",
        "# Machine Learning\n",
        "from sklearn.linear_model import LogisticRegression\n",
        "from sklearn.tree import DecisionTreeClassifier\n",
        "from sklearn.neighbors import KNeighborsClassifier\n",
        "from sklearn.naive_bayes import GaussianNB\n",
        "from sklearn.svm import SVC\n",
        "from sklearn.ensemble import BaggingClassifier\n",
        "from sklearn.ensemble import RandomForestClassifier\n",
        "from sklearn.ensemble import ExtraTreesClassifier\n",
        "from sklearn.ensemble import VotingClassifier\n",
        "from sklearn.ensemble import AdaBoostClassifier\n",
        "from sklearn.ensemble import GradientBoostingClassifier\n",
        "from sklearn.metrics import accuracy_score, confusion_matrix, precision_score, recall_score, f1_score\n",
        "from sklearn.model_selection import GridSearchCV\n",
        "from sklearn.model_selection import KFold\n",
        "from sklearn.model_selection import StratifiedKFold\n",
        "from sklearn.preprocessing import StandardScaler\n",
        "from sklearn.preprocessing import MinMaxScaler\n",
        "\n",
        "# Validação cruzada\n",
        "from sklearn.model_selection import KFold\n",
        "from sklearn.model_selection import cross_val_score\n",
        "\n",
        "#from datetime import datetime, date, time\n",
        "import time\n",
        "# Configuração para não exibir os warnings\n",
        "import warnings\n",
        "warnings.filterwarnings(\"ignore\")\n",
        "\n",
        "import json\n",
        "import requests"
      ],
      "metadata": {
        "id": "YARMO4oD8xaz"
      },
      "execution_count": 1,
      "outputs": []
    },
    {
      "cell_type": "markdown",
      "source": [
        "###**<font color=#FE8202> 2.1. Dataset Acidentes**"
      ],
      "metadata": {
        "id": "u2a0vCPynhl9"
      }
    },
    {
      "cell_type": "code",
      "execution_count": 2,
      "metadata": {
        "id": "beGsr5VSU3J1"
      },
      "outputs": [],
      "source": [
        "# importando dados de uma url para um dataframe\n",
        "\n",
        "# URL de importação\n",
        "url  = \"https://raw.githubusercontent.com/gabrielmprata/MVP_Sprint01_Puc_Rio/master/acidentes2019.csv\"\n",
        "url2 = \"https://raw.githubusercontent.com/gabrielmprata/MVP_Sprint01_Puc_Rio/master/acidentes2020.csv\"\n",
        "\n",
        "# Carga do dataset para o Pandas dataframe\n",
        "acidentes_2019 = pd.read_csv(url, encoding=\"Latin 1\", sep=';')\n",
        "acidentes_2020 = pd.read_csv(url2, encoding=\"Latin 1\", sep=';')\n"
      ]
    },
    {
      "cell_type": "code",
      "source": [
        "# Concatenar os dataframes de 2019 e 2020 em um único dataframe.\n",
        "# Utilizaremos o método \"concat\"\n",
        "\n",
        "acidentes = pd.concat([acidentes_2019, acidentes_2020], sort=False, ignore_index=True)\n",
        "\n",
        "# Apagando os dataframes que não iremos mais utilizar\n",
        "del acidentes_2020\n",
        "del acidentes_2019"
      ],
      "metadata": {
        "id": "oCD0tQ7qlNKh"
      },
      "execution_count": 3,
      "outputs": []
    },
    {
      "cell_type": "markdown",
      "source": [
        "#**<font color=#FE8202> 3. Análise de Dados Inicial**"
      ],
      "metadata": {
        "id": "dkeLOKzSaf1U"
      }
    },
    {
      "cell_type": "markdown",
      "source": [
        "Nessa etapa iremos fazer a análise exploratória **inicial** de dados.\n",
        ">\n",
        "Uma etapa bem crítica, pois nesse primeiro momento, devemos compreender bem os dados.\n",
        ">\n",
        "Depois de entender melhor esses dados, na próxima etapa, seremos capazes de limpar, transformar e apresentar melhor os dados, assim como obter os melhores resultados possíveis nos algoritmos de Machine Learning."
      ],
      "metadata": {
        "id": "36Fzs_Mkaji0"
      }
    },
    {
      "cell_type": "markdown",
      "source": [
        "###**<font color=#FE8202> 3.1. Estatísticas Descritivas**"
      ],
      "metadata": {
        "id": "WR0xRBYcfNoV"
      }
    },
    {
      "cell_type": "markdown",
      "source": [
        "Compreende a organização, o resumo e, descrever os dados, que podem ser expressos em tabelas e gráficos.\n",
        ">\n",
        "Veremos a seguir alguns comandos para exibir algumas estatísticas descritivas.\n",
        ">\n",
        "---\n",
        "\n"
      ],
      "metadata": {
        "id": "Z2Nh6X1qfhBn"
      }
    },
    {
      "cell_type": "code",
      "source": [
        "#\tQuantidade de atributos e instâncias (linhas/colunas)\n",
        "acidentes.shape"
      ],
      "metadata": {
        "colab": {
          "base_uri": "https://localhost:8080/"
        },
        "id": "MbkI7LH_pgE7",
        "outputId": "5ea4621e-9cbb-4e78-ac3e-67a08c5c9c61"
      },
      "execution_count": 4,
      "outputs": [
        {
          "output_type": "execute_result",
          "data": {
            "text/plain": [
              "(310239, 35)"
            ]
          },
          "metadata": {},
          "execution_count": 4
        }
      ]
    },
    {
      "cell_type": "markdown",
      "source": [
        "Um dataframe com 310.239 mil linhas e 35 colunas\n",
        "\n",
        "\n",
        "---\n",
        "\n"
      ],
      "metadata": {
        "id": "Rhz6UCLJmLCj"
      }
    },
    {
      "cell_type": "code",
      "source": [
        "# verificando os tipos de dados de cada coluna do dataframe\n",
        "acidentes.dtypes"
      ],
      "metadata": {
        "colab": {
          "base_uri": "https://localhost:8080/"
        },
        "id": "PofO_5h7qK5F",
        "outputId": "d5b9a887-e386-42a5-bd7b-05f2436a4c19"
      },
      "execution_count": 5,
      "outputs": [
        {
          "output_type": "execute_result",
          "data": {
            "text/plain": [
              "id                        float64\n",
              "pesid                     float64\n",
              "data_inversa               object\n",
              "dia_semana                 object\n",
              "horario                    object\n",
              "uf                         object\n",
              "br                        float64\n",
              "km                         object\n",
              "municipio                  object\n",
              "causa_acidente             object\n",
              "tipo_acidente              object\n",
              "classificacao_acidente     object\n",
              "fase_dia                   object\n",
              "sentido_via                object\n",
              "condicao_metereologica     object\n",
              "tipo_pista                 object\n",
              "tracado_via                object\n",
              "uso_solo                   object\n",
              "id_veiculo                  int64\n",
              "tipo_veiculo               object\n",
              "marca                      object\n",
              "ano_fabricacao_veiculo    float64\n",
              "tipo_envolvido             object\n",
              "estado_fisico              object\n",
              "idade                     float64\n",
              "sexo                       object\n",
              "ilesos                      int64\n",
              "feridos_leves               int64\n",
              "feridos_graves              int64\n",
              "mortos                      int64\n",
              "latitude                   object\n",
              "longitude                  object\n",
              "regional                   object\n",
              "delegacia                  object\n",
              "uop                        object\n",
              "dtype: object"
            ]
          },
          "metadata": {},
          "execution_count": 5
        }
      ]
    },
    {
      "cell_type": "markdown",
      "source": [
        "\n",
        "\n",
        "---\n",
        "\n"
      ],
      "metadata": {
        "id": "GVGLdwammigd"
      }
    },
    {
      "cell_type": "code",
      "source": [
        "# Mostra diversas informações do Dataframe em um único comando\n",
        "acidentes.info(memory_usage=\"deep\")"
      ],
      "metadata": {
        "colab": {
          "base_uri": "https://localhost:8080/"
        },
        "id": "2PPHphwTq9V9",
        "outputId": "76e5c5e7-e7ea-4dba-8246-3045d97144cc"
      },
      "execution_count": 6,
      "outputs": [
        {
          "output_type": "stream",
          "name": "stdout",
          "text": [
            "<class 'pandas.core.frame.DataFrame'>\n",
            "RangeIndex: 310239 entries, 0 to 310238\n",
            "Data columns (total 35 columns):\n",
            " #   Column                  Non-Null Count   Dtype  \n",
            "---  ------                  --------------   -----  \n",
            " 0   id                      310239 non-null  float64\n",
            " 1   pesid                   310237 non-null  float64\n",
            " 2   data_inversa            310239 non-null  object \n",
            " 3   dia_semana              310239 non-null  object \n",
            " 4   horario                 310239 non-null  object \n",
            " 5   uf                      310239 non-null  object \n",
            " 6   br                      309599 non-null  float64\n",
            " 7   km                      309599 non-null  object \n",
            " 8   municipio               310239 non-null  object \n",
            " 9   causa_acidente          310239 non-null  object \n",
            " 10  tipo_acidente           310212 non-null  object \n",
            " 11  classificacao_acidente  310239 non-null  object \n",
            " 12  fase_dia                310239 non-null  object \n",
            " 13  sentido_via             310239 non-null  object \n",
            " 14  condicao_metereologica  310239 non-null  object \n",
            " 15  tipo_pista              310239 non-null  object \n",
            " 16  tracado_via             310239 non-null  object \n",
            " 17  uso_solo                310239 non-null  object \n",
            " 18  id_veiculo              310239 non-null  int64  \n",
            " 19  tipo_veiculo            310239 non-null  object \n",
            " 20  marca                   293655 non-null  object \n",
            " 21  ano_fabricacao_veiculo  289870 non-null  float64\n",
            " 22  tipo_envolvido          310239 non-null  object \n",
            " 23  estado_fisico           310239 non-null  object \n",
            " 24  idade                   279531 non-null  float64\n",
            " 25  sexo                    310239 non-null  object \n",
            " 26  ilesos                  310239 non-null  int64  \n",
            " 27  feridos_leves           310239 non-null  int64  \n",
            " 28  feridos_graves          310239 non-null  int64  \n",
            " 29  mortos                  310239 non-null  int64  \n",
            " 30  latitude                310239 non-null  object \n",
            " 31  longitude               310239 non-null  object \n",
            " 32  regional                310228 non-null  object \n",
            " 33  delegacia               310060 non-null  object \n",
            " 34  uop                     308950 non-null  object \n",
            "dtypes: float64(5), int64(5), object(25)\n",
            "memory usage: 564.2 MB\n"
          ]
        }
      ]
    },
    {
      "cell_type": "markdown",
      "source": [
        "\n",
        "A função info() da biblioteca pandas, nos fornece um resumo do dataframe, sendo muito útil para ter uma visão geral do conjunto de dados.\n",
        ">\n",
        "Usando o parâmetro memory_usage = “deep”, saberemos exatamente quanto de memória o dataframe está utilizando.\n",
        ">\n",
        "Sendo assim, depois dos processos de transformações de dados saberemos se tivemos algum ganho de memoria no dataframe.\n"
      ],
      "metadata": {
        "id": "R8UaO37WqyU8"
      }
    },
    {
      "cell_type": "markdown",
      "source": [
        "O dataframe está ocupando cerca de 564 Megas de espaço.\n",
        "\n",
        "\n",
        "---\n",
        "\n"
      ],
      "metadata": {
        "id": "0ma6moUprufj"
      }
    },
    {
      "cell_type": "code",
      "source": [
        "# Exibe as 5 primeiras linhas (Default do comando head)\n",
        "acidentes.head()"
      ],
      "metadata": {
        "colab": {
          "base_uri": "https://localhost:8080/",
          "height": 0
        },
        "id": "9Auwq_Pwr6V7",
        "outputId": "7688ddc4-381e-44c3-aeec-c376047cedfa"
      },
      "execution_count": 7,
      "outputs": [
        {
          "output_type": "execute_result",
          "data": {
            "text/plain": [
              "         id     pesid data_inversa   dia_semana   horario  uf     br     km  \\\n",
              "0  182256.0  403856.0   2019-01-01  terça-feira  04:00:00  CE  116.0  136,9   \n",
              "1  182263.0  402859.0   2019-01-01  terça-feira  05:00:00  MT  158.0  599,5   \n",
              "2  182277.0  402850.0   2019-01-01  terça-feira  10:00:00  PA   10.0     34   \n",
              "3  182289.0  402431.0   2019-01-01  terça-feira  08:30:00  BA  101.0     13   \n",
              "4  182307.0  402638.0   2019-01-01  terça-feira  13:50:00  BA  116.0    440   \n",
              "\n",
              "          municipio               causa_acidente  ...       sexo ilesos  \\\n",
              "0            RUSSAS             Animais na Pista  ...  Masculino      1   \n",
              "1          AGUA BOA  Defeito Mecânico no Veículo  ...  Masculino      1   \n",
              "2        DOM ELISEU      Velocidade Incompatível  ...  Masculino      1   \n",
              "3          RIO REAL           Ingestão de Álcool  ...  Masculino      1   \n",
              "4  FEIRA DE SANTANA           Ingestão de Álcool  ...  Masculino      0   \n",
              "\n",
              "  feridos_leves feridos_graves mortos     latitude     longitude regional  \\\n",
              "0             0              0      0    -4,766018    -38,056034  SPRF-CE   \n",
              "1             0              0      0      -14,319       -52,169  SPRF-MT   \n",
              "2             0              0      0  -4,15296734  -47,54608154  SPRF-PA   \n",
              "3             0              0      0     -11,5896      -37,8761  SPRF-SE   \n",
              "4             1              0      0      -12,344       -39,087  SPRF-BA   \n",
              "\n",
              "   delegacia             uop  \n",
              "0   DEL03-CE  UOP01-DEL03-CE  \n",
              "1   DEL07-MT  UOP02-DEL07-MT  \n",
              "2   DEL02-PA  UOP02-DEL02-PA  \n",
              "3   DEL02-SE  UOP03-DEL02-SE  \n",
              "4   DEL02-BA  UOP01-DEL02-BA  \n",
              "\n",
              "[5 rows x 35 columns]"
            ],
            "text/html": [
              "\n",
              "  <div id=\"df-334fe043-2025-43d6-9d74-b2883e2c9d35\">\n",
              "    <div class=\"colab-df-container\">\n",
              "      <div>\n",
              "<style scoped>\n",
              "    .dataframe tbody tr th:only-of-type {\n",
              "        vertical-align: middle;\n",
              "    }\n",
              "\n",
              "    .dataframe tbody tr th {\n",
              "        vertical-align: top;\n",
              "    }\n",
              "\n",
              "    .dataframe thead th {\n",
              "        text-align: right;\n",
              "    }\n",
              "</style>\n",
              "<table border=\"1\" class=\"dataframe\">\n",
              "  <thead>\n",
              "    <tr style=\"text-align: right;\">\n",
              "      <th></th>\n",
              "      <th>id</th>\n",
              "      <th>pesid</th>\n",
              "      <th>data_inversa</th>\n",
              "      <th>dia_semana</th>\n",
              "      <th>horario</th>\n",
              "      <th>uf</th>\n",
              "      <th>br</th>\n",
              "      <th>km</th>\n",
              "      <th>municipio</th>\n",
              "      <th>causa_acidente</th>\n",
              "      <th>...</th>\n",
              "      <th>sexo</th>\n",
              "      <th>ilesos</th>\n",
              "      <th>feridos_leves</th>\n",
              "      <th>feridos_graves</th>\n",
              "      <th>mortos</th>\n",
              "      <th>latitude</th>\n",
              "      <th>longitude</th>\n",
              "      <th>regional</th>\n",
              "      <th>delegacia</th>\n",
              "      <th>uop</th>\n",
              "    </tr>\n",
              "  </thead>\n",
              "  <tbody>\n",
              "    <tr>\n",
              "      <th>0</th>\n",
              "      <td>182256.0</td>\n",
              "      <td>403856.0</td>\n",
              "      <td>2019-01-01</td>\n",
              "      <td>terça-feira</td>\n",
              "      <td>04:00:00</td>\n",
              "      <td>CE</td>\n",
              "      <td>116.0</td>\n",
              "      <td>136,9</td>\n",
              "      <td>RUSSAS</td>\n",
              "      <td>Animais na Pista</td>\n",
              "      <td>...</td>\n",
              "      <td>Masculino</td>\n",
              "      <td>1</td>\n",
              "      <td>0</td>\n",
              "      <td>0</td>\n",
              "      <td>0</td>\n",
              "      <td>-4,766018</td>\n",
              "      <td>-38,056034</td>\n",
              "      <td>SPRF-CE</td>\n",
              "      <td>DEL03-CE</td>\n",
              "      <td>UOP01-DEL03-CE</td>\n",
              "    </tr>\n",
              "    <tr>\n",
              "      <th>1</th>\n",
              "      <td>182263.0</td>\n",
              "      <td>402859.0</td>\n",
              "      <td>2019-01-01</td>\n",
              "      <td>terça-feira</td>\n",
              "      <td>05:00:00</td>\n",
              "      <td>MT</td>\n",
              "      <td>158.0</td>\n",
              "      <td>599,5</td>\n",
              "      <td>AGUA BOA</td>\n",
              "      <td>Defeito Mecânico no Veículo</td>\n",
              "      <td>...</td>\n",
              "      <td>Masculino</td>\n",
              "      <td>1</td>\n",
              "      <td>0</td>\n",
              "      <td>0</td>\n",
              "      <td>0</td>\n",
              "      <td>-14,319</td>\n",
              "      <td>-52,169</td>\n",
              "      <td>SPRF-MT</td>\n",
              "      <td>DEL07-MT</td>\n",
              "      <td>UOP02-DEL07-MT</td>\n",
              "    </tr>\n",
              "    <tr>\n",
              "      <th>2</th>\n",
              "      <td>182277.0</td>\n",
              "      <td>402850.0</td>\n",
              "      <td>2019-01-01</td>\n",
              "      <td>terça-feira</td>\n",
              "      <td>10:00:00</td>\n",
              "      <td>PA</td>\n",
              "      <td>10.0</td>\n",
              "      <td>34</td>\n",
              "      <td>DOM ELISEU</td>\n",
              "      <td>Velocidade Incompatível</td>\n",
              "      <td>...</td>\n",
              "      <td>Masculino</td>\n",
              "      <td>1</td>\n",
              "      <td>0</td>\n",
              "      <td>0</td>\n",
              "      <td>0</td>\n",
              "      <td>-4,15296734</td>\n",
              "      <td>-47,54608154</td>\n",
              "      <td>SPRF-PA</td>\n",
              "      <td>DEL02-PA</td>\n",
              "      <td>UOP02-DEL02-PA</td>\n",
              "    </tr>\n",
              "    <tr>\n",
              "      <th>3</th>\n",
              "      <td>182289.0</td>\n",
              "      <td>402431.0</td>\n",
              "      <td>2019-01-01</td>\n",
              "      <td>terça-feira</td>\n",
              "      <td>08:30:00</td>\n",
              "      <td>BA</td>\n",
              "      <td>101.0</td>\n",
              "      <td>13</td>\n",
              "      <td>RIO REAL</td>\n",
              "      <td>Ingestão de Álcool</td>\n",
              "      <td>...</td>\n",
              "      <td>Masculino</td>\n",
              "      <td>1</td>\n",
              "      <td>0</td>\n",
              "      <td>0</td>\n",
              "      <td>0</td>\n",
              "      <td>-11,5896</td>\n",
              "      <td>-37,8761</td>\n",
              "      <td>SPRF-SE</td>\n",
              "      <td>DEL02-SE</td>\n",
              "      <td>UOP03-DEL02-SE</td>\n",
              "    </tr>\n",
              "    <tr>\n",
              "      <th>4</th>\n",
              "      <td>182307.0</td>\n",
              "      <td>402638.0</td>\n",
              "      <td>2019-01-01</td>\n",
              "      <td>terça-feira</td>\n",
              "      <td>13:50:00</td>\n",
              "      <td>BA</td>\n",
              "      <td>116.0</td>\n",
              "      <td>440</td>\n",
              "      <td>FEIRA DE SANTANA</td>\n",
              "      <td>Ingestão de Álcool</td>\n",
              "      <td>...</td>\n",
              "      <td>Masculino</td>\n",
              "      <td>0</td>\n",
              "      <td>1</td>\n",
              "      <td>0</td>\n",
              "      <td>0</td>\n",
              "      <td>-12,344</td>\n",
              "      <td>-39,087</td>\n",
              "      <td>SPRF-BA</td>\n",
              "      <td>DEL02-BA</td>\n",
              "      <td>UOP01-DEL02-BA</td>\n",
              "    </tr>\n",
              "  </tbody>\n",
              "</table>\n",
              "<p>5 rows × 35 columns</p>\n",
              "</div>\n",
              "      <button class=\"colab-df-convert\" onclick=\"convertToInteractive('df-334fe043-2025-43d6-9d74-b2883e2c9d35')\"\n",
              "              title=\"Convert this dataframe to an interactive table.\"\n",
              "              style=\"display:none;\">\n",
              "        \n",
              "  <svg xmlns=\"http://www.w3.org/2000/svg\" height=\"24px\"viewBox=\"0 0 24 24\"\n",
              "       width=\"24px\">\n",
              "    <path d=\"M0 0h24v24H0V0z\" fill=\"none\"/>\n",
              "    <path d=\"M18.56 5.44l.94 2.06.94-2.06 2.06-.94-2.06-.94-.94-2.06-.94 2.06-2.06.94zm-11 1L8.5 8.5l.94-2.06 2.06-.94-2.06-.94L8.5 2.5l-.94 2.06-2.06.94zm10 10l.94 2.06.94-2.06 2.06-.94-2.06-.94-.94-2.06-.94 2.06-2.06.94z\"/><path d=\"M17.41 7.96l-1.37-1.37c-.4-.4-.92-.59-1.43-.59-.52 0-1.04.2-1.43.59L10.3 9.45l-7.72 7.72c-.78.78-.78 2.05 0 2.83L4 21.41c.39.39.9.59 1.41.59.51 0 1.02-.2 1.41-.59l7.78-7.78 2.81-2.81c.8-.78.8-2.07 0-2.86zM5.41 20L4 18.59l7.72-7.72 1.47 1.35L5.41 20z\"/>\n",
              "  </svg>\n",
              "      </button>\n",
              "      \n",
              "  <style>\n",
              "    .colab-df-container {\n",
              "      display:flex;\n",
              "      flex-wrap:wrap;\n",
              "      gap: 12px;\n",
              "    }\n",
              "\n",
              "    .colab-df-convert {\n",
              "      background-color: #E8F0FE;\n",
              "      border: none;\n",
              "      border-radius: 50%;\n",
              "      cursor: pointer;\n",
              "      display: none;\n",
              "      fill: #1967D2;\n",
              "      height: 32px;\n",
              "      padding: 0 0 0 0;\n",
              "      width: 32px;\n",
              "    }\n",
              "\n",
              "    .colab-df-convert:hover {\n",
              "      background-color: #E2EBFA;\n",
              "      box-shadow: 0px 1px 2px rgba(60, 64, 67, 0.3), 0px 1px 3px 1px rgba(60, 64, 67, 0.15);\n",
              "      fill: #174EA6;\n",
              "    }\n",
              "\n",
              "    [theme=dark] .colab-df-convert {\n",
              "      background-color: #3B4455;\n",
              "      fill: #D2E3FC;\n",
              "    }\n",
              "\n",
              "    [theme=dark] .colab-df-convert:hover {\n",
              "      background-color: #434B5C;\n",
              "      box-shadow: 0px 1px 3px 1px rgba(0, 0, 0, 0.15);\n",
              "      filter: drop-shadow(0px 1px 2px rgba(0, 0, 0, 0.3));\n",
              "      fill: #FFFFFF;\n",
              "    }\n",
              "  </style>\n",
              "\n",
              "      <script>\n",
              "        const buttonEl =\n",
              "          document.querySelector('#df-334fe043-2025-43d6-9d74-b2883e2c9d35 button.colab-df-convert');\n",
              "        buttonEl.style.display =\n",
              "          google.colab.kernel.accessAllowed ? 'block' : 'none';\n",
              "\n",
              "        async function convertToInteractive(key) {\n",
              "          const element = document.querySelector('#df-334fe043-2025-43d6-9d74-b2883e2c9d35');\n",
              "          const dataTable =\n",
              "            await google.colab.kernel.invokeFunction('convertToInteractive',\n",
              "                                                     [key], {});\n",
              "          if (!dataTable) return;\n",
              "\n",
              "          const docLinkHtml = 'Like what you see? Visit the ' +\n",
              "            '<a target=\"_blank\" href=https://colab.research.google.com/notebooks/data_table.ipynb>data table notebook</a>'\n",
              "            + ' to learn more about interactive tables.';\n",
              "          element.innerHTML = '';\n",
              "          dataTable['output_type'] = 'display_data';\n",
              "          await google.colab.output.renderOutput(dataTable, element);\n",
              "          const docLink = document.createElement('div');\n",
              "          docLink.innerHTML = docLinkHtml;\n",
              "          element.appendChild(docLink);\n",
              "        }\n",
              "      </script>\n",
              "    </div>\n",
              "  </div>\n",
              "  "
            ]
          },
          "metadata": {},
          "execution_count": 7
        }
      ]
    },
    {
      "cell_type": "code",
      "source": [
        "# Exibe as 5 últimas linhas (Default do comando tail)\n",
        "acidentes.tail()"
      ],
      "metadata": {
        "colab": {
          "base_uri": "https://localhost:8080/",
          "height": 0
        },
        "id": "GYl0F5Qpt9kS",
        "outputId": "06f539c0-8349-4463-e3fb-439e3b0bfe7c"
      },
      "execution_count": 8,
      "outputs": [
        {
          "output_type": "execute_result",
          "data": {
            "text/plain": [
              "              id      pesid data_inversa   dia_semana   horario  uf     br  \\\n",
              "310234  463900.0  1004448.0   2020-02-18  terça-feira  11:45:00  BA  101.0   \n",
              "310235  463900.0  1004447.0   2020-02-18  terça-feira  11:45:00  BA  101.0   \n",
              "310236  463900.0  1004446.0   2020-02-18  terça-feira  11:45:00  BA  101.0   \n",
              "310237  465902.0  1008121.0   2020-04-18       sábado  10:15:00  BA  242.0   \n",
              "310238  465902.0  1008119.0   2020-04-18       sábado  10:15:00  BA  242.0   \n",
              "\n",
              "           km                  municipio          causa_acidente  ...  \\\n",
              "310234    315  PRESIDENTE TANCREDO NEVES  Ultrapassagem Indevida  ...   \n",
              "310235    315  PRESIDENTE TANCREDO NEVES  Ultrapassagem Indevida  ...   \n",
              "310236    315  PRESIDENTE TANCREDO NEVES  Ultrapassagem Indevida  ...   \n",
              "310237  409,6                  LAJEDINHO  Ultrapassagem Indevida  ...   \n",
              "310238  409,6                  LAJEDINHO  Ultrapassagem Indevida  ...   \n",
              "\n",
              "             sexo ilesos feridos_leves feridos_graves mortos   latitude  \\\n",
              "310234   Feminino      0             1              0      0  -13.29906   \n",
              "310235  Masculino      0             1              0      0  -13.29906   \n",
              "310236  Masculino      1             0              0      0  -13.29906   \n",
              "310237   Feminino      0             0              1      0 -12.444242   \n",
              "310238  Masculino      0             0              0      1 -12.444242   \n",
              "\n",
              "        longitude regional  delegacia             uop  \n",
              "310234  -39.34004  SPRF-BA   DEL05-BA  UOP03-DEL05-BA  \n",
              "310235  -39.34004  SPRF-BA   DEL05-BA  UOP03-DEL05-BA  \n",
              "310236  -39.34004  SPRF-BA   DEL05-BA  UOP03-DEL05-BA  \n",
              "310237 -40.798419  SPRF-BA   DEL06-BA  UOP01-DEL06-BA  \n",
              "310238 -40.798419  SPRF-BA   DEL06-BA  UOP01-DEL06-BA  \n",
              "\n",
              "[5 rows x 35 columns]"
            ],
            "text/html": [
              "\n",
              "  <div id=\"df-9b873ef2-4c3b-4203-a622-f8f34cdd4b53\">\n",
              "    <div class=\"colab-df-container\">\n",
              "      <div>\n",
              "<style scoped>\n",
              "    .dataframe tbody tr th:only-of-type {\n",
              "        vertical-align: middle;\n",
              "    }\n",
              "\n",
              "    .dataframe tbody tr th {\n",
              "        vertical-align: top;\n",
              "    }\n",
              "\n",
              "    .dataframe thead th {\n",
              "        text-align: right;\n",
              "    }\n",
              "</style>\n",
              "<table border=\"1\" class=\"dataframe\">\n",
              "  <thead>\n",
              "    <tr style=\"text-align: right;\">\n",
              "      <th></th>\n",
              "      <th>id</th>\n",
              "      <th>pesid</th>\n",
              "      <th>data_inversa</th>\n",
              "      <th>dia_semana</th>\n",
              "      <th>horario</th>\n",
              "      <th>uf</th>\n",
              "      <th>br</th>\n",
              "      <th>km</th>\n",
              "      <th>municipio</th>\n",
              "      <th>causa_acidente</th>\n",
              "      <th>...</th>\n",
              "      <th>sexo</th>\n",
              "      <th>ilesos</th>\n",
              "      <th>feridos_leves</th>\n",
              "      <th>feridos_graves</th>\n",
              "      <th>mortos</th>\n",
              "      <th>latitude</th>\n",
              "      <th>longitude</th>\n",
              "      <th>regional</th>\n",
              "      <th>delegacia</th>\n",
              "      <th>uop</th>\n",
              "    </tr>\n",
              "  </thead>\n",
              "  <tbody>\n",
              "    <tr>\n",
              "      <th>310234</th>\n",
              "      <td>463900.0</td>\n",
              "      <td>1004448.0</td>\n",
              "      <td>2020-02-18</td>\n",
              "      <td>terça-feira</td>\n",
              "      <td>11:45:00</td>\n",
              "      <td>BA</td>\n",
              "      <td>101.0</td>\n",
              "      <td>315</td>\n",
              "      <td>PRESIDENTE TANCREDO NEVES</td>\n",
              "      <td>Ultrapassagem Indevida</td>\n",
              "      <td>...</td>\n",
              "      <td>Feminino</td>\n",
              "      <td>0</td>\n",
              "      <td>1</td>\n",
              "      <td>0</td>\n",
              "      <td>0</td>\n",
              "      <td>-13.29906</td>\n",
              "      <td>-39.34004</td>\n",
              "      <td>SPRF-BA</td>\n",
              "      <td>DEL05-BA</td>\n",
              "      <td>UOP03-DEL05-BA</td>\n",
              "    </tr>\n",
              "    <tr>\n",
              "      <th>310235</th>\n",
              "      <td>463900.0</td>\n",
              "      <td>1004447.0</td>\n",
              "      <td>2020-02-18</td>\n",
              "      <td>terça-feira</td>\n",
              "      <td>11:45:00</td>\n",
              "      <td>BA</td>\n",
              "      <td>101.0</td>\n",
              "      <td>315</td>\n",
              "      <td>PRESIDENTE TANCREDO NEVES</td>\n",
              "      <td>Ultrapassagem Indevida</td>\n",
              "      <td>...</td>\n",
              "      <td>Masculino</td>\n",
              "      <td>0</td>\n",
              "      <td>1</td>\n",
              "      <td>0</td>\n",
              "      <td>0</td>\n",
              "      <td>-13.29906</td>\n",
              "      <td>-39.34004</td>\n",
              "      <td>SPRF-BA</td>\n",
              "      <td>DEL05-BA</td>\n",
              "      <td>UOP03-DEL05-BA</td>\n",
              "    </tr>\n",
              "    <tr>\n",
              "      <th>310236</th>\n",
              "      <td>463900.0</td>\n",
              "      <td>1004446.0</td>\n",
              "      <td>2020-02-18</td>\n",
              "      <td>terça-feira</td>\n",
              "      <td>11:45:00</td>\n",
              "      <td>BA</td>\n",
              "      <td>101.0</td>\n",
              "      <td>315</td>\n",
              "      <td>PRESIDENTE TANCREDO NEVES</td>\n",
              "      <td>Ultrapassagem Indevida</td>\n",
              "      <td>...</td>\n",
              "      <td>Masculino</td>\n",
              "      <td>1</td>\n",
              "      <td>0</td>\n",
              "      <td>0</td>\n",
              "      <td>0</td>\n",
              "      <td>-13.29906</td>\n",
              "      <td>-39.34004</td>\n",
              "      <td>SPRF-BA</td>\n",
              "      <td>DEL05-BA</td>\n",
              "      <td>UOP03-DEL05-BA</td>\n",
              "    </tr>\n",
              "    <tr>\n",
              "      <th>310237</th>\n",
              "      <td>465902.0</td>\n",
              "      <td>1008121.0</td>\n",
              "      <td>2020-04-18</td>\n",
              "      <td>sábado</td>\n",
              "      <td>10:15:00</td>\n",
              "      <td>BA</td>\n",
              "      <td>242.0</td>\n",
              "      <td>409,6</td>\n",
              "      <td>LAJEDINHO</td>\n",
              "      <td>Ultrapassagem Indevida</td>\n",
              "      <td>...</td>\n",
              "      <td>Feminino</td>\n",
              "      <td>0</td>\n",
              "      <td>0</td>\n",
              "      <td>1</td>\n",
              "      <td>0</td>\n",
              "      <td>-12.444242</td>\n",
              "      <td>-40.798419</td>\n",
              "      <td>SPRF-BA</td>\n",
              "      <td>DEL06-BA</td>\n",
              "      <td>UOP01-DEL06-BA</td>\n",
              "    </tr>\n",
              "    <tr>\n",
              "      <th>310238</th>\n",
              "      <td>465902.0</td>\n",
              "      <td>1008119.0</td>\n",
              "      <td>2020-04-18</td>\n",
              "      <td>sábado</td>\n",
              "      <td>10:15:00</td>\n",
              "      <td>BA</td>\n",
              "      <td>242.0</td>\n",
              "      <td>409,6</td>\n",
              "      <td>LAJEDINHO</td>\n",
              "      <td>Ultrapassagem Indevida</td>\n",
              "      <td>...</td>\n",
              "      <td>Masculino</td>\n",
              "      <td>0</td>\n",
              "      <td>0</td>\n",
              "      <td>0</td>\n",
              "      <td>1</td>\n",
              "      <td>-12.444242</td>\n",
              "      <td>-40.798419</td>\n",
              "      <td>SPRF-BA</td>\n",
              "      <td>DEL06-BA</td>\n",
              "      <td>UOP01-DEL06-BA</td>\n",
              "    </tr>\n",
              "  </tbody>\n",
              "</table>\n",
              "<p>5 rows × 35 columns</p>\n",
              "</div>\n",
              "      <button class=\"colab-df-convert\" onclick=\"convertToInteractive('df-9b873ef2-4c3b-4203-a622-f8f34cdd4b53')\"\n",
              "              title=\"Convert this dataframe to an interactive table.\"\n",
              "              style=\"display:none;\">\n",
              "        \n",
              "  <svg xmlns=\"http://www.w3.org/2000/svg\" height=\"24px\"viewBox=\"0 0 24 24\"\n",
              "       width=\"24px\">\n",
              "    <path d=\"M0 0h24v24H0V0z\" fill=\"none\"/>\n",
              "    <path d=\"M18.56 5.44l.94 2.06.94-2.06 2.06-.94-2.06-.94-.94-2.06-.94 2.06-2.06.94zm-11 1L8.5 8.5l.94-2.06 2.06-.94-2.06-.94L8.5 2.5l-.94 2.06-2.06.94zm10 10l.94 2.06.94-2.06 2.06-.94-2.06-.94-.94-2.06-.94 2.06-2.06.94z\"/><path d=\"M17.41 7.96l-1.37-1.37c-.4-.4-.92-.59-1.43-.59-.52 0-1.04.2-1.43.59L10.3 9.45l-7.72 7.72c-.78.78-.78 2.05 0 2.83L4 21.41c.39.39.9.59 1.41.59.51 0 1.02-.2 1.41-.59l7.78-7.78 2.81-2.81c.8-.78.8-2.07 0-2.86zM5.41 20L4 18.59l7.72-7.72 1.47 1.35L5.41 20z\"/>\n",
              "  </svg>\n",
              "      </button>\n",
              "      \n",
              "  <style>\n",
              "    .colab-df-container {\n",
              "      display:flex;\n",
              "      flex-wrap:wrap;\n",
              "      gap: 12px;\n",
              "    }\n",
              "\n",
              "    .colab-df-convert {\n",
              "      background-color: #E8F0FE;\n",
              "      border: none;\n",
              "      border-radius: 50%;\n",
              "      cursor: pointer;\n",
              "      display: none;\n",
              "      fill: #1967D2;\n",
              "      height: 32px;\n",
              "      padding: 0 0 0 0;\n",
              "      width: 32px;\n",
              "    }\n",
              "\n",
              "    .colab-df-convert:hover {\n",
              "      background-color: #E2EBFA;\n",
              "      box-shadow: 0px 1px 2px rgba(60, 64, 67, 0.3), 0px 1px 3px 1px rgba(60, 64, 67, 0.15);\n",
              "      fill: #174EA6;\n",
              "    }\n",
              "\n",
              "    [theme=dark] .colab-df-convert {\n",
              "      background-color: #3B4455;\n",
              "      fill: #D2E3FC;\n",
              "    }\n",
              "\n",
              "    [theme=dark] .colab-df-convert:hover {\n",
              "      background-color: #434B5C;\n",
              "      box-shadow: 0px 1px 3px 1px rgba(0, 0, 0, 0.15);\n",
              "      filter: drop-shadow(0px 1px 2px rgba(0, 0, 0, 0.3));\n",
              "      fill: #FFFFFF;\n",
              "    }\n",
              "  </style>\n",
              "\n",
              "      <script>\n",
              "        const buttonEl =\n",
              "          document.querySelector('#df-9b873ef2-4c3b-4203-a622-f8f34cdd4b53 button.colab-df-convert');\n",
              "        buttonEl.style.display =\n",
              "          google.colab.kernel.accessAllowed ? 'block' : 'none';\n",
              "\n",
              "        async function convertToInteractive(key) {\n",
              "          const element = document.querySelector('#df-9b873ef2-4c3b-4203-a622-f8f34cdd4b53');\n",
              "          const dataTable =\n",
              "            await google.colab.kernel.invokeFunction('convertToInteractive',\n",
              "                                                     [key], {});\n",
              "          if (!dataTable) return;\n",
              "\n",
              "          const docLinkHtml = 'Like what you see? Visit the ' +\n",
              "            '<a target=\"_blank\" href=https://colab.research.google.com/notebooks/data_table.ipynb>data table notebook</a>'\n",
              "            + ' to learn more about interactive tables.';\n",
              "          element.innerHTML = '';\n",
              "          dataTable['output_type'] = 'display_data';\n",
              "          await google.colab.output.renderOutput(dataTable, element);\n",
              "          const docLink = document.createElement('div');\n",
              "          docLink.innerHTML = docLinkHtml;\n",
              "          element.appendChild(docLink);\n",
              "        }\n",
              "      </script>\n",
              "    </div>\n",
              "  </div>\n",
              "  "
            ]
          },
          "metadata": {},
          "execution_count": 8
        }
      ]
    },
    {
      "cell_type": "markdown",
      "source": [
        "Com a exibição das linhas, é mais fácil perceber que o processo de importação, considerou alguns atributos como Float ao inves de integer.\n",
        ">\n",
        "Nesse momento não irá interferir na exploração inicial de dados, depois na etpada de pré-processamento iremos modificar.\n",
        "\n",
        "\n",
        "---\n",
        "\n"
      ],
      "metadata": {
        "id": "u3d2NYutXx4U"
      }
    },
    {
      "cell_type": "code",
      "source": [
        "# Quantidade de valores únicos\n",
        "acidentes.nunique()"
      ],
      "metadata": {
        "colab": {
          "base_uri": "https://localhost:8080/"
        },
        "id": "ylatDQNXvBvZ",
        "outputId": "decb2791-d335-4482-f457-d6204d890e99"
      },
      "execution_count": 9,
      "outputs": [
        {
          "output_type": "execute_result",
          "data": {
            "text/plain": [
              "id                        131132\n",
              "pesid                     310237\n",
              "data_inversa                 731\n",
              "dia_semana                     7\n",
              "horario                     1396\n",
              "uf                            27\n",
              "br                           118\n",
              "km                          8840\n",
              "municipio                   1869\n",
              "causa_acidente                63\n",
              "tipo_acidente                 20\n",
              "classificacao_acidente         3\n",
              "fase_dia                       4\n",
              "sentido_via                    3\n",
              "condicao_metereologica        10\n",
              "tipo_pista                     3\n",
              "tracado_via                   10\n",
              "uso_solo                       2\n",
              "id_veiculo                216089\n",
              "tipo_veiculo                  25\n",
              "marca                      10966\n",
              "ano_fabricacao_veiculo        65\n",
              "tipo_envolvido                 6\n",
              "estado_fisico                  5\n",
              "idade                        144\n",
              "sexo                           4\n",
              "ilesos                         2\n",
              "feridos_leves                  2\n",
              "feridos_graves                 2\n",
              "mortos                         2\n",
              "latitude                   71340\n",
              "longitude                  71340\n",
              "regional                      27\n",
              "delegacia                    150\n",
              "uop                          396\n",
              "dtype: int64"
            ]
          },
          "metadata": {},
          "execution_count": 9
        }
      ]
    },
    {
      "cell_type": "markdown",
      "source": [
        "Com o comando nunique() já podemos ter uma rápida noção da coerência dos atributos, como por exemplo:\n",
        ">\n",
        "Temos 144 valores diferentes no atributo idade, o que pode indicar alguma discrepância nos valores informados, ou seja, precisamos explorar mais esse atributo.\n",
        ">\n",
        "\n",
        "\n",
        "---\n",
        "\n",
        "\n"
      ],
      "metadata": {
        "id": "6x5--hwiveCZ"
      }
    },
    {
      "cell_type": "code",
      "source": [
        "# Quantidade de nulls no dataframe\n",
        "acidentes.isnull().sum()"
      ],
      "metadata": {
        "colab": {
          "base_uri": "https://localhost:8080/"
        },
        "id": "OMLt646XxSRa",
        "outputId": "170fd2c6-c7c5-4e9c-ca92-9e1a6eb3bf77"
      },
      "execution_count": 10,
      "outputs": [
        {
          "output_type": "execute_result",
          "data": {
            "text/plain": [
              "id                            0\n",
              "pesid                         2\n",
              "data_inversa                  0\n",
              "dia_semana                    0\n",
              "horario                       0\n",
              "uf                            0\n",
              "br                          640\n",
              "km                          640\n",
              "municipio                     0\n",
              "causa_acidente                0\n",
              "tipo_acidente                27\n",
              "classificacao_acidente        0\n",
              "fase_dia                      0\n",
              "sentido_via                   0\n",
              "condicao_metereologica        0\n",
              "tipo_pista                    0\n",
              "tracado_via                   0\n",
              "uso_solo                      0\n",
              "id_veiculo                    0\n",
              "tipo_veiculo                  0\n",
              "marca                     16584\n",
              "ano_fabricacao_veiculo    20369\n",
              "tipo_envolvido                0\n",
              "estado_fisico                 0\n",
              "idade                     30708\n",
              "sexo                          0\n",
              "ilesos                        0\n",
              "feridos_leves                 0\n",
              "feridos_graves                0\n",
              "mortos                        0\n",
              "latitude                      0\n",
              "longitude                     0\n",
              "regional                     11\n",
              "delegacia                   179\n",
              "uop                        1289\n",
              "dtype: int64"
            ]
          },
          "metadata": {},
          "execution_count": 10
        }
      ]
    },
    {
      "cell_type": "markdown",
      "source": [
        "Dos 35 atributos, 10 apresentam registros nulos, que deverão ser tratados na etapa de pre-processamento de dados.\n",
        "\n",
        "\n",
        "---\n",
        "\n"
      ],
      "metadata": {
        "id": "B8mOIX-J-VzZ"
      }
    },
    {
      "cell_type": "markdown",
      "source": [
        "Vamos verificar agora, se existe alguma duplicidade de registro.\n",
        ">\n",
        "Segundo a documentação do dataset existe o campo ID com o número único do registro do acidente, e o pesid com o número único que identifica a pessoa envolvida no registro do acidente.\n",
        ">\n",
        "Sendo assim devemos ter apenas 1 pesid distinto por ID de acidente, ou seja, só posso registrar uma vez a pessoa na ocorrência do acidente, mesmo que esse acidente tenha mais pessoas envolvidas.\n",
        ">\n",
        "Para essa analise iremos utilizar o método duplicated()"
      ],
      "metadata": {
        "id": "-PZGUh1NAkji"
      }
    },
    {
      "cell_type": "code",
      "source": [
        "# Quantidade de registros duplicados\n",
        "# subset - agrupa as colunas chaves\n",
        "# keep='first' - Se primeiro, considera o primeiro valor como único e o resto como duplicado\n",
        "\n",
        "acidentes.duplicated(subset=['id','pesid'], keep='first').sum()"
      ],
      "metadata": {
        "colab": {
          "base_uri": "https://localhost:8080/"
        },
        "id": "up44_7l4BVxv",
        "outputId": "7230c22d-9d42-400f-bec3-c3e28561cab4"
      },
      "execution_count": 11,
      "outputs": [
        {
          "output_type": "execute_result",
          "data": {
            "text/plain": [
              "0"
            ]
          },
          "metadata": {},
          "execution_count": 11
        }
      ]
    },
    {
      "cell_type": "markdown",
      "source": [
        "O método retorna 0, o que indica que o dataframe não tem duplicidade de registros.\n",
        "\n",
        "\n",
        "---\n",
        "\n"
      ],
      "metadata": {
        "id": "2ti27wxwF3Bg"
      }
    },
    {
      "cell_type": "code",
      "source": [
        "# Faz um resumo estatístico do dataset (média, desvio padrão, mínimo, máximo e os quartis)\n",
        "acidentes.describe().round(2)"
      ],
      "metadata": {
        "colab": {
          "base_uri": "https://localhost:8080/",
          "height": 0
        },
        "id": "WGOf_20-Hv53",
        "outputId": "61f03e8b-f549-4c53-9ebb-36032dc1b0a2"
      },
      "execution_count": 12,
      "outputs": [
        {
          "output_type": "execute_result",
          "data": {
            "text/plain": [
              "              id       pesid         br  id_veiculo  ano_fabricacao_veiculo  \\\n",
              "count  310239.00   310237.00  309599.00   310239.00               289870.00   \n",
              "mean   257827.88   573651.46     215.59   460721.82                 2009.66   \n",
              "std     43937.69    98355.00     131.64    79387.47                    7.60   \n",
              "min    182210.00   402087.00      10.00   324863.00                 1900.00   \n",
              "25%    220063.00   489437.00     101.00   392906.50                 2007.00   \n",
              "50%    257636.00   573172.00     163.00   460061.00                 2011.00   \n",
              "75%    295489.50   657550.00     343.00   528241.00                 2015.00   \n",
              "max    466732.00  1010053.00     495.00   816458.00                 2020.00   \n",
              "\n",
              "           idade     ilesos  feridos_leves  feridos_graves     mortos  \n",
              "count  279531.00  310239.00      310239.00       310239.00  310239.00  \n",
              "mean       39.51       0.42           0.37            0.12       0.03  \n",
              "std        47.01       0.49           0.48            0.32       0.18  \n",
              "min         0.00       0.00           0.00            0.00       0.00  \n",
              "25%        27.00       0.00           0.00            0.00       0.00  \n",
              "50%        37.00       0.00           0.00            0.00       0.00  \n",
              "75%        48.00       1.00           1.00            0.00       0.00  \n",
              "max      2019.00       1.00           1.00            1.00       1.00  "
            ],
            "text/html": [
              "\n",
              "  <div id=\"df-b82454f9-f5b7-4800-9fe7-12d5e5b66668\">\n",
              "    <div class=\"colab-df-container\">\n",
              "      <div>\n",
              "<style scoped>\n",
              "    .dataframe tbody tr th:only-of-type {\n",
              "        vertical-align: middle;\n",
              "    }\n",
              "\n",
              "    .dataframe tbody tr th {\n",
              "        vertical-align: top;\n",
              "    }\n",
              "\n",
              "    .dataframe thead th {\n",
              "        text-align: right;\n",
              "    }\n",
              "</style>\n",
              "<table border=\"1\" class=\"dataframe\">\n",
              "  <thead>\n",
              "    <tr style=\"text-align: right;\">\n",
              "      <th></th>\n",
              "      <th>id</th>\n",
              "      <th>pesid</th>\n",
              "      <th>br</th>\n",
              "      <th>id_veiculo</th>\n",
              "      <th>ano_fabricacao_veiculo</th>\n",
              "      <th>idade</th>\n",
              "      <th>ilesos</th>\n",
              "      <th>feridos_leves</th>\n",
              "      <th>feridos_graves</th>\n",
              "      <th>mortos</th>\n",
              "    </tr>\n",
              "  </thead>\n",
              "  <tbody>\n",
              "    <tr>\n",
              "      <th>count</th>\n",
              "      <td>310239.00</td>\n",
              "      <td>310237.00</td>\n",
              "      <td>309599.00</td>\n",
              "      <td>310239.00</td>\n",
              "      <td>289870.00</td>\n",
              "      <td>279531.00</td>\n",
              "      <td>310239.00</td>\n",
              "      <td>310239.00</td>\n",
              "      <td>310239.00</td>\n",
              "      <td>310239.00</td>\n",
              "    </tr>\n",
              "    <tr>\n",
              "      <th>mean</th>\n",
              "      <td>257827.88</td>\n",
              "      <td>573651.46</td>\n",
              "      <td>215.59</td>\n",
              "      <td>460721.82</td>\n",
              "      <td>2009.66</td>\n",
              "      <td>39.51</td>\n",
              "      <td>0.42</td>\n",
              "      <td>0.37</td>\n",
              "      <td>0.12</td>\n",
              "      <td>0.03</td>\n",
              "    </tr>\n",
              "    <tr>\n",
              "      <th>std</th>\n",
              "      <td>43937.69</td>\n",
              "      <td>98355.00</td>\n",
              "      <td>131.64</td>\n",
              "      <td>79387.47</td>\n",
              "      <td>7.60</td>\n",
              "      <td>47.01</td>\n",
              "      <td>0.49</td>\n",
              "      <td>0.48</td>\n",
              "      <td>0.32</td>\n",
              "      <td>0.18</td>\n",
              "    </tr>\n",
              "    <tr>\n",
              "      <th>min</th>\n",
              "      <td>182210.00</td>\n",
              "      <td>402087.00</td>\n",
              "      <td>10.00</td>\n",
              "      <td>324863.00</td>\n",
              "      <td>1900.00</td>\n",
              "      <td>0.00</td>\n",
              "      <td>0.00</td>\n",
              "      <td>0.00</td>\n",
              "      <td>0.00</td>\n",
              "      <td>0.00</td>\n",
              "    </tr>\n",
              "    <tr>\n",
              "      <th>25%</th>\n",
              "      <td>220063.00</td>\n",
              "      <td>489437.00</td>\n",
              "      <td>101.00</td>\n",
              "      <td>392906.50</td>\n",
              "      <td>2007.00</td>\n",
              "      <td>27.00</td>\n",
              "      <td>0.00</td>\n",
              "      <td>0.00</td>\n",
              "      <td>0.00</td>\n",
              "      <td>0.00</td>\n",
              "    </tr>\n",
              "    <tr>\n",
              "      <th>50%</th>\n",
              "      <td>257636.00</td>\n",
              "      <td>573172.00</td>\n",
              "      <td>163.00</td>\n",
              "      <td>460061.00</td>\n",
              "      <td>2011.00</td>\n",
              "      <td>37.00</td>\n",
              "      <td>0.00</td>\n",
              "      <td>0.00</td>\n",
              "      <td>0.00</td>\n",
              "      <td>0.00</td>\n",
              "    </tr>\n",
              "    <tr>\n",
              "      <th>75%</th>\n",
              "      <td>295489.50</td>\n",
              "      <td>657550.00</td>\n",
              "      <td>343.00</td>\n",
              "      <td>528241.00</td>\n",
              "      <td>2015.00</td>\n",
              "      <td>48.00</td>\n",
              "      <td>1.00</td>\n",
              "      <td>1.00</td>\n",
              "      <td>0.00</td>\n",
              "      <td>0.00</td>\n",
              "    </tr>\n",
              "    <tr>\n",
              "      <th>max</th>\n",
              "      <td>466732.00</td>\n",
              "      <td>1010053.00</td>\n",
              "      <td>495.00</td>\n",
              "      <td>816458.00</td>\n",
              "      <td>2020.00</td>\n",
              "      <td>2019.00</td>\n",
              "      <td>1.00</td>\n",
              "      <td>1.00</td>\n",
              "      <td>1.00</td>\n",
              "      <td>1.00</td>\n",
              "    </tr>\n",
              "  </tbody>\n",
              "</table>\n",
              "</div>\n",
              "      <button class=\"colab-df-convert\" onclick=\"convertToInteractive('df-b82454f9-f5b7-4800-9fe7-12d5e5b66668')\"\n",
              "              title=\"Convert this dataframe to an interactive table.\"\n",
              "              style=\"display:none;\">\n",
              "        \n",
              "  <svg xmlns=\"http://www.w3.org/2000/svg\" height=\"24px\"viewBox=\"0 0 24 24\"\n",
              "       width=\"24px\">\n",
              "    <path d=\"M0 0h24v24H0V0z\" fill=\"none\"/>\n",
              "    <path d=\"M18.56 5.44l.94 2.06.94-2.06 2.06-.94-2.06-.94-.94-2.06-.94 2.06-2.06.94zm-11 1L8.5 8.5l.94-2.06 2.06-.94-2.06-.94L8.5 2.5l-.94 2.06-2.06.94zm10 10l.94 2.06.94-2.06 2.06-.94-2.06-.94-.94-2.06-.94 2.06-2.06.94z\"/><path d=\"M17.41 7.96l-1.37-1.37c-.4-.4-.92-.59-1.43-.59-.52 0-1.04.2-1.43.59L10.3 9.45l-7.72 7.72c-.78.78-.78 2.05 0 2.83L4 21.41c.39.39.9.59 1.41.59.51 0 1.02-.2 1.41-.59l7.78-7.78 2.81-2.81c.8-.78.8-2.07 0-2.86zM5.41 20L4 18.59l7.72-7.72 1.47 1.35L5.41 20z\"/>\n",
              "  </svg>\n",
              "      </button>\n",
              "      \n",
              "  <style>\n",
              "    .colab-df-container {\n",
              "      display:flex;\n",
              "      flex-wrap:wrap;\n",
              "      gap: 12px;\n",
              "    }\n",
              "\n",
              "    .colab-df-convert {\n",
              "      background-color: #E8F0FE;\n",
              "      border: none;\n",
              "      border-radius: 50%;\n",
              "      cursor: pointer;\n",
              "      display: none;\n",
              "      fill: #1967D2;\n",
              "      height: 32px;\n",
              "      padding: 0 0 0 0;\n",
              "      width: 32px;\n",
              "    }\n",
              "\n",
              "    .colab-df-convert:hover {\n",
              "      background-color: #E2EBFA;\n",
              "      box-shadow: 0px 1px 2px rgba(60, 64, 67, 0.3), 0px 1px 3px 1px rgba(60, 64, 67, 0.15);\n",
              "      fill: #174EA6;\n",
              "    }\n",
              "\n",
              "    [theme=dark] .colab-df-convert {\n",
              "      background-color: #3B4455;\n",
              "      fill: #D2E3FC;\n",
              "    }\n",
              "\n",
              "    [theme=dark] .colab-df-convert:hover {\n",
              "      background-color: #434B5C;\n",
              "      box-shadow: 0px 1px 3px 1px rgba(0, 0, 0, 0.15);\n",
              "      filter: drop-shadow(0px 1px 2px rgba(0, 0, 0, 0.3));\n",
              "      fill: #FFFFFF;\n",
              "    }\n",
              "  </style>\n",
              "\n",
              "      <script>\n",
              "        const buttonEl =\n",
              "          document.querySelector('#df-b82454f9-f5b7-4800-9fe7-12d5e5b66668 button.colab-df-convert');\n",
              "        buttonEl.style.display =\n",
              "          google.colab.kernel.accessAllowed ? 'block' : 'none';\n",
              "\n",
              "        async function convertToInteractive(key) {\n",
              "          const element = document.querySelector('#df-b82454f9-f5b7-4800-9fe7-12d5e5b66668');\n",
              "          const dataTable =\n",
              "            await google.colab.kernel.invokeFunction('convertToInteractive',\n",
              "                                                     [key], {});\n",
              "          if (!dataTable) return;\n",
              "\n",
              "          const docLinkHtml = 'Like what you see? Visit the ' +\n",
              "            '<a target=\"_blank\" href=https://colab.research.google.com/notebooks/data_table.ipynb>data table notebook</a>'\n",
              "            + ' to learn more about interactive tables.';\n",
              "          element.innerHTML = '';\n",
              "          dataTable['output_type'] = 'display_data';\n",
              "          await google.colab.output.renderOutput(dataTable, element);\n",
              "          const docLink = document.createElement('div');\n",
              "          docLink.innerHTML = docLinkHtml;\n",
              "          element.appendChild(docLink);\n",
              "        }\n",
              "      </script>\n",
              "    </div>\n",
              "  </div>\n",
              "  "
            ]
          },
          "metadata": {},
          "execution_count": 12
        }
      ]
    },
    {
      "cell_type": "markdown",
      "source": [
        "#**<font color=#FE8202> 4. Pré-Processamento de dados**"
      ],
      "metadata": {
        "id": "JmnU4-cNdb-L"
      }
    },
    {
      "cell_type": "markdown",
      "source": [
        "Após coletar e analisar os dados na etapa anterior, agora é o momento\n",
        "de limpar, transformar e apresentar melhor os dados.\n",
        ">\n",
        "Assim poderemos obter, na próxima etapa, os melhores resultados possíveis nos algoritmos de\n",
        "Machine Learning, ou simplesmente apresentar dados mais confiáveis para os clientes em soluções de\n",
        "business intelligence.\n",
        "\n",
        "\n",
        "---\n",
        "\n"
      ],
      "metadata": {
        "id": "5stImFN7jf26"
      }
    },
    {
      "cell_type": "markdown",
      "source": [
        "Antes de começar, iremos fazer uma copia de segurança do dataframe original."
      ],
      "metadata": {
        "id": "Kk66FTN47tQK"
      }
    },
    {
      "cell_type": "code",
      "source": [
        "#Cópia de segurança\n",
        "acidentes_ori = acidentes.copy()"
      ],
      "metadata": {
        "id": "uXCcMgsx73zM"
      },
      "execution_count": 13,
      "outputs": []
    },
    {
      "cell_type": "code",
      "source": [
        "#Recuperando dados originais\n",
        "#acidentes = acidentes_ori.copy()"
      ],
      "metadata": {
        "id": "ifwzcZhZHGHQ"
      },
      "execution_count": 14,
      "outputs": []
    },
    {
      "cell_type": "markdown",
      "source": [
        "###**<font color=#FE8202> 4.1. Limpeza**"
      ],
      "metadata": {
        "id": "zMzHx9eEy_1b"
      }
    },
    {
      "cell_type": "markdown",
      "source": [
        "####**<font color=#FE8202> 4.1.1 Redundâncias**"
      ],
      "metadata": {
        "id": "7wzCEJ8UzIFr"
      }
    },
    {
      "cell_type": "markdown",
      "source": [
        "Depois da análise de dados inicial, podemos eliminar colunas que não serão necessárias."
      ],
      "metadata": {
        "id": "KOlka-kGzgCd"
      }
    },
    {
      "cell_type": "code",
      "source": [
        "#Excluindo as colunas\n",
        "acidentes.drop([ 'pesid','regional','delegacia','uop', 'idade', 'sexo','latitude','longitude','id_veiculo','marca','ano_fabricacao_veiculo'],\n",
        "\t\taxis=1, inplace = True)"
      ],
      "metadata": {
        "id": "OhG40I87zOmo"
      },
      "execution_count": 15,
      "outputs": []
    },
    {
      "cell_type": "markdown",
      "source": [
        "####**<font color=#FE8202> 4.1.3 Tratamento de Missings**"
      ],
      "metadata": {
        "id": "7islJZ19GSBz"
      }
    },
    {
      "cell_type": "markdown",
      "source": [
        "Missings - São os valores faltantes, e será necessário identifica-los e, em seguida, tratá-los, com um valor adequado."
      ],
      "metadata": {
        "id": "Mo2bDEbEGX96"
      }
    },
    {
      "cell_type": "code",
      "source": [
        "#Verificando o percentual de registros nulos\n",
        "(acidentes.isnull().sum()/acidentes.shape[0]*100).round(2)"
      ],
      "metadata": {
        "colab": {
          "base_uri": "https://localhost:8080/"
        },
        "id": "lvT4a2dgGhSd",
        "outputId": "06e26b8c-5f0f-459c-94c0-fea50a81ee75"
      },
      "execution_count": 16,
      "outputs": [
        {
          "output_type": "execute_result",
          "data": {
            "text/plain": [
              "id                        0.00\n",
              "data_inversa              0.00\n",
              "dia_semana                0.00\n",
              "horario                   0.00\n",
              "uf                        0.00\n",
              "br                        0.21\n",
              "km                        0.21\n",
              "municipio                 0.00\n",
              "causa_acidente            0.00\n",
              "tipo_acidente             0.01\n",
              "classificacao_acidente    0.00\n",
              "fase_dia                  0.00\n",
              "sentido_via               0.00\n",
              "condicao_metereologica    0.00\n",
              "tipo_pista                0.00\n",
              "tracado_via               0.00\n",
              "uso_solo                  0.00\n",
              "tipo_veiculo              0.00\n",
              "tipo_envolvido            0.00\n",
              "estado_fisico             0.00\n",
              "ilesos                    0.00\n",
              "feridos_leves             0.00\n",
              "feridos_graves            0.00\n",
              "mortos                    0.00\n",
              "dtype: float64"
            ]
          },
          "metadata": {},
          "execution_count": 16
        }
      ]
    },
    {
      "cell_type": "markdown",
      "source": [
        "Os atributos nulos, somados, representam 0,45% do dataset.\n",
        ">\n",
        "É praticamente imperceptível na visualização matricial da nulidade do dataset."
      ],
      "metadata": {
        "id": "-TZaURCDIHDd"
      }
    },
    {
      "cell_type": "code",
      "source": [
        "ms.matrix(acidentes)"
      ],
      "metadata": {
        "colab": {
          "base_uri": "https://localhost:8080/",
          "height": 485
        },
        "id": "7SlYc4IuKJ9Z",
        "outputId": "bdf11021-c406-4ac4-c740-50c27cc41b33"
      },
      "execution_count": 17,
      "outputs": [
        {
          "output_type": "execute_result",
          "data": {
            "text/plain": [
              "<Axes: >"
            ]
          },
          "metadata": {},
          "execution_count": 17
        },
        {
          "output_type": "display_data",
          "data": {
            "text/plain": [
              "<Figure size 2500x1000 with 2 Axes>"
            ],
            "image/png": "[encoded data removed]"
          },
          "metadata": {}
        }
      ]
    },
    {
      "cell_type": "markdown",
      "source": [
        "Mas, mesmo assim, não iremos excluir esses registros, para os atributos KM e BR. Iremos substituir por zero.\n",
        ">\n",
        "E o atributo tipo_acidente iremos substituir por 'Não Informado'."
      ],
      "metadata": {
        "id": "yb6K4csXKyjf"
      }
    },
    {
      "cell_type": "code",
      "source": [
        "# substituindo os NaN de KM e BR por 0\n",
        "acidentes['km'].fillna(0, inplace=True)\n",
        "acidentes['br'].fillna(0, inplace=True)\n",
        "\n",
        "# substituindo os NaN de tipo_acidente por 'Não Informado'\n",
        "acidentes['tipo_acidente'].fillna('Não Informado', inplace=True)"
      ],
      "metadata": {
        "id": "zxcZltTKKz2w"
      },
      "execution_count": 18,
      "outputs": []
    },
    {
      "cell_type": "code",
      "source": [
        "# Agora que o atributo BR não tem missings, iremos converter de float para int\n",
        "acidentes['br'] = acidentes['br'].astype(int)"
      ],
      "metadata": {
        "id": "B5CJ82uwCVyZ"
      },
      "execution_count": 19,
      "outputs": []
    },
    {
      "cell_type": "markdown",
      "source": [
        "Pronto, sem missings."
      ],
      "metadata": {
        "id": "VfajpPJ0LlEk"
      }
    },
    {
      "cell_type": "code",
      "source": [
        "acidentes.isnull().sum()"
      ],
      "metadata": {
        "colab": {
          "base_uri": "https://localhost:8080/"
        },
        "id": "6-_-TANo9p3y",
        "outputId": "f3d684a6-a96c-4692-fb8b-448dae477c5e"
      },
      "execution_count": 20,
      "outputs": [
        {
          "output_type": "execute_result",
          "data": {
            "text/plain": [
              "id                        0\n",
              "data_inversa              0\n",
              "dia_semana                0\n",
              "horario                   0\n",
              "uf                        0\n",
              "br                        0\n",
              "km                        0\n",
              "municipio                 0\n",
              "causa_acidente            0\n",
              "tipo_acidente             0\n",
              "classificacao_acidente    0\n",
              "fase_dia                  0\n",
              "sentido_via               0\n",
              "condicao_metereologica    0\n",
              "tipo_pista                0\n",
              "tracado_via               0\n",
              "uso_solo                  0\n",
              "tipo_veiculo              0\n",
              "tipo_envolvido            0\n",
              "estado_fisico             0\n",
              "ilesos                    0\n",
              "feridos_leves             0\n",
              "feridos_graves            0\n",
              "mortos                    0\n",
              "dtype: int64"
            ]
          },
          "metadata": {},
          "execution_count": 20
        }
      ]
    },
    {
      "cell_type": "markdown",
      "source": [
        "><font color=#FE8202>KM"
      ],
      "metadata": {
        "id": "INp-UX5Y1x_j"
      }
    },
    {
      "cell_type": "markdown",
      "source": [
        "Vamos transformar esse atributo para float.\n",
        ">\n",
        "Para isso, precismos substituir a virgula por ponto, só assim poderemos converter para float.\n"
      ],
      "metadata": {
        "id": "6aRbRbec11ZW"
      }
    },
    {
      "cell_type": "code",
      "source": [
        "#Substituindo virgula por ponto\n",
        "acidentes.km =  acidentes.km.str.replace(',','.')\n",
        "\n",
        "#Convertendo para float\n",
        "acidentes.km =  acidentes.km.astype('float')"
      ],
      "metadata": {
        "id": "dh7PYNDe10gE"
      },
      "execution_count": 21,
      "outputs": []
    },
    {
      "cell_type": "code",
      "source": [
        "acidentes['km'].dtypes"
      ],
      "metadata": {
        "colab": {
          "base_uri": "https://localhost:8080/"
        },
        "id": "Bpn3IloL3ejv",
        "outputId": "b15d7338-6157-444e-a885-741e7b8b2902"
      },
      "execution_count": 22,
      "outputs": [
        {
          "output_type": "execute_result",
          "data": {
            "text/plain": [
              "dtype('float64')"
            ]
          },
          "metadata": {},
          "execution_count": 22
        }
      ]
    },
    {
      "cell_type": "markdown",
      "source": [
        "---"
      ],
      "metadata": {
        "id": "rhkLdimfCZL1"
      }
    },
    {
      "cell_type": "markdown",
      "source": [
        "###**<font color=#FE8202> 4.2 Criação de recursos**"
      ],
      "metadata": {
        "id": "q6b_ustgHpNn"
      }
    },
    {
      "cell_type": "markdown",
      "source": [
        "Também conhecida como ***feature engineering***, a criação de recursos consiste em criar, a partir dos atributos originais, um conjunto de atributos que capture informações importantes."
      ],
      "metadata": {
        "id": "4uKBshF4Hv_g"
      }
    },
    {
      "cell_type": "markdown",
      "source": [
        "####**<font color=#FE8202> 4.2.2 Construção de recursos**"
      ],
      "metadata": {
        "id": "71IuPBp3Wsjc"
      }
    },
    {
      "cell_type": "markdown",
      "source": [
        "><font color=#FE8202>Data e tempo"
      ],
      "metadata": {
        "id": "1o4oAyYGfmNX"
      }
    },
    {
      "cell_type": "markdown",
      "source": [
        "A partir do atributo data_inversa e horario, iremos construir atributos derivados dessa junção, que irá facilitar a visualização dos dados. São eles:\n",
        ">\n",
        "ano = ano do acidente\n",
        ">\n",
        "mes = mês do acidente\n",
        ">\n",
        "hora = extrai \"Hora\" do horario completo HH:MM:SS\n",
        ">\n",
        "ano_mes = ano e mês do acidente\n",
        ">\n",
        "semana = valor inteiro que representa o dia da semana"
      ],
      "metadata": {
        "id": "ofuoI1_mWzqK"
      }
    },
    {
      "cell_type": "code",
      "source": [
        "#criando o atributo data_hora, concatenando data_inversa com horario\n",
        "acidentes['data_hora'] = acidentes['data_inversa'].map(str) + ' ' + acidentes['horario']\n",
        "\n",
        "#convertendo para datetime\n",
        "acidentes['data_hora'] = pd.to_datetime(acidentes['data_hora'])\n",
        "\n",
        "#Extraindo ano, mes, hora, ano_mes e semana\n",
        "acidentes['ano'] = acidentes['data_hora'].dt.year\n",
        "acidentes['mes'] = acidentes['data_hora'].dt.month\n",
        "acidentes['hora'] = acidentes['data_hora'].dt.hour\n",
        "acidentes['ano_mes'] = acidentes['data_hora'].dt.strftime('%Y-%m')\n",
        "acidentes['semana'] = acidentes['data_hora'].dt.weekday"
      ],
      "metadata": {
        "id": "DH3bVV-VQY4_"
      },
      "execution_count": 23,
      "outputs": []
    },
    {
      "cell_type": "code",
      "source": [
        "#excluir as colunas que não iremos mais utilizar, evitando a redundância de informação\n",
        "acidentes.drop([ 'horario','dia_semana','data_hora'],\taxis=1, inplace = True)"
      ],
      "metadata": {
        "id": "BbkbTGmDZdT1"
      },
      "execution_count": 24,
      "outputs": []
    },
    {
      "cell_type": "markdown",
      "source": [
        "\n",
        "\n",
        "---\n",
        "\n"
      ],
      "metadata": {
        "id": "hhsw3NDHpxGW"
      }
    },
    {
      "cell_type": "markdown",
      "source": [
        "###**<font color=#FE8202> 4.3 Redução da dimensionalidade**"
      ],
      "metadata": {
        "id": "OaYC6QnXwOec"
      }
    },
    {
      "cell_type": "markdown",
      "source": [
        "Os datasets podem ter muitas características, e muitos algoritmos de Machine Learning funcionam melhor se a dimensionalidade for menor.\n",
        ">\n",
        "Iremos utilizar as técnicas a seguir."
      ],
      "metadata": {
        "id": "o7pK_YSxwhTq"
      }
    },
    {
      "cell_type": "markdown",
      "source": [
        "####**<font color=#FE8202> 4.3.1 Agregação**\n"
      ],
      "metadata": {
        "id": "4Yx0EaQ1MJqb"
      }
    },
    {
      "cell_type": "markdown",
      "source": [
        "Também pode ser considerada uma técnica de redução de dimensionalidade, pois reduz o número de colunas do dataset.\n",
        ">\n",
        "O nosso dataset, detalha o acidente por pessoas envolvidas, ou seja, para um registro de acidente(BO), posso ter mais de uma linha, prepresentando cada pessoa.\n",
        ">\n",
        "Vamos criar um dataset agregado com a visão de quantidade de acidentes, agrupandos os atributos que não se repetem.\n",
        ">\n",
        "Assim, será possivel fazer analises na visão de acidente."
      ],
      "metadata": {
        "id": "eYCwHH6rMQjI"
      }
    },
    {
      "cell_type": "code",
      "source": [
        "# Groupby\n",
        "acidentes_agr = acidentes.groupby(['id','data_inversa','ano','mes','hora','ano_mes','semana','uf','br','km'\n",
        "                                    ,'municipio','causa_acidente','tipo_acidente','classificacao_acidente','fase_dia','sentido_via'\n",
        "                                    ,'condicao_metereologica','tipo_pista','tracado_via','uso_solo'\n",
        "                                    ])['ilesos','feridos_leves','feridos_graves','mortos'].sum().reset_index()"
      ],
      "metadata": {
        "id": "m9btUl3_NKlH"
      },
      "execution_count": 25,
      "outputs": []
    },
    {
      "cell_type": "code",
      "source": [
        "# Quantidade de registros duplicados\n",
        "# subset - agrupa as colunas chaves\n",
        "# keep='first' - Se primeiro, considera o primeiro valor como único e o resto como duplicado\n",
        "\n",
        "acidentes_agr.duplicated(subset=['id'], keep='first').sum()"
      ],
      "metadata": {
        "colab": {
          "base_uri": "https://localhost:8080/"
        },
        "id": "AOfZyY6lNXzD",
        "outputId": "b040d08b-a79c-45a9-cd25-bbb8d83203f1"
      },
      "execution_count": 26,
      "outputs": [
        {
          "output_type": "execute_result",
          "data": {
            "text/plain": [
              "0"
            ]
          },
          "metadata": {},
          "execution_count": 26
        }
      ]
    },
    {
      "cell_type": "code",
      "source": [
        "#Cada linha é um registro de ocorrencia\n",
        "#Criaremos o atributo \"acidente\", quantidade de acidentes\n",
        "acidentes_agr['acidente'] = 1"
      ],
      "metadata": {
        "id": "9lrgRIpLOJS7"
      },
      "execution_count": 27,
      "outputs": []
    },
    {
      "cell_type": "markdown",
      "source": [
        "><font color=#FE8202>Atributo Alvo"
      ],
      "metadata": {
        "id": "LBAg3-jTgxFj"
      }
    },
    {
      "cell_type": "markdown",
      "source": [
        "Como o nosso problema é de aprendizado de máquina supervisionado, pois a partir de resultados conhecidos, posso usar aquilo que já sei para prever cenários que ainda não sei, precisamos de uma variável alvo.\n",
        ">\n",
        "O dataframe de acidentes, já tem um atributo chamado classificação_acidente, com os seguintes valores: Sem vítmas, Com vítimas feridas e Com vítimas fatais.\n",
        ">\n",
        "Dessa forma podemos criar um atributo binário chamado “risco”, onde classifico os valores “Com vítimas feridas” e “Com vítimas fatais” com 1 e Sem vítimas com 0.\n",
        "\n"
      ],
      "metadata": {
        "id": "jClWLKLfg3SB"
      }
    },
    {
      "cell_type": "code",
      "source": [
        "# Criando o atributo risco, aplicando a função lambda em classificacao_acidente\n",
        "acidentes_agr['risco'] = acidentes_agr.classificacao_acidente.apply(\n",
        "                    lambda x: 1 if x in ['Com Vítimas Feridas', 'Com Vítimas Fatais'] else 0\n",
        "                    )"
      ],
      "metadata": {
        "id": "VsXVwTc_ofSe"
      },
      "execution_count": 28,
      "outputs": []
    },
    {
      "cell_type": "markdown",
      "source": [
        "Para melhorar a performance das analises dos algoritmos de Machine Leraning, vamos reduzir o dataset, utilizando a UF com mais acidentes em Rodovias Federais.\n",
        ">\n",
        "No próximo passo iremos verificar em qual UF ocorrem mais acidentes.\n"
      ],
      "metadata": {
        "id": "x1cN9x7byFfo"
      }
    },
    {
      "cell_type": "code",
      "source": [
        "#criando dataframe para construir grafico\n",
        "gr_ac_uf =  acidentes_agr.groupby([\"uf\"])['acidente','ilesos','feridos_leves','feridos_graves','mortos'].sum().reset_index()\n",
        "#Ordenando\n",
        "gr_ac_uf = gr_ac_uf.sort_values('acidente', ascending=False)"
      ],
      "metadata": {
        "id": "0ldenu0MVVC8"
      },
      "execution_count": 29,
      "outputs": []
    },
    {
      "cell_type": "code",
      "source": [
        "fig0 = px.bar(gr_ac_uf, x=\"uf\", y=\"acidente\",\n",
        "             #color='Score',\n",
        "             template=\"plotly_dark\",\n",
        "             text_auto=True,\n",
        "             height=500, #altura\n",
        "             width=1000,  #largura\n",
        "             color_discrete_sequence=[\"#FE8202\"],\n",
        "             hover_data=['ilesos','feridos_leves','feridos_graves','mortos'],\n",
        "             labels=dict(uf=\" UF\", acidente = \"Acidentes\", pessoas='Pessoas', ilesos='Ilesos', feridos_leves='Feridos Leves', feridos_graves='Feridos Graves', mortos='Óbitos'),\n",
        "\n",
        "             title = \"Acidentes de trânsito por UF\")\n",
        "fig0.update_traces(textposition='outside')\n",
        "fig0.update_yaxes(showticklabels=True)\n",
        "fig0.update_xaxes(showgrid=False)\n",
        "fig0.update_yaxes(showgrid=True)\n",
        "fig0.update_layout(xaxis = dict(linecolor='rgba(0,0,0,1)', # adicionando linha em y = 0\n",
        "                                tickmode = 'array', # alterando o modo dos ticks\n",
        "                                tickvals = gr_ac_uf['uf'], # setando a posição do tick de x\n",
        "                                ticktext = gr_ac_uf['uf']),# setando o valor do tick de x\n",
        "                                title_x = 0.5) #centralizando o titulo\n",
        "fig0.show()"
      ],
      "metadata": {
        "colab": {
          "base_uri": "https://localhost:8080/",
          "height": 537
        },
        "id": "CNhhEsk-VYig",
        "outputId": "9789d461-51ed-41f0-8fe7-fb68f6739aca"
      },
      "execution_count": 30,
      "outputs": [
        {
          "output_type": "display_data",
          "data": {
            "text/html": [
              "<html>\n",
              "<head><meta charset=\"utf-8\" /></head>\n",
              "<body>\n",
              "    <div>            <script src=\"https://cdnjs.cloudflare.com/ajax/libs/mathjax/2.7.5/MathJax.js?config=TeX-AMS-MML_SVG\"></script><script type=\"text/javascript\">if (window.MathJax && window.MathJax.Hub && window.MathJax.Hub.Config) {window.MathJax.Hub.Config({SVG: {font: \"STIX-Web\"}});}</script>                <script type=\"text/javascript\">window.PlotlyConfig = {MathJaxConfig: 'local'};</script>\n",
              "        <script src=\"https://cdn.plot.ly/plotly-2.18.2.min.js\"></script>                <div id=\"d87856c8-f743-425a-a12a-360705bace47\" class=\"plotly-graph-div\" style=\"height:500px; width:1000px;\"></div>            <script type=\"text/javascript\">                                    window.PLOTLYENV=window.PLOTLYENV || {};                                    if (document.getElementById(\"d87856c8-f743-425a-a12a-360705bace47\")) {                    Plotly.newPlot(                        \"d87856c8-f743-425a-a12a-360705bace47\",                        [{\"alignmentgroup\":\"True\",\"customdata\":[[15611,16928,4952,1396],[15133,14243,3901,785],[15094,12021,3990,1027],[8974,8110,1892,626],[9598,8036,2074,538],[8599,7590,1378,444],[7023,6328,2072,984],[6593,5882,1833,546],[4650,4387,2049,289],[5024,3983,1550,626],[4485,3706,1007,458],[3079,2603,1119,333],[3402,2576,882,170],[2955,2633,823,263],[2572,2303,933,232],[2580,2303,858,190],[2403,1796,936,307],[2302,1584,895,441],[2468,1988,384,91],[1921,1475,530,260],[1145,947,487,180],[1041,1027,368,104],[1059,917,352,177],[445,494,177,37],[474,441,135,65],[286,271,89,21],[246,227,63,34]],\"hovertemplate\":\" UF=%{x}<br>Acidentes=%{y}<br>Ilesos=%{customdata[0]}<br>Feridos Leves=%{customdata[1]}<br>Feridos Graves=%{customdata[2]}<br>\\u00d3bitos=%{customdata[3]}<extra></extra>\",\"legendgroup\":\"\",\"marker\":{\"color\":\"#FE8202\",\"pattern\":{\"shape\":\"\"}},\"name\":\"\",\"offsetgroup\":\"\",\"orientation\":\"v\",\"showlegend\":false,\"textposition\":\"outside\",\"texttemplate\":\"%{y}\",\"x\":[\"MG\",\"SC\",\"PR\",\"RJ\",\"RS\",\"SP\",\"BA\",\"GO\",\"ES\",\"PE\",\"MT\",\"CE\",\"RO\",\"MS\",\"PB\",\"RN\",\"PI\",\"MA\",\"DF\",\"PA\",\"AL\",\"SE\",\"TO\",\"AC\",\"RR\",\"AP\",\"AM\"],\"xaxis\":\"x\",\"y\":[17097,15638,14885,8832,8738,8406,6939,6571,5380,5289,4328,3262,3011,2967,2960,2777,2548,2231,2126,1782,1258,1186,1108,556,481,280,238],\"yaxis\":\"y\",\"type\":\"bar\"}],                        {\"template\":{\"data\":{\"barpolar\":[{\"marker\":{\"line\":{\"color\":\"rgb(17,17,17)\",\"width\":0.5},\"pattern\":{\"fillmode\":\"overlay\",\"size\":10,\"solidity\":0.2}},\"type\":\"barpolar\"}],\"bar\":[{\"error_x\":{\"color\":\"#f2f5fa\"},\"error_y\":{\"color\":\"#f2f5fa\"},\"marker\":{\"line\":{\"color\":\"rgb(17,17,17)\",\"width\":0.5},\"pattern\":{\"fillmode\":\"overlay\",\"size\":10,\"solidity\":0.2}},\"type\":\"bar\"}],\"carpet\":[{\"aaxis\":{\"endlinecolor\":\"#A2B1C6\",\"gridcolor\":\"#506784\",\"linecolor\":\"#506784\",\"minorgridcolor\":\"#506784\",\"startlinecolor\":\"#A2B1C6\"},\"baxis\":{\"endlinecolor\":\"#A2B1C6\",\"gridcolor\":\"#506784\",\"linecolor\":\"#506784\",\"minorgridcolor\":\"#506784\",\"startlinecolor\":\"#A2B1C6\"},\"type\":\"carpet\"}],\"choropleth\":[{\"colorbar\":{\"outlinewidth\":0,\"ticks\":\"\"},\"type\":\"choropleth\"}],\"contourcarpet\":[{\"colorbar\":{\"outlinewidth\":0,\"ticks\":\"\"},\"type\":\"contourcarpet\"}],\"contour\":[{\"colorbar\":{\"outlinewidth\":0,\"ticks\":\"\"},\"colorscale\":[[0.0,\"#0d0887\"],[0.1111111111111111,\"#46039f\"],[0.2222222222222222,\"#7201a8\"],[0.3333333333333333,\"#9c179e\"],[0.4444444444444444,\"#bd3786\"],[0.5555555555555556,\"#d8576b\"],[0.6666666666666666,\"#ed7953\"],[0.7777777777777778,\"#fb9f3a\"],[0.8888888888888888,\"#fdca26\"],[1.0,\"#f0f921\"]],\"type\":\"contour\"}],\"heatmapgl\":[{\"colorbar\":{\"outlinewidth\":0,\"ticks\":\"\"},\"colorscale\":[[0.0,\"#0d0887\"],[0.1111111111111111,\"#46039f\"],[0.2222222222222222,\"#7201a8\"],[0.3333333333333333,\"#9c179e\"],[0.4444444444444444,\"#bd3786\"],[0.5555555555555556,\"#d8576b\"],[0.6666666666666666,\"#ed7953\"],[0.7777777777777778,\"#fb9f3a\"],[0.8888888888888888,\"#fdca26\"],[1.0,\"#f0f921\"]],\"type\":\"heatmapgl\"}],\"heatmap\":[{\"colorbar\":{\"outlinewidth\":0,\"ticks\":\"\"},\"colorscale\":[[0.0,\"#0d0887\"],[0.1111111111111111,\"#46039f\"],[0.2222222222222222,\"#7201a8\"],[0.3333333333333333,\"#9c179e\"],[0.4444444444444444,\"#bd3786\"],[0.5555555555555556,\"#d8576b\"],[0.6666666666666666,\"#ed7953\"],[0.7777777777777778,\"#fb9f3a\"],[0.8888888888888888,\"#fdca26\"],[1.0,\"#f0f921\"]],\"type\":\"heatmap\"}],\"histogram2dcontour\":[{\"colorbar\":{\"outlinewidth\":0,\"ticks\":\"\"},\"colorscale\":[[0.0,\"#0d0887\"],[0.1111111111111111,\"#46039f\"],[0.2222222222222222,\"#7201a8\"],[0.3333333333333333,\"#9c179e\"],[0.4444444444444444,\"#bd3786\"],[0.5555555555555556,\"#d8576b\"],[0.6666666666666666,\"#ed7953\"],[0.7777777777777778,\"#fb9f3a\"],[0.8888888888888888,\"#fdca26\"],[1.0,\"#f0f921\"]],\"type\":\"histogram2dcontour\"}],\"histogram2d\":[{\"colorbar\":{\"outlinewidth\":0,\"ticks\":\"\"},\"colorscale\":[[0.0,\"#0d0887\"],[0.1111111111111111,\"#46039f\"],[0.2222222222222222,\"#7201a8\"],[0.3333333333333333,\"#9c179e\"],[0.4444444444444444,\"#bd3786\"],[0.5555555555555556,\"#d8576b\"],[0.6666666666666666,\"#ed7953\"],[0.7777777777777778,\"#fb9f3a\"],[0.8888888888888888,\"#fdca26\"],[1.0,\"#f0f921\"]],\"type\":\"histogram2d\"}],\"histogram\":[{\"marker\":{\"pattern\":{\"fillmode\":\"overlay\",\"size\":10,\"solidity\":0.2}},\"type\":\"histogram\"}],\"mesh3d\":[{\"colorbar\":{\"outlinewidth\":0,\"ticks\":\"\"},\"type\":\"mesh3d\"}],\"parcoords\":[{\"line\":{\"colorbar\":{\"outlinewidth\":0,\"ticks\":\"\"}},\"type\":\"parcoords\"}],\"pie\":[{\"automargin\":true,\"type\":\"pie\"}],\"scatter3d\":[{\"line\":{\"colorbar\":{\"outlinewidth\":0,\"ticks\":\"\"}},\"marker\":{\"colorbar\":{\"outlinewidth\":0,\"ticks\":\"\"}},\"type\":\"scatter3d\"}],\"scattercarpet\":[{\"marker\":{\"colorbar\":{\"outlinewidth\":0,\"ticks\":\"\"}},\"type\":\"scattercarpet\"}],\"scattergeo\":[{\"marker\":{\"colorbar\":{\"outlinewidth\":0,\"ticks\":\"\"}},\"type\":\"scattergeo\"}],\"scattergl\":[{\"marker\":{\"line\":{\"color\":\"#283442\"}},\"type\":\"scattergl\"}],\"scattermapbox\":[{\"marker\":{\"colorbar\":{\"outlinewidth\":0,\"ticks\":\"\"}},\"type\":\"scattermapbox\"}],\"scatterpolargl\":[{\"marker\":{\"colorbar\":{\"outlinewidth\":0,\"ticks\":\"\"}},\"type\":\"scatterpolargl\"}],\"scatterpolar\":[{\"marker\":{\"colorbar\":{\"outlinewidth\":0,\"ticks\":\"\"}},\"type\":\"scatterpolar\"}],\"scatter\":[{\"marker\":{\"line\":{\"color\":\"#283442\"}},\"type\":\"scatter\"}],\"scatterternary\":[{\"marker\":{\"colorbar\":{\"outlinewidth\":0,\"ticks\":\"\"}},\"type\":\"scatterternary\"}],\"surface\":[{\"colorbar\":{\"outlinewidth\":0,\"ticks\":\"\"},\"colorscale\":[[0.0,\"#0d0887\"],[0.1111111111111111,\"#46039f\"],[0.2222222222222222,\"#7201a8\"],[0.3333333333333333,\"#9c179e\"],[0.4444444444444444,\"#bd3786\"],[0.5555555555555556,\"#d8576b\"],[0.6666666666666666,\"#ed7953\"],[0.7777777777777778,\"#fb9f3a\"],[0.8888888888888888,\"#fdca26\"],[1.0,\"#f0f921\"]],\"type\":\"surface\"}],\"table\":[{\"cells\":{\"fill\":{\"color\":\"#506784\"},\"line\":{\"color\":\"rgb(17,17,17)\"}},\"header\":{\"fill\":{\"color\":\"#2a3f5f\"},\"line\":{\"color\":\"rgb(17,17,17)\"}},\"type\":\"table\"}]},\"layout\":{\"annotationdefaults\":{\"arrowcolor\":\"#f2f5fa\",\"arrowhead\":0,\"arrowwidth\":1},\"autotypenumbers\":\"strict\",\"coloraxis\":{\"colorbar\":{\"outlinewidth\":0,\"ticks\":\"\"}},\"colorscale\":{\"diverging\":[[0,\"#8e0152\"],[0.1,\"#c51b7d\"],[0.2,\"#de77ae\"],[0.3,\"#f1b6da\"],[0.4,\"#fde0ef\"],[0.5,\"#f7f7f7\"],[0.6,\"#e6f5d0\"],[0.7,\"#b8e186\"],[0.8,\"#7fbc41\"],[0.9,\"#4d9221\"],[1,\"#276419\"]],\"sequential\":[[0.0,\"#0d0887\"],[0.1111111111111111,\"#46039f\"],[0.2222222222222222,\"#7201a8\"],[0.3333333333333333,\"#9c179e\"],[0.4444444444444444,\"#bd3786\"],[0.5555555555555556,\"#d8576b\"],[0.6666666666666666,\"#ed7953\"],[0.7777777777777778,\"#fb9f3a\"],[0.8888888888888888,\"#fdca26\"],[1.0,\"#f0f921\"]],\"sequentialminus\":[[0.0,\"#0d0887\"],[0.1111111111111111,\"#46039f\"],[0.2222222222222222,\"#7201a8\"],[0.3333333333333333,\"#9c179e\"],[0.4444444444444444,\"#bd3786\"],[0.5555555555555556,\"#d8576b\"],[0.6666666666666666,\"#ed7953\"],[0.7777777777777778,\"#fb9f3a\"],[0.8888888888888888,\"#fdca26\"],[1.0,\"#f0f921\"]]},\"colorway\":[\"#636efa\",\"#EF553B\",\"#00cc96\",\"#ab63fa\",\"#FFA15A\",\"#19d3f3\",\"#FF6692\",\"#B6E880\",\"#FF97FF\",\"#FECB52\"],\"font\":{\"color\":\"#f2f5fa\"},\"geo\":{\"bgcolor\":\"rgb(17,17,17)\",\"lakecolor\":\"rgb(17,17,17)\",\"landcolor\":\"rgb(17,17,17)\",\"showlakes\":true,\"showland\":true,\"subunitcolor\":\"#506784\"},\"hoverlabel\":{\"align\":\"left\"},\"hovermode\":\"closest\",\"mapbox\":{\"style\":\"dark\"},\"paper_bgcolor\":\"rgb(17,17,17)\",\"plot_bgcolor\":\"rgb(17,17,17)\",\"polar\":{\"angularaxis\":{\"gridcolor\":\"#506784\",\"linecolor\":\"#506784\",\"ticks\":\"\"},\"bgcolor\":\"rgb(17,17,17)\",\"radialaxis\":{\"gridcolor\":\"#506784\",\"linecolor\":\"#506784\",\"ticks\":\"\"}},\"scene\":{\"xaxis\":{\"backgroundcolor\":\"rgb(17,17,17)\",\"gridcolor\":\"#506784\",\"gridwidth\":2,\"linecolor\":\"#506784\",\"showbackground\":true,\"ticks\":\"\",\"zerolinecolor\":\"#C8D4E3\"},\"yaxis\":{\"backgroundcolor\":\"rgb(17,17,17)\",\"gridcolor\":\"#506784\",\"gridwidth\":2,\"linecolor\":\"#506784\",\"showbackground\":true,\"ticks\":\"\",\"zerolinecolor\":\"#C8D4E3\"},\"zaxis\":{\"backgroundcolor\":\"rgb(17,17,17)\",\"gridcolor\":\"#506784\",\"gridwidth\":2,\"linecolor\":\"#506784\",\"showbackground\":true,\"ticks\":\"\",\"zerolinecolor\":\"#C8D4E3\"}},\"shapedefaults\":{\"line\":{\"color\":\"#f2f5fa\"}},\"sliderdefaults\":{\"bgcolor\":\"#C8D4E3\",\"bordercolor\":\"rgb(17,17,17)\",\"borderwidth\":1,\"tickwidth\":0},\"ternary\":{\"aaxis\":{\"gridcolor\":\"#506784\",\"linecolor\":\"#506784\",\"ticks\":\"\"},\"baxis\":{\"gridcolor\":\"#506784\",\"linecolor\":\"#506784\",\"ticks\":\"\"},\"bgcolor\":\"rgb(17,17,17)\",\"caxis\":{\"gridcolor\":\"#506784\",\"linecolor\":\"#506784\",\"ticks\":\"\"}},\"title\":{\"x\":0.05},\"updatemenudefaults\":{\"bgcolor\":\"#506784\",\"borderwidth\":0},\"xaxis\":{\"automargin\":true,\"gridcolor\":\"#283442\",\"linecolor\":\"#506784\",\"ticks\":\"\",\"title\":{\"standoff\":15},\"zerolinecolor\":\"#283442\",\"zerolinewidth\":2},\"yaxis\":{\"automargin\":true,\"gridcolor\":\"#283442\",\"linecolor\":\"#506784\",\"ticks\":\"\",\"title\":{\"standoff\":15},\"zerolinecolor\":\"#283442\",\"zerolinewidth\":2}}},\"xaxis\":{\"anchor\":\"y\",\"domain\":[0.0,1.0],\"title\":{\"text\":\" UF\"},\"showgrid\":false,\"linecolor\":\"rgba(0,0,0,1)\",\"tickmode\":\"array\",\"tickvals\":[\"MG\",\"SC\",\"PR\",\"RJ\",\"RS\",\"SP\",\"BA\",\"GO\",\"ES\",\"PE\",\"MT\",\"CE\",\"RO\",\"MS\",\"PB\",\"RN\",\"PI\",\"MA\",\"DF\",\"PA\",\"AL\",\"SE\",\"TO\",\"AC\",\"RR\",\"AP\",\"AM\"],\"ticktext\":[\"MG\",\"SC\",\"PR\",\"RJ\",\"RS\",\"SP\",\"BA\",\"GO\",\"ES\",\"PE\",\"MT\",\"CE\",\"RO\",\"MS\",\"PB\",\"RN\",\"PI\",\"MA\",\"DF\",\"PA\",\"AL\",\"SE\",\"TO\",\"AC\",\"RR\",\"AP\",\"AM\"]},\"yaxis\":{\"anchor\":\"x\",\"domain\":[0.0,1.0],\"title\":{\"text\":\"Acidentes\"},\"showticklabels\":true,\"showgrid\":true},\"legend\":{\"tracegroupgap\":0},\"title\":{\"text\":\"Acidentes de tr\\u00e2nsito por UF\",\"x\":0.5},\"barmode\":\"relative\",\"height\":500,\"width\":1000},                        {\"responsive\": true}                    ).then(function(){\n",
              "                            \n",
              "var gd = document.getElementById('d87856c8-f743-425a-a12a-360705bace47');\n",
              "var x = new MutationObserver(function (mutations, observer) {{\n",
              "        var display = window.getComputedStyle(gd).display;\n",
              "        if (!display || display === 'none') {{\n",
              "            console.log([gd, 'removed!']);\n",
              "            Plotly.purge(gd);\n",
              "            observer.disconnect();\n",
              "        }}\n",
              "}});\n",
              "\n",
              "// Listen for the removal of the full notebook cells\n",
              "var notebookContainer = gd.closest('#notebook-container');\n",
              "if (notebookContainer) {{\n",
              "    x.observe(notebookContainer, {childList: true});\n",
              "}}\n",
              "\n",
              "// Listen for the clearing of the current output cell\n",
              "var outputEl = gd.closest('.output');\n",
              "if (outputEl) {{\n",
              "    x.observe(outputEl, {childList: true});\n",
              "}}\n",
              "\n",
              "                        })                };                            </script>        </div>\n",
              "</body>\n",
              "</html>"
            ]
          },
          "metadata": {}
        }
      ]
    },
    {
      "cell_type": "markdown",
      "source": [
        "A unidade federativa com mais acidentes é Minas Gerais.\n",
        ">\n",
        "Agora será criado um dataset apenas com esses registros."
      ],
      "metadata": {
        "id": "mr2-UbV4gb4k"
      }
    },
    {
      "cell_type": "code",
      "source": [
        "acidentes_agr_uf_mg = acidentes_agr[(acidentes_agr['uf'] == 'MG')].copy()"
      ],
      "metadata": {
        "id": "b3DdVbLZg_tQ"
      },
      "execution_count": 31,
      "outputs": []
    },
    {
      "cell_type": "markdown",
      "source": [
        "####**<font color=#FE8202> 4.3.2 Feature Selection**"
      ],
      "metadata": {
        "id": "KSwW51VRwimw"
      }
    },
    {
      "cell_type": "markdown",
      "source": [
        "A seleção de características, ou feature selection, consiste em usar apenas um subconjunto das características originais, desconsiderando as características redundantes ou irrelevantes.\n",
        ">\n",
        "Existem diversos métodos, onde um algoritmo pode decidir quais atributos usar e quais ignorar, ou um especialista de negócios toma a decisão de quais atributos selecionar.\n",
        ">\n",
        "Nessa etapa vamos utilizar duas técnicas, para verificar a importancia de cada atributo, e assim,selecionar os melhores atributos, para que possa ser utilizado para construir um modelo de **Machine Learnig**."
      ],
      "metadata": {
        "id": "Yb1CVk6lF-Gz"
      }
    },
    {
      "cell_type": "markdown",
      "source": [
        "####**<font color=#FE8202> 4.3.2.1 Preparação dos dados**"
      ],
      "metadata": {
        "id": "deD2E7fp3uWI"
      }
    },
    {
      "cell_type": "markdown",
      "source": [
        "Nessa etapa vamos preparar os dados para que possam ser utilizados nas técnicas de seleção de atributos"
      ],
      "metadata": {
        "id": "gb_OiFA032Dk"
      }
    },
    {
      "cell_type": "code",
      "source": [
        "#Transformar variáveis categóricas em numéricas\n",
        "# Iniciando o LE\n",
        "le = LabelEncoder()\n",
        "\n",
        "#Selecionando o index dos atributos categóricos\n",
        "colunas = acidentes_agr_uf_mg.dtypes.reset_index()\n",
        "categ_cols = colunas[colunas[0] == 'object']['index'].to_list()\n",
        "\n",
        "for i in categ_cols:\n",
        "    acidentes_agr_uf_mg[str(i) +'_encoded'] = le.fit_transform(acidentes_agr_uf_mg[i])\n",
        "    acidentes_agr_uf_mg = acidentes_agr_uf_mg.drop(i,axis = 1)\n"
      ],
      "metadata": {
        "id": "B4yPvwWS4BYS"
      },
      "execution_count": 32,
      "outputs": []
    },
    {
      "cell_type": "code",
      "source": [
        "#Criando a variável Alvo(Target)\n",
        "acidentes_agr_uf_mg['alvo'] = acidentes_agr_uf_mg['risco']\n",
        "acidentes_agr_uf_mg.drop([ 'risco'],\taxis=1, inplace = True)"
      ],
      "metadata": {
        "id": "hpGt1ibQBISe"
      },
      "execution_count": 33,
      "outputs": []
    },
    {
      "cell_type": "code",
      "source": [
        "acidentes_agr_uf_mg.info()"
      ],
      "metadata": {
        "colab": {
          "base_uri": "https://localhost:8080/"
        },
        "id": "JvD4H4Q4BTi4",
        "outputId": "8239d3fe-3751-4f29-9763-7bb37f5eb486"
      },
      "execution_count": 34,
      "outputs": [
        {
          "output_type": "stream",
          "name": "stdout",
          "text": [
            "<class 'pandas.core.frame.DataFrame'>\n",
            "Int64Index: 17097 entries, 4 to 130871\n",
            "Data columns (total 26 columns):\n",
            " #   Column                          Non-Null Count  Dtype  \n",
            "---  ------                          --------------  -----  \n",
            " 0   id                              17097 non-null  float64\n",
            " 1   ano                             17097 non-null  int64  \n",
            " 2   mes                             17097 non-null  int64  \n",
            " 3   hora                            17097 non-null  int64  \n",
            " 4   semana                          17097 non-null  int64  \n",
            " 5   br                              17097 non-null  int64  \n",
            " 6   km                              17097 non-null  float64\n",
            " 7   ilesos                          17097 non-null  int64  \n",
            " 8   feridos_leves                   17097 non-null  int64  \n",
            " 9   feridos_graves                  17097 non-null  int64  \n",
            " 10  mortos                          17097 non-null  int64  \n",
            " 11  acidente                        17097 non-null  int64  \n",
            " 12  data_inversa_encoded            17097 non-null  int64  \n",
            " 13  ano_mes_encoded                 17097 non-null  int64  \n",
            " 14  uf_encoded                      17097 non-null  int64  \n",
            " 15  municipio_encoded               17097 non-null  int64  \n",
            " 16  causa_acidente_encoded          17097 non-null  int64  \n",
            " 17  tipo_acidente_encoded           17097 non-null  int64  \n",
            " 18  classificacao_acidente_encoded  17097 non-null  int64  \n",
            " 19  fase_dia_encoded                17097 non-null  int64  \n",
            " 20  sentido_via_encoded             17097 non-null  int64  \n",
            " 21  condicao_metereologica_encoded  17097 non-null  int64  \n",
            " 22  tipo_pista_encoded              17097 non-null  int64  \n",
            " 23  tracado_via_encoded             17097 non-null  int64  \n",
            " 24  uso_solo_encoded                17097 non-null  int64  \n",
            " 25  alvo                            17097 non-null  int64  \n",
            "dtypes: float64(2), int64(24)\n",
            "memory usage: 3.5 MB\n"
          ]
        }
      ]
    },
    {
      "cell_type": "code",
      "source": [
        "# Separação em bases de treino e teste\n",
        "X = acidentes_agr_uf_mg.drop('alvo', axis = 1) #atributos\n",
        "y = acidentes_agr_uf_mg['alvo'] #classe (alvo)"
      ],
      "metadata": {
        "id": "HulYdFGb4xcO"
      },
      "execution_count": 35,
      "outputs": []
    },
    {
      "cell_type": "markdown",
      "source": [
        "####**<font color=#FE8202> 4.3.2.2 SelectKBest**"
      ],
      "metadata": {
        "id": "8UgUbcA55Dbd"
      }
    },
    {
      "cell_type": "markdown",
      "source": [
        "explicar o algoritimo"
      ],
      "metadata": {
        "id": "KIMPxxQk5Isu"
      }
    },
    {
      "cell_type": "code",
      "source": [
        "# SelectKBest\n",
        "\n",
        "# Seleção de atributos com SelectKBest\n",
        "best_var = SelectKBest(score_func=f_classif, k=10)\n",
        "\n",
        "# Executa a função de pontuação em (X, y) e obtém os atributos selecionados\n",
        "fit = best_var.fit(X, y)\n",
        "\n",
        "# Reduz X para os atributos selecionados\n",
        "features = fit.transform(X)"
      ],
      "metadata": {
        "id": "wEilm3ki5rlE"
      },
      "execution_count": 36,
      "outputs": []
    },
    {
      "cell_type": "code",
      "source": [
        "# Scores para cada atributo\n",
        "names = []\n",
        "values = []\n",
        "alg = []\n",
        "\n",
        "# laço para coletar o nome de cada atributo do dataframe e sua devida pontuação\n",
        "for i in range(len(fit.scores_)):\n",
        "    alg.append('SelectKBest') #algoritmo utilizado\n",
        "    names.append(acidentes_agr_uf_mg.columns[i])\n",
        "    values.append(fit.scores_[i])\n",
        "\n",
        "fe_select_kbest = pd.DataFrame((zip(alg, names, values)), columns = ['algoritmo','atributo', 'pontuacao'])\n",
        "fe_select_kbest = (fe_select_kbest.sort_values(by='pontuacao', ascending=False)).head(10)\n",
        "fe_select_kbest"
      ],
      "metadata": {
        "colab": {
          "base_uri": "https://localhost:8080/",
          "height": 363
        },
        "id": "B5wcfvvq50VT",
        "outputId": "225161a6-839c-4e94-99bb-33aa5877e99f"
      },
      "execution_count": 37,
      "outputs": [
        {
          "output_type": "execute_result",
          "data": {
            "text/plain": [
              "      algoritmo                        atributo     pontuacao\n",
              "18  SelectKBest  classificacao_acidente_encoded  40568.146009\n",
              "8   SelectKBest                   feridos_leves   1709.294323\n",
              "9   SelectKBest                  feridos_graves    570.467212\n",
              "7   SelectKBest                          ilesos    435.260488\n",
              "10  SelectKBest                          mortos    146.435034\n",
              "17  SelectKBest           tipo_acidente_encoded     60.589203\n",
              "16  SelectKBest          causa_acidente_encoded     55.818527\n",
              "22  SelectKBest              tipo_pista_encoded     41.767172\n",
              "19  SelectKBest                fase_dia_encoded     22.952222\n",
              "24  SelectKBest                uso_solo_encoded     10.010970"
            ],
            "text/html": [
              "\n",
              "  <div id=\"df-e9fc502c-f26e-4b32-821f-3b7baf06e40d\">\n",
              "    <div class=\"colab-df-container\">\n",
              "      <div>\n",
              "<style scoped>\n",
              "    .dataframe tbody tr th:only-of-type {\n",
              "        vertical-align: middle;\n",
              "    }\n",
              "\n",
              "    .dataframe tbody tr th {\n",
              "        vertical-align: top;\n",
              "    }\n",
              "\n",
              "    .dataframe thead th {\n",
              "        text-align: right;\n",
              "    }\n",
              "</style>\n",
              "<table border=\"1\" class=\"dataframe\">\n",
              "  <thead>\n",
              "    <tr style=\"text-align: right;\">\n",
              "      <th></th>\n",
              "      <th>algoritmo</th>\n",
              "      <th>atributo</th>\n",
              "      <th>pontuacao</th>\n",
              "    </tr>\n",
              "  </thead>\n",
              "  <tbody>\n",
              "    <tr>\n",
              "      <th>18</th>\n",
              "      <td>SelectKBest</td>\n",
              "      <td>classificacao_acidente_encoded</td>\n",
              "      <td>40568.146009</td>\n",
              "    </tr>\n",
              "    <tr>\n",
              "      <th>8</th>\n",
              "      <td>SelectKBest</td>\n",
              "      <td>feridos_leves</td>\n",
              "      <td>1709.294323</td>\n",
              "    </tr>\n",
              "    <tr>\n",
              "      <th>9</th>\n",
              "      <td>SelectKBest</td>\n",
              "      <td>feridos_graves</td>\n",
              "      <td>570.467212</td>\n",
              "    </tr>\n",
              "    <tr>\n",
              "      <th>7</th>\n",
              "      <td>SelectKBest</td>\n",
              "      <td>ilesos</td>\n",
              "      <td>435.260488</td>\n",
              "    </tr>\n",
              "    <tr>\n",
              "      <th>10</th>\n",
              "      <td>SelectKBest</td>\n",
              "      <td>mortos</td>\n",
              "      <td>146.435034</td>\n",
              "    </tr>\n",
              "    <tr>\n",
              "      <th>17</th>\n",
              "      <td>SelectKBest</td>\n",
              "      <td>tipo_acidente_encoded</td>\n",
              "      <td>60.589203</td>\n",
              "    </tr>\n",
              "    <tr>\n",
              "      <th>16</th>\n",
              "      <td>SelectKBest</td>\n",
              "      <td>causa_acidente_encoded</td>\n",
              "      <td>55.818527</td>\n",
              "    </tr>\n",
              "    <tr>\n",
              "      <th>22</th>\n",
              "      <td>SelectKBest</td>\n",
              "      <td>tipo_pista_encoded</td>\n",
              "      <td>41.767172</td>\n",
              "    </tr>\n",
              "    <tr>\n",
              "      <th>19</th>\n",
              "      <td>SelectKBest</td>\n",
              "      <td>fase_dia_encoded</td>\n",
              "      <td>22.952222</td>\n",
              "    </tr>\n",
              "    <tr>\n",
              "      <th>24</th>\n",
              "      <td>SelectKBest</td>\n",
              "      <td>uso_solo_encoded</td>\n",
              "      <td>10.010970</td>\n",
              "    </tr>\n",
              "  </tbody>\n",
              "</table>\n",
              "</div>\n",
              "      <button class=\"colab-df-convert\" onclick=\"convertToInteractive('df-e9fc502c-f26e-4b32-821f-3b7baf06e40d')\"\n",
              "              title=\"Convert this dataframe to an interactive table.\"\n",
              "              style=\"display:none;\">\n",
              "        \n",
              "  <svg xmlns=\"http://www.w3.org/2000/svg\" height=\"24px\"viewBox=\"0 0 24 24\"\n",
              "       width=\"24px\">\n",
              "    <path d=\"M0 0h24v24H0V0z\" fill=\"none\"/>\n",
              "    <path d=\"M18.56 5.44l.94 2.06.94-2.06 2.06-.94-2.06-.94-.94-2.06-.94 2.06-2.06.94zm-11 1L8.5 8.5l.94-2.06 2.06-.94-2.06-.94L8.5 2.5l-.94 2.06-2.06.94zm10 10l.94 2.06.94-2.06 2.06-.94-2.06-.94-.94-2.06-.94 2.06-2.06.94z\"/><path d=\"M17.41 7.96l-1.37-1.37c-.4-.4-.92-.59-1.43-.59-.52 0-1.04.2-1.43.59L10.3 9.45l-7.72 7.72c-.78.78-.78 2.05 0 2.83L4 21.41c.39.39.9.59 1.41.59.51 0 1.02-.2 1.41-.59l7.78-7.78 2.81-2.81c.8-.78.8-2.07 0-2.86zM5.41 20L4 18.59l7.72-7.72 1.47 1.35L5.41 20z\"/>\n",
              "  </svg>\n",
              "      </button>\n",
              "      \n",
              "  <style>\n",
              "    .colab-df-container {\n",
              "      display:flex;\n",
              "      flex-wrap:wrap;\n",
              "      gap: 12px;\n",
              "    }\n",
              "\n",
              "    .colab-df-convert {\n",
              "      background-color: #E8F0FE;\n",
              "      border: none;\n",
              "      border-radius: 50%;\n",
              "      cursor: pointer;\n",
              "      display: none;\n",
              "      fill: #1967D2;\n",
              "      height: 32px;\n",
              "      padding: 0 0 0 0;\n",
              "      width: 32px;\n",
              "    }\n",
              "\n",
              "    .colab-df-convert:hover {\n",
              "      background-color: #E2EBFA;\n",
              "      box-shadow: 0px 1px 2px rgba(60, 64, 67, 0.3), 0px 1px 3px 1px rgba(60, 64, 67, 0.15);\n",
              "      fill: #174EA6;\n",
              "    }\n",
              "\n",
              "    [theme=dark] .colab-df-convert {\n",
              "      background-color: #3B4455;\n",
              "      fill: #D2E3FC;\n",
              "    }\n",
              "\n",
              "    [theme=dark] .colab-df-convert:hover {\n",
              "      background-color: #434B5C;\n",
              "      box-shadow: 0px 1px 3px 1px rgba(0, 0, 0, 0.15);\n",
              "      filter: drop-shadow(0px 1px 2px rgba(0, 0, 0, 0.3));\n",
              "      fill: #FFFFFF;\n",
              "    }\n",
              "  </style>\n",
              "\n",
              "      <script>\n",
              "        const buttonEl =\n",
              "          document.querySelector('#df-e9fc502c-f26e-4b32-821f-3b7baf06e40d button.colab-df-convert');\n",
              "        buttonEl.style.display =\n",
              "          google.colab.kernel.accessAllowed ? 'block' : 'none';\n",
              "\n",
              "        async function convertToInteractive(key) {\n",
              "          const element = document.querySelector('#df-e9fc502c-f26e-4b32-821f-3b7baf06e40d');\n",
              "          const dataTable =\n",
              "            await google.colab.kernel.invokeFunction('convertToInteractive',\n",
              "                                                     [key], {});\n",
              "          if (!dataTable) return;\n",
              "\n",
              "          const docLinkHtml = 'Like what you see? Visit the ' +\n",
              "            '<a target=\"_blank\" href=https://colab.research.google.com/notebooks/data_table.ipynb>data table notebook</a>'\n",
              "            + ' to learn more about interactive tables.';\n",
              "          element.innerHTML = '';\n",
              "          dataTable['output_type'] = 'display_data';\n",
              "          await google.colab.output.renderOutput(dataTable, element);\n",
              "          const docLink = document.createElement('div');\n",
              "          docLink.innerHTML = docLinkHtml;\n",
              "          element.appendChild(docLink);\n",
              "        }\n",
              "      </script>\n",
              "    </div>\n",
              "  </div>\n",
              "  "
            ]
          },
          "metadata": {},
          "execution_count": 37
        }
      ]
    },
    {
      "cell_type": "markdown",
      "source": [
        "####**<font color=#FE8202> 4.3.2.3 Eliminação Recursiva**"
      ],
      "metadata": {
        "id": "ZXVEsR6h8fjh"
      }
    },
    {
      "cell_type": "code",
      "source": [
        "# Criação do modelo\n",
        "modelo = LogisticRegression(max_iter=200)\n",
        "\n",
        "# Eliminação Recursiva de Atributos\n",
        "rfe = RFE(modelo, n_features_to_select=10)\n",
        "fit = rfe.fit(X, y)"
      ],
      "metadata": {
        "id": "a-hRjMIJ8nQ0"
      },
      "execution_count": 38,
      "outputs": []
    },
    {
      "cell_type": "code",
      "source": [
        "# Scores para cada atributo\n",
        "names = []\n",
        "values = []\n",
        "alg = []\n",
        "\n",
        "# laço para coletar o nome de cada atributo do dataframe e sua devida pontuação\n",
        "for i in range(len(fit.ranking_)):\n",
        "    alg.append('RFE') #algoritmo utilizado\n",
        "    names.append(acidentes_agr_uf_mg.columns[i])\n",
        "    values.append(fit.ranking_[i])"
      ],
      "metadata": {
        "id": "o3VQc2Cj9y_e"
      },
      "execution_count": 39,
      "outputs": []
    },
    {
      "cell_type": "code",
      "source": [
        "#Criando um dataframe com os selecionadoss\n",
        "fe_select_RE = pd.DataFrame((zip(alg, names, values)), columns = ['algoritmo','atributo', 'pontuacao'])\n",
        "\n",
        "#Os selecionados recebem o valor 1\n",
        "fe_select_RE = fe_select_RE[(fe_select_RE['pontuacao'] == 1)]\n",
        "fe_select_RE"
      ],
      "metadata": {
        "colab": {
          "base_uri": "https://localhost:8080/",
          "height": 363
        },
        "id": "EzE0QPts-NIL",
        "outputId": "d21697c6-8759-45d1-f162-48635d68ae45"
      },
      "execution_count": 40,
      "outputs": [
        {
          "output_type": "execute_result",
          "data": {
            "text/plain": [
              "   algoritmo                        atributo  pontuacao\n",
              "4        RFE                          semana          1\n",
              "7        RFE                          ilesos          1\n",
              "8        RFE                   feridos_leves          1\n",
              "9        RFE                  feridos_graves          1\n",
              "10       RFE                          mortos          1\n",
              "17       RFE           tipo_acidente_encoded          1\n",
              "18       RFE  classificacao_acidente_encoded          1\n",
              "19       RFE                fase_dia_encoded          1\n",
              "22       RFE              tipo_pista_encoded          1\n",
              "24       RFE                uso_solo_encoded          1"
            ],
            "text/html": [
              "\n",
              "  <div id=\"df-a4c6aad8-2bd5-4b1e-a6b8-3c1a2e14215c\">\n",
              "    <div class=\"colab-df-container\">\n",
              "      <div>\n",
              "<style scoped>\n",
              "    .dataframe tbody tr th:only-of-type {\n",
              "        vertical-align: middle;\n",
              "    }\n",
              "\n",
              "    .dataframe tbody tr th {\n",
              "        vertical-align: top;\n",
              "    }\n",
              "\n",
              "    .dataframe thead th {\n",
              "        text-align: right;\n",
              "    }\n",
              "</style>\n",
              "<table border=\"1\" class=\"dataframe\">\n",
              "  <thead>\n",
              "    <tr style=\"text-align: right;\">\n",
              "      <th></th>\n",
              "      <th>algoritmo</th>\n",
              "      <th>atributo</th>\n",
              "      <th>pontuacao</th>\n",
              "    </tr>\n",
              "  </thead>\n",
              "  <tbody>\n",
              "    <tr>\n",
              "      <th>4</th>\n",
              "      <td>RFE</td>\n",
              "      <td>semana</td>\n",
              "      <td>1</td>\n",
              "    </tr>\n",
              "    <tr>\n",
              "      <th>7</th>\n",
              "      <td>RFE</td>\n",
              "      <td>ilesos</td>\n",
              "      <td>1</td>\n",
              "    </tr>\n",
              "    <tr>\n",
              "      <th>8</th>\n",
              "      <td>RFE</td>\n",
              "      <td>feridos_leves</td>\n",
              "      <td>1</td>\n",
              "    </tr>\n",
              "    <tr>\n",
              "      <th>9</th>\n",
              "      <td>RFE</td>\n",
              "      <td>feridos_graves</td>\n",
              "      <td>1</td>\n",
              "    </tr>\n",
              "    <tr>\n",
              "      <th>10</th>\n",
              "      <td>RFE</td>\n",
              "      <td>mortos</td>\n",
              "      <td>1</td>\n",
              "    </tr>\n",
              "    <tr>\n",
              "      <th>17</th>\n",
              "      <td>RFE</td>\n",
              "      <td>tipo_acidente_encoded</td>\n",
              "      <td>1</td>\n",
              "    </tr>\n",
              "    <tr>\n",
              "      <th>18</th>\n",
              "      <td>RFE</td>\n",
              "      <td>classificacao_acidente_encoded</td>\n",
              "      <td>1</td>\n",
              "    </tr>\n",
              "    <tr>\n",
              "      <th>19</th>\n",
              "      <td>RFE</td>\n",
              "      <td>fase_dia_encoded</td>\n",
              "      <td>1</td>\n",
              "    </tr>\n",
              "    <tr>\n",
              "      <th>22</th>\n",
              "      <td>RFE</td>\n",
              "      <td>tipo_pista_encoded</td>\n",
              "      <td>1</td>\n",
              "    </tr>\n",
              "    <tr>\n",
              "      <th>24</th>\n",
              "      <td>RFE</td>\n",
              "      <td>uso_solo_encoded</td>\n",
              "      <td>1</td>\n",
              "    </tr>\n",
              "  </tbody>\n",
              "</table>\n",
              "</div>\n",
              "      <button class=\"colab-df-convert\" onclick=\"convertToInteractive('df-a4c6aad8-2bd5-4b1e-a6b8-3c1a2e14215c')\"\n",
              "              title=\"Convert this dataframe to an interactive table.\"\n",
              "              style=\"display:none;\">\n",
              "        \n",
              "  <svg xmlns=\"http://www.w3.org/2000/svg\" height=\"24px\"viewBox=\"0 0 24 24\"\n",
              "       width=\"24px\">\n",
              "    <path d=\"M0 0h24v24H0V0z\" fill=\"none\"/>\n",
              "    <path d=\"M18.56 5.44l.94 2.06.94-2.06 2.06-.94-2.06-.94-.94-2.06-.94 2.06-2.06.94zm-11 1L8.5 8.5l.94-2.06 2.06-.94-2.06-.94L8.5 2.5l-.94 2.06-2.06.94zm10 10l.94 2.06.94-2.06 2.06-.94-2.06-.94-.94-2.06-.94 2.06-2.06.94z\"/><path d=\"M17.41 7.96l-1.37-1.37c-.4-.4-.92-.59-1.43-.59-.52 0-1.04.2-1.43.59L10.3 9.45l-7.72 7.72c-.78.78-.78 2.05 0 2.83L4 21.41c.39.39.9.59 1.41.59.51 0 1.02-.2 1.41-.59l7.78-7.78 2.81-2.81c.8-.78.8-2.07 0-2.86zM5.41 20L4 18.59l7.72-7.72 1.47 1.35L5.41 20z\"/>\n",
              "  </svg>\n",
              "      </button>\n",
              "      \n",
              "  <style>\n",
              "    .colab-df-container {\n",
              "      display:flex;\n",
              "      flex-wrap:wrap;\n",
              "      gap: 12px;\n",
              "    }\n",
              "\n",
              "    .colab-df-convert {\n",
              "      background-color: #E8F0FE;\n",
              "      border: none;\n",
              "      border-radius: 50%;\n",
              "      cursor: pointer;\n",
              "      display: none;\n",
              "      fill: #1967D2;\n",
              "      height: 32px;\n",
              "      padding: 0 0 0 0;\n",
              "      width: 32px;\n",
              "    }\n",
              "\n",
              "    .colab-df-convert:hover {\n",
              "      background-color: #E2EBFA;\n",
              "      box-shadow: 0px 1px 2px rgba(60, 64, 67, 0.3), 0px 1px 3px 1px rgba(60, 64, 67, 0.15);\n",
              "      fill: #174EA6;\n",
              "    }\n",
              "\n",
              "    [theme=dark] .colab-df-convert {\n",
              "      background-color: #3B4455;\n",
              "      fill: #D2E3FC;\n",
              "    }\n",
              "\n",
              "    [theme=dark] .colab-df-convert:hover {\n",
              "      background-color: #434B5C;\n",
              "      box-shadow: 0px 1px 3px 1px rgba(0, 0, 0, 0.15);\n",
              "      filter: drop-shadow(0px 1px 2px rgba(0, 0, 0, 0.3));\n",
              "      fill: #FFFFFF;\n",
              "    }\n",
              "  </style>\n",
              "\n",
              "      <script>\n",
              "        const buttonEl =\n",
              "          document.querySelector('#df-a4c6aad8-2bd5-4b1e-a6b8-3c1a2e14215c button.colab-df-convert');\n",
              "        buttonEl.style.display =\n",
              "          google.colab.kernel.accessAllowed ? 'block' : 'none';\n",
              "\n",
              "        async function convertToInteractive(key) {\n",
              "          const element = document.querySelector('#df-a4c6aad8-2bd5-4b1e-a6b8-3c1a2e14215c');\n",
              "          const dataTable =\n",
              "            await google.colab.kernel.invokeFunction('convertToInteractive',\n",
              "                                                     [key], {});\n",
              "          if (!dataTable) return;\n",
              "\n",
              "          const docLinkHtml = 'Like what you see? Visit the ' +\n",
              "            '<a target=\"_blank\" href=https://colab.research.google.com/notebooks/data_table.ipynb>data table notebook</a>'\n",
              "            + ' to learn more about interactive tables.';\n",
              "          element.innerHTML = '';\n",
              "          dataTable['output_type'] = 'display_data';\n",
              "          await google.colab.output.renderOutput(dataTable, element);\n",
              "          const docLink = document.createElement('div');\n",
              "          docLink.innerHTML = docLinkHtml;\n",
              "          element.appendChild(docLink);\n",
              "        }\n",
              "      </script>\n",
              "    </div>\n",
              "  </div>\n",
              "  "
            ]
          },
          "metadata": {},
          "execution_count": 40
        }
      ]
    },
    {
      "cell_type": "markdown",
      "source": [
        "####**<font color=#FE8202> 4.3.2.4 Escolhendo os melhores atributos**"
      ],
      "metadata": {
        "id": "KFSFlqop_PuC"
      }
    },
    {
      "cell_type": "markdown",
      "source": [
        "Utilizamos dois algoritmos para verificar a pontuação de cada atributo, agora iremos ver quais campos forão escolhidos e verificar quais foram eleitos nos dois algoritmos."
      ],
      "metadata": {
        "id": "-JQ-LADB_gXA"
      }
    },
    {
      "cell_type": "code",
      "source": [
        "#Concatenar os dois dataframes com as pontuações e ordenar pelo nome do atributo\n",
        "fs_pontuacao = pd.concat([fe_select_kbest, fe_select_RE], sort=False, ignore_index=True)\n",
        "\n",
        "fs_pontuacao.sort_values(by=['atributo','algoritmo'], ascending=False)"
      ],
      "metadata": {
        "colab": {
          "base_uri": "https://localhost:8080/",
          "height": 677
        },
        "id": "z1ZshyWX_24k",
        "outputId": "80288668-f415-4b90-f1c8-4c8c5d1a1426"
      },
      "execution_count": 41,
      "outputs": [
        {
          "output_type": "execute_result",
          "data": {
            "text/plain": [
              "      algoritmo                        atributo     pontuacao\n",
              "9   SelectKBest                uso_solo_encoded     10.010970\n",
              "19          RFE                uso_solo_encoded      1.000000\n",
              "7   SelectKBest              tipo_pista_encoded     41.767172\n",
              "18          RFE              tipo_pista_encoded      1.000000\n",
              "5   SelectKBest           tipo_acidente_encoded     60.589203\n",
              "15          RFE           tipo_acidente_encoded      1.000000\n",
              "10          RFE                          semana      1.000000\n",
              "4   SelectKBest                          mortos    146.435034\n",
              "14          RFE                          mortos      1.000000\n",
              "3   SelectKBest                          ilesos    435.260488\n",
              "11          RFE                          ilesos      1.000000\n",
              "1   SelectKBest                   feridos_leves   1709.294323\n",
              "12          RFE                   feridos_leves      1.000000\n",
              "2   SelectKBest                  feridos_graves    570.467212\n",
              "13          RFE                  feridos_graves      1.000000\n",
              "8   SelectKBest                fase_dia_encoded     22.952222\n",
              "17          RFE                fase_dia_encoded      1.000000\n",
              "0   SelectKBest  classificacao_acidente_encoded  40568.146009\n",
              "16          RFE  classificacao_acidente_encoded      1.000000\n",
              "6   SelectKBest          causa_acidente_encoded     55.818527"
            ],
            "text/html": [
              "\n",
              "  <div id=\"df-222a7593-19c7-4bd5-a6c8-96599bb8c6cf\">\n",
              "    <div class=\"colab-df-container\">\n",
              "      <div>\n",
              "<style scoped>\n",
              "    .dataframe tbody tr th:only-of-type {\n",
              "        vertical-align: middle;\n",
              "    }\n",
              "\n",
              "    .dataframe tbody tr th {\n",
              "        vertical-align: top;\n",
              "    }\n",
              "\n",
              "    .dataframe thead th {\n",
              "        text-align: right;\n",
              "    }\n",
              "</style>\n",
              "<table border=\"1\" class=\"dataframe\">\n",
              "  <thead>\n",
              "    <tr style=\"text-align: right;\">\n",
              "      <th></th>\n",
              "      <th>algoritmo</th>\n",
              "      <th>atributo</th>\n",
              "      <th>pontuacao</th>\n",
              "    </tr>\n",
              "  </thead>\n",
              "  <tbody>\n",
              "    <tr>\n",
              "      <th>9</th>\n",
              "      <td>SelectKBest</td>\n",
              "      <td>uso_solo_encoded</td>\n",
              "      <td>10.010970</td>\n",
              "    </tr>\n",
              "    <tr>\n",
              "      <th>19</th>\n",
              "      <td>RFE</td>\n",
              "      <td>uso_solo_encoded</td>\n",
              "      <td>1.000000</td>\n",
              "    </tr>\n",
              "    <tr>\n",
              "      <th>7</th>\n",
              "      <td>SelectKBest</td>\n",
              "      <td>tipo_pista_encoded</td>\n",
              "      <td>41.767172</td>\n",
              "    </tr>\n",
              "    <tr>\n",
              "      <th>18</th>\n",
              "      <td>RFE</td>\n",
              "      <td>tipo_pista_encoded</td>\n",
              "      <td>1.000000</td>\n",
              "    </tr>\n",
              "    <tr>\n",
              "      <th>5</th>\n",
              "      <td>SelectKBest</td>\n",
              "      <td>tipo_acidente_encoded</td>\n",
              "      <td>60.589203</td>\n",
              "    </tr>\n",
              "    <tr>\n",
              "      <th>15</th>\n",
              "      <td>RFE</td>\n",
              "      <td>tipo_acidente_encoded</td>\n",
              "      <td>1.000000</td>\n",
              "    </tr>\n",
              "    <tr>\n",
              "      <th>10</th>\n",
              "      <td>RFE</td>\n",
              "      <td>semana</td>\n",
              "      <td>1.000000</td>\n",
              "    </tr>\n",
              "    <tr>\n",
              "      <th>4</th>\n",
              "      <td>SelectKBest</td>\n",
              "      <td>mortos</td>\n",
              "      <td>146.435034</td>\n",
              "    </tr>\n",
              "    <tr>\n",
              "      <th>14</th>\n",
              "      <td>RFE</td>\n",
              "      <td>mortos</td>\n",
              "      <td>1.000000</td>\n",
              "    </tr>\n",
              "    <tr>\n",
              "      <th>3</th>\n",
              "      <td>SelectKBest</td>\n",
              "      <td>ilesos</td>\n",
              "      <td>435.260488</td>\n",
              "    </tr>\n",
              "    <tr>\n",
              "      <th>11</th>\n",
              "      <td>RFE</td>\n",
              "      <td>ilesos</td>\n",
              "      <td>1.000000</td>\n",
              "    </tr>\n",
              "    <tr>\n",
              "      <th>1</th>\n",
              "      <td>SelectKBest</td>\n",
              "      <td>feridos_leves</td>\n",
              "      <td>1709.294323</td>\n",
              "    </tr>\n",
              "    <tr>\n",
              "      <th>12</th>\n",
              "      <td>RFE</td>\n",
              "      <td>feridos_leves</td>\n",
              "      <td>1.000000</td>\n",
              "    </tr>\n",
              "    <tr>\n",
              "      <th>2</th>\n",
              "      <td>SelectKBest</td>\n",
              "      <td>feridos_graves</td>\n",
              "      <td>570.467212</td>\n",
              "    </tr>\n",
              "    <tr>\n",
              "      <th>13</th>\n",
              "      <td>RFE</td>\n",
              "      <td>feridos_graves</td>\n",
              "      <td>1.000000</td>\n",
              "    </tr>\n",
              "    <tr>\n",
              "      <th>8</th>\n",
              "      <td>SelectKBest</td>\n",
              "      <td>fase_dia_encoded</td>\n",
              "      <td>22.952222</td>\n",
              "    </tr>\n",
              "    <tr>\n",
              "      <th>17</th>\n",
              "      <td>RFE</td>\n",
              "      <td>fase_dia_encoded</td>\n",
              "      <td>1.000000</td>\n",
              "    </tr>\n",
              "    <tr>\n",
              "      <th>0</th>\n",
              "      <td>SelectKBest</td>\n",
              "      <td>classificacao_acidente_encoded</td>\n",
              "      <td>40568.146009</td>\n",
              "    </tr>\n",
              "    <tr>\n",
              "      <th>16</th>\n",
              "      <td>RFE</td>\n",
              "      <td>classificacao_acidente_encoded</td>\n",
              "      <td>1.000000</td>\n",
              "    </tr>\n",
              "    <tr>\n",
              "      <th>6</th>\n",
              "      <td>SelectKBest</td>\n",
              "      <td>causa_acidente_encoded</td>\n",
              "      <td>55.818527</td>\n",
              "    </tr>\n",
              "  </tbody>\n",
              "</table>\n",
              "</div>\n",
              "      <button class=\"colab-df-convert\" onclick=\"convertToInteractive('df-222a7593-19c7-4bd5-a6c8-96599bb8c6cf')\"\n",
              "              title=\"Convert this dataframe to an interactive table.\"\n",
              "              style=\"display:none;\">\n",
              "        \n",
              "  <svg xmlns=\"http://www.w3.org/2000/svg\" height=\"24px\"viewBox=\"0 0 24 24\"\n",
              "       width=\"24px\">\n",
              "    <path d=\"M0 0h24v24H0V0z\" fill=\"none\"/>\n",
              "    <path d=\"M18.56 5.44l.94 2.06.94-2.06 2.06-.94-2.06-.94-.94-2.06-.94 2.06-2.06.94zm-11 1L8.5 8.5l.94-2.06 2.06-.94-2.06-.94L8.5 2.5l-.94 2.06-2.06.94zm10 10l.94 2.06.94-2.06 2.06-.94-2.06-.94-.94-2.06-.94 2.06-2.06.94z\"/><path d=\"M17.41 7.96l-1.37-1.37c-.4-.4-.92-.59-1.43-.59-.52 0-1.04.2-1.43.59L10.3 9.45l-7.72 7.72c-.78.78-.78 2.05 0 2.83L4 21.41c.39.39.9.59 1.41.59.51 0 1.02-.2 1.41-.59l7.78-7.78 2.81-2.81c.8-.78.8-2.07 0-2.86zM5.41 20L4 18.59l7.72-7.72 1.47 1.35L5.41 20z\"/>\n",
              "  </svg>\n",
              "      </button>\n",
              "      \n",
              "  <style>\n",
              "    .colab-df-container {\n",
              "      display:flex;\n",
              "      flex-wrap:wrap;\n",
              "      gap: 12px;\n",
              "    }\n",
              "\n",
              "    .colab-df-convert {\n",
              "      background-color: #E8F0FE;\n",
              "      border: none;\n",
              "      border-radius: 50%;\n",
              "      cursor: pointer;\n",
              "      display: none;\n",
              "      fill: #1967D2;\n",
              "      height: 32px;\n",
              "      padding: 0 0 0 0;\n",
              "      width: 32px;\n",
              "    }\n",
              "\n",
              "    .colab-df-convert:hover {\n",
              "      background-color: #E2EBFA;\n",
              "      box-shadow: 0px 1px 2px rgba(60, 64, 67, 0.3), 0px 1px 3px 1px rgba(60, 64, 67, 0.15);\n",
              "      fill: #174EA6;\n",
              "    }\n",
              "\n",
              "    [theme=dark] .colab-df-convert {\n",
              "      background-color: #3B4455;\n",
              "      fill: #D2E3FC;\n",
              "    }\n",
              "\n",
              "    [theme=dark] .colab-df-convert:hover {\n",
              "      background-color: #434B5C;\n",
              "      box-shadow: 0px 1px 3px 1px rgba(0, 0, 0, 0.15);\n",
              "      filter: drop-shadow(0px 1px 2px rgba(0, 0, 0, 0.3));\n",
              "      fill: #FFFFFF;\n",
              "    }\n",
              "  </style>\n",
              "\n",
              "      <script>\n",
              "        const buttonEl =\n",
              "          document.querySelector('#df-222a7593-19c7-4bd5-a6c8-96599bb8c6cf button.colab-df-convert');\n",
              "        buttonEl.style.display =\n",
              "          google.colab.kernel.accessAllowed ? 'block' : 'none';\n",
              "\n",
              "        async function convertToInteractive(key) {\n",
              "          const element = document.querySelector('#df-222a7593-19c7-4bd5-a6c8-96599bb8c6cf');\n",
              "          const dataTable =\n",
              "            await google.colab.kernel.invokeFunction('convertToInteractive',\n",
              "                                                     [key], {});\n",
              "          if (!dataTable) return;\n",
              "\n",
              "          const docLinkHtml = 'Like what you see? Visit the ' +\n",
              "            '<a target=\"_blank\" href=https://colab.research.google.com/notebooks/data_table.ipynb>data table notebook</a>'\n",
              "            + ' to learn more about interactive tables.';\n",
              "          element.innerHTML = '';\n",
              "          dataTable['output_type'] = 'display_data';\n",
              "          await google.colab.output.renderOutput(dataTable, element);\n",
              "          const docLink = document.createElement('div');\n",
              "          docLink.innerHTML = docLinkHtml;\n",
              "          element.appendChild(docLink);\n",
              "        }\n",
              "      </script>\n",
              "    </div>\n",
              "  </div>\n",
              "  "
            ]
          },
          "metadata": {},
          "execution_count": 41
        }
      ]
    },
    {
      "cell_type": "markdown",
      "source": [
        "Podemos verificar que nove atributos foram selecionados pelos dois algoritmos, o que reforça a importância deles.\n",
        ">\n",
        "Iremos adicionar os nove atributos, e também os que apareceram de forma individual, totalizando onze atributos no modelo."
      ],
      "metadata": {
        "id": "RDUcbigcBUE2"
      }
    },
    {
      "cell_type": "markdown",
      "source": [
        "**Campos selecionados:**\n",
        ">\n",
        "causa_acidente_encoded\n",
        ">\n",
        "classificacao_acidente_encoded\n",
        ">\n",
        "fase_dia_encoded\n",
        ">\n",
        "feridos_graves\n",
        ">\n",
        "feridos_leves\n",
        ">\n",
        "ilesos\n",
        ">\n",
        "mortos\n",
        ">\n",
        "semana\n",
        ">\n",
        "tipo_acidente_encoded\n",
        ">\n",
        "tipo_pista_encoded\n",
        ">\n",
        "uso_solo_encoded"
      ],
      "metadata": {
        "id": "LcabC45mEbBZ"
      }
    },
    {
      "cell_type": "markdown",
      "source": [
        "####**<font color=#FE8202> 4.3.2.5 Criando o dataset com os melhores atributos**"
      ],
      "metadata": {
        "id": "PpA2M7Y1K3tO"
      }
    },
    {
      "cell_type": "markdown",
      "source": [
        "Nessa etapa iremos criar um dataset somente com os campos selecionados, para ser utilizado na modelagem e inferência."
      ],
      "metadata": {
        "id": "gEqHWy18K8vB"
      }
    },
    {
      "cell_type": "code",
      "source": [
        "ml_model_espec = acidentes_agr[['causa_acidente','classificacao_acidente','fase_dia',\n",
        "                                'semana','tipo_acidente','tipo_pista','uso_solo','risco',\n",
        "                                'ilesos','feridos_leves','feridos_graves','mortos']]"
      ],
      "metadata": {
        "id": "V-A7AjmnPNy5"
      },
      "execution_count": 42,
      "outputs": []
    },
    {
      "cell_type": "code",
      "source": [
        "ml_model_espec.shape"
      ],
      "metadata": {
        "colab": {
          "base_uri": "https://localhost:8080/"
        },
        "id": "WOPfaqX5PlUh",
        "outputId": "25127d68-a8a0-4543-bd4c-a75902ea0b10"
      },
      "execution_count": 43,
      "outputs": [
        {
          "output_type": "execute_result",
          "data": {
            "text/plain": [
              "(130874, 12)"
            ]
          },
          "metadata": {},
          "execution_count": 43
        }
      ]
    },
    {
      "cell_type": "markdown",
      "source": [
        "###**<font color=#FE8202> 4.4 Transformações categóricas**"
      ],
      "metadata": {
        "id": "6bZYaysIi1L3"
      }
    },
    {
      "cell_type": "markdown",
      "source": [
        "Uma etapa muito importante é o tratamento de variáveis categóricas, apesar de não ser uma regra, diversos modelos trabalham com dados numéricos e não são capazes de interpretar dados categóricos.\n",
        ">\n",
        "Essas categorias muitas vezes são muito importantes para explicar comportamentos.\n",
        ">\n",
        "Sendo assim é preciso representar categorias através de números.\n",
        ">\n",
        "Utilizaremos as funções, One-hot encoding, Dummy encoding e LabelEncoder da biblioteca SciKit Learning (Sklearn) para transformar dados categóricos em numéricos.\n"
      ],
      "metadata": {
        "id": "2oQe62Cqwqwt"
      }
    },
    {
      "cell_type": "markdown",
      "source": [
        "**Importante!**\n",
        ">\n",
        "Antes de começar as tranformações, é necessário separar o dataframe em previsores e alvo."
      ],
      "metadata": {
        "id": "XhvFi1eP-p3c"
      }
    },
    {
      "cell_type": "code",
      "source": [
        "previsores = ml_model_espec.drop('risco', axis = 1) #previsores\n",
        "alvo = ml_model_espec['risco'] #alvo"
      ],
      "metadata": {
        "id": "OOxB5YrNY7TB"
      },
      "execution_count": 44,
      "outputs": []
    },
    {
      "cell_type": "markdown",
      "source": [
        "####**<font color=#FE8202> 4.4.1 One-hot Encoding**"
      ],
      "metadata": {
        "id": "4MmiR3z8A2Y1"
      }
    },
    {
      "cell_type": "code",
      "source": [
        "# one hot encode para os previsores x\n",
        "ml_model_onehot = OneHotEncoder(sparse=False).fit_transform(previsores)"
      ],
      "metadata": {
        "id": "tQUZMWQjB8rY"
      },
      "execution_count": 45,
      "outputs": []
    },
    {
      "cell_type": "code",
      "source": [
        "#Verificando os dados transformados\n",
        "print(ml_model_onehot[:5, :])"
      ],
      "metadata": {
        "colab": {
          "base_uri": "https://localhost:8080/"
        },
        "id": "LK9uroEkK5h8",
        "outputId": "34e3df1a-6b62-42bf-b5d4-bc90a24d04ad"
      },
      "execution_count": 46,
      "outputs": [
        {
          "output_type": "stream",
          "name": "stdout",
          "text": [
            "[[0. 0. 0. ... 0. 0. 0.]\n",
            " [0. 0. 0. ... 0. 0. 0.]\n",
            " [0. 0. 0. ... 0. 0. 0.]\n",
            " [0. 0. 0. ... 0. 0. 0.]\n",
            " [0. 0. 0. ... 0. 0. 0.]]\n"
          ]
        }
      ]
    },
    {
      "cell_type": "code",
      "source": [
        "ml_model_onehot.shape"
      ],
      "metadata": {
        "colab": {
          "base_uri": "https://localhost:8080/"
        },
        "id": "PcCM5IFEZgLU",
        "outputId": "56b2c0ab-2129-45b0-9b6c-0eb3b21a5b03"
      },
      "execution_count": 47,
      "outputs": [
        {
          "output_type": "execute_result",
          "data": {
            "text/plain": [
              "(130874, 223)"
            ]
          },
          "metadata": {},
          "execution_count": 47
        }
      ]
    },
    {
      "cell_type": "markdown",
      "source": [
        "####**<font color=#FE8202> 4.4.2 Dummy Variable Encoding**"
      ],
      "metadata": {
        "id": "5pSojk1ANqa6"
      }
    },
    {
      "cell_type": "markdown",
      "source": [
        "O dummy encoding, também usamos o OneHotEncoder,mas com o parâmetro drop para indicar qual categoria receberá todos os valores zero."
      ],
      "metadata": {
        "id": "LDfXYmsWN97e"
      }
    },
    {
      "cell_type": "code",
      "source": [
        "# definindo o transformador como one hot encoding (com Dummy variable encoder)\n",
        "encoder = OneHotEncoder(drop='first', sparse=False)\n",
        "\n",
        "# transformando os dados\n",
        "ml_model_dummy = encoder.fit_transform(previsores)\n",
        "\n",
        "#Verificando os dados transformados\n",
        "print(ml_model_dummy)"
      ],
      "metadata": {
        "colab": {
          "base_uri": "https://localhost:8080/"
        },
        "id": "EgpBh3SkOFIV",
        "outputId": "f169177f-b5e1-427b-cb8e-796c6590e023"
      },
      "execution_count": 48,
      "outputs": [
        {
          "output_type": "stream",
          "name": "stdout",
          "text": [
            "[[0. 0. 0. ... 0. 0. 0.]\n",
            " [0. 0. 0. ... 0. 0. 0.]\n",
            " [0. 0. 0. ... 0. 0. 0.]\n",
            " ...\n",
            " [0. 0. 0. ... 0. 0. 0.]\n",
            " [0. 0. 0. ... 0. 0. 0.]\n",
            " [0. 0. 0. ... 0. 0. 0.]]\n"
          ]
        }
      ]
    },
    {
      "cell_type": "code",
      "source": [
        "ml_model_dummy.shape"
      ],
      "metadata": {
        "colab": {
          "base_uri": "https://localhost:8080/"
        },
        "id": "dXBK8i9mZkCH",
        "outputId": "7b763a53-43e3-47c6-ac91-bb27897891f6"
      },
      "execution_count": 49,
      "outputs": [
        {
          "output_type": "execute_result",
          "data": {
            "text/plain": [
              "(130874, 212)"
            ]
          },
          "metadata": {},
          "execution_count": 49
        }
      ]
    },
    {
      "cell_type": "markdown",
      "source": [
        "####**<font color=#FE8202> 4.4.3 Label Encoder**"
      ],
      "metadata": {
        "id": "lvVFD2_RPm28"
      }
    },
    {
      "cell_type": "markdown",
      "source": [
        "Utilizaremos a função LabelEncoder da biblioteca SciKit Learning (Sklearn) para transformar dados categóricos em numéricos."
      ],
      "metadata": {
        "id": "ymxqrb1ZP2SH"
      }
    },
    {
      "cell_type": "code",
      "source": [
        "#Verificando quais variáveis são categoricas\n",
        "\n",
        "cols = ml_model_espec.dtypes.reset_index().rename(columns={'index': 'coluna', 0:'tipo'})\n",
        "categ_cols = cols[cols.tipo == 'object']\n",
        "cont_cols = cols[cols.tipo != 'object']\n",
        "print('***** Variáveis Categóricas *****')\n",
        "print(categ_cols)\n",
        "print('----------------------------------')\n",
        "print('***** Variáveis Numéricas *****')\n",
        "print(cont_cols)"
      ],
      "metadata": {
        "colab": {
          "base_uri": "https://localhost:8080/"
        },
        "id": "qdh7Ml0gGpmi",
        "outputId": "04573b6f-a5d1-4a4e-b6f9-0145d7590bed"
      },
      "execution_count": 50,
      "outputs": [
        {
          "output_type": "stream",
          "name": "stdout",
          "text": [
            "***** Variáveis Categóricas *****\n",
            "                   coluna    tipo\n",
            "0          causa_acidente  object\n",
            "1  classificacao_acidente  object\n",
            "2                fase_dia  object\n",
            "4           tipo_acidente  object\n",
            "5              tipo_pista  object\n",
            "6                uso_solo  object\n",
            "----------------------------------\n",
            "***** Variáveis Numéricas *****\n",
            "            coluna   tipo\n",
            "3           semana  int64\n",
            "7            risco  int64\n",
            "8           ilesos  int64\n",
            "9    feridos_leves  int64\n",
            "10  feridos_graves  int64\n",
            "11          mortos  int64\n"
          ]
        }
      ]
    },
    {
      "cell_type": "markdown",
      "source": [
        "---"
      ],
      "metadata": {
        "id": "4kPq0j0mZf3p"
      }
    },
    {
      "cell_type": "markdown",
      "source": [
        "Vamos criar um laço de repetição FOR para percorrer as colunas do tipo ‘object’, transformando e alterando o nome da coluna incluindo o sufixo “_encoded” e apagando a coluna original."
      ],
      "metadata": {
        "id": "9AQmMgkxRR6T"
      }
    },
    {
      "cell_type": "code",
      "source": [
        "#Criando o dataset para aplicar o LE\n",
        "ml_model_le = ml_model_espec.copy()\n",
        "\n",
        "# Iniciando o LE\n",
        "le = LabelEncoder()\n",
        "\n",
        "#Selecionando o index dos atributos categóricos\n",
        "colunas = ml_model_le.dtypes.reset_index()\n",
        "categ_cols = colunas[colunas[0] == 'object']['index'].to_list()\n",
        "\n",
        "for i in categ_cols:\n",
        "    ml_model_le[str(i) +'_encoded'] = le.fit_transform(ml_model_le[i])\n",
        "    ml_model_le = ml_model_le.drop(i,axis = 1)"
      ],
      "metadata": {
        "id": "2c6LDJLxRfJR"
      },
      "execution_count": 51,
      "outputs": []
    },
    {
      "cell_type": "markdown",
      "source": [
        "###**<font color=#FE8202> 4.5 Separação em conjunto de Treino e Teste**"
      ],
      "metadata": {
        "id": "dfyUC0e6ZsWI"
      }
    },
    {
      "cell_type": "markdown",
      "source": [
        "Utilizaremos a função train_test_split() do scikit-learn, que irá separar os atributos **previsores** e **alvo**, em quatro partes na proporção de 80/20, ou seja, 80% para dados de treino e 20% para dados de teste.\n",
        ">\n",
        "Importante o conjunto de treino ser grande o suficiente para que o modelo seja capaz de aprender os padrões a partir dos dados disponibilizados, enquanto o conjunto de teste, deve ser utilizado apenas uma vez, quando o modelo estiver finalizado, logo, não tem a necessidade de ser muito grande.\n",
        ">\n",
        "Michael Galarnyk, ilustra bem no seu artigo, através da imagem abaixo, o procedimento de divisão de teste(test) e treino(train).\n",
        "(https://builtin.com/data-science/train-test-split)"
      ],
      "metadata": {
        "id": "Qg4wFRFOZ2kF"
      }
    },
    {
      "cell_type": "markdown",
      "source": [
        "![Train_Teste.png](data:image/png;base64,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)"
      ],
      "metadata": {
        "id": "-rDrYheRkVNi"
      }
    },
    {
      "cell_type": "markdown",
      "source": [
        "Na etapa de pré-processamento, realizamos a transformação categórica com três técnicas, e agora iremos dividi-los em conjunto de treino e teste, e depois testar qual deles teve o melhor desempenho em um modelo de Machine Learning."
      ],
      "metadata": {
        "id": "HYrjuSHhWwKP"
      }
    },
    {
      "cell_type": "markdown",
      "source": [
        ">**<font color=#FE8202> LabelEncoder**"
      ],
      "metadata": {
        "id": "9vDZdPSbaRhP"
      }
    },
    {
      "cell_type": "code",
      "source": [
        "#Separando os dataset em previsores e alvo\n",
        "previsores_le = ml_model_le.drop('risco', axis = 1) #previsores\n",
        "alvo_le = ml_model_le['risco'] #alvo"
      ],
      "metadata": {
        "id": "cngSAfSnlthV"
      },
      "execution_count": 52,
      "outputs": []
    },
    {
      "cell_type": "code",
      "source": [
        "test_size = 0.20 # tamanho do conjunto de teste\n",
        "seed = 7 # semente aleatória\n",
        "\n",
        "x_treino_le, x_teste_le, y_treino_le, y_teste_le = train_test_split(previsores_le, alvo_le, test_size = test_size, random_state = seed)\n",
        "\n",
        "# Parâmetros e partições da validação cruzada\n",
        "scoring = 'f1' #Pontuação f1-score\n",
        "num_particoes = 15\n",
        "kfold = StratifiedKFold(n_splits=num_particoes, shuffle=True, random_state=seed) # validação cruzada com estratificação"
      ],
      "metadata": {
        "id": "f4CjLLdOmKR9"
      },
      "execution_count": 53,
      "outputs": []
    },
    {
      "cell_type": "code",
      "source": [
        "print('X_treino: {:,d}'.format(x_treino_le.shape[0]).replace(',','.'))\n",
        "print('Y_treino: {:,d}'.format(y_treino_le.shape[0]).replace(',','.'))\n",
        "print('X_teste: {:,d}'.format(x_teste_le.shape[0]).replace(',','.'))\n",
        "print('Y_teste: {:,d}'.format(y_teste_le.shape[0]).replace(',','.'))"
      ],
      "metadata": {
        "colab": {
          "base_uri": "https://localhost:8080/"
        },
        "id": "BWmJixdUmZac",
        "outputId": "5addcfe2-dd12-45e5-a32f-175a648c8f55"
      },
      "execution_count": 54,
      "outputs": [
        {
          "output_type": "stream",
          "name": "stdout",
          "text": [
            "X_treino: 104.699\n",
            "Y_treino: 104.699\n",
            "X_teste: 26.175\n",
            "Y_teste: 26.175\n"
          ]
        }
      ]
    },
    {
      "cell_type": "markdown",
      "source": [
        "---"
      ],
      "metadata": {
        "id": "7ZnZxLTZijFr"
      }
    },
    {
      "cell_type": "markdown",
      "source": [
        ">**<font color=#FE8202> One-hot Encoder**"
      ],
      "metadata": {
        "id": "ZiNn7LcRiauf"
      }
    },
    {
      "cell_type": "code",
      "source": [
        "#previsor ml_model_onehot e alvo y (Transformados na etapa 4.4.1)\n",
        "x_treino_oneh, x_teste_oneh, y_treino_oneh, y_teste_oneh = train_test_split(ml_model_onehot, alvo, test_size = test_size, random_state = seed)"
      ],
      "metadata": {
        "id": "BHar6nOTkUWW"
      },
      "execution_count": 55,
      "outputs": []
    },
    {
      "cell_type": "markdown",
      "source": [
        "---"
      ],
      "metadata": {
        "id": "JqyUfawblFWZ"
      }
    },
    {
      "cell_type": "markdown",
      "source": [
        ">**<font color=#FE8202> Dummy Variable Encoding**"
      ],
      "metadata": {
        "id": "5YFoyU4mGBw3"
      }
    },
    {
      "cell_type": "code",
      "source": [
        "#previsor ml_model_onehot e alvo y (Transformados na etapa 4.4.2)\n",
        "x_treino_dummy, x_teste_dummy, y_treino_dummy, y_teste_dummy = train_test_split(ml_model_dummy, alvo, test_size = test_size, random_state = seed)"
      ],
      "metadata": {
        "id": "I-HbuovSFlgs"
      },
      "execution_count": 56,
      "outputs": []
    },
    {
      "cell_type": "markdown",
      "source": [
        "---\n",
        "\n"
      ],
      "metadata": {
        "id": "VzPlX3vFL0iO"
      }
    },
    {
      "cell_type": "markdown",
      "source": [
        "#**<font color=#FE8202> 5. Modelo de Machine Learning**"
      ],
      "metadata": {
        "id": "yFxF7UZJWk7N"
      }
    },
    {
      "cell_type": "markdown",
      "source": [
        "###**<font color=#FE8202> 5.1 Criação e avaliação de modelos: linha base**"
      ],
      "metadata": {
        "id": "xtvlcvpXPBES"
      }
    },
    {
      "cell_type": "markdown",
      "source": [
        "Para essa avaliação vamos utilizar o **método ensemble**, que combina vários modelos de machine learning, o que pode fazer com que os resultados sejam melhores do que quando usamos apenas um modelo.\n",
        ">\n",
        "Vamos utilzar o esembles do tipo voting, que utiliza uma das técnicas mais simples de combinar predições de vários modelos. No nosso caso utilizaremos: Regressão logística, árvore de decisão e SVC."
      ],
      "metadata": {
        "id": "31_BKECQTt8-"
      }
    },
    {
      "cell_type": "markdown",
      "source": [
        "\n",
        "\n",
        "---\n",
        "\n"
      ],
      "metadata": {
        "id": "MdX5DzCl9uW_"
      }
    },
    {
      "cell_type": "markdown",
      "source": [
        "Em seguida, para a base de treino, vamos avaliar a acurácia dos modelos, em suas diferentes transformações categóricas, e treina-los com os algoritimos de: **Regressão Logística, KNN, árvore de classificação, NB e SVM**, utilizando sua configuração padrão, sem variar seus hiperparâmetros.\n",
        ">\n",
        "Para uma melhor avaliação, utilizaremos o método de validação cruzada (10 folds) e compararemos os resultados graficamente por meio de boxplots."
      ],
      "metadata": {
        "id": "uSTg8ktY82zR"
      }
    },
    {
      "cell_type": "markdown",
      "source": [
        "><font color=#FE8202>Com LabelEnconder"
      ],
      "metadata": {
        "id": "rBx5J6U22VIP"
      }
    },
    {
      "cell_type": "code",
      "source": [
        "# Tempo de execução 41 minutos\n",
        "np.random.seed(7) # definindo uma semente global\n",
        "\n",
        "# Lista que armazenará os modelos\n",
        "models = []\n",
        "\n",
        "# Criando os modelos e adicionando-os na lista de modelos\n",
        "models.append(('LR', LogisticRegression(max_iter=200)))\n",
        "models.append(('KNN', KNeighborsClassifier()))\n",
        "models.append(('CART', DecisionTreeClassifier()))\n",
        "models.append(('NB', GaussianNB()))\n",
        "models.append(('SVM', SVC()))\n",
        "\n",
        "# Definindo os parâmetros do classificador base para o BaggingClassifier\n",
        "base = DecisionTreeClassifier()\n",
        "num_trees = 100\n",
        "max_features = 3\n",
        "\n",
        "# Criando os modelos para o VotingClassifier\n",
        "bases = []\n",
        "model1 = LogisticRegression(max_iter=200)\n",
        "bases.append(('logistic', model1))\n",
        "model2 = DecisionTreeClassifier()\n",
        "bases.append(('cart', model2))\n",
        "model3 = SVC()\n",
        "bases.append(('svm', model3))\n",
        "\n",
        "# Criando os ensembles e adicionando-os na lista de modelos\n",
        "models.append(('Bagging', BaggingClassifier(base_estimator=base, n_estimators=num_trees)))\n",
        "models.append(('RF', RandomForestClassifier(n_estimators=num_trees, max_features=max_features)))\n",
        "models.append(('ET', ExtraTreesClassifier(n_estimators=num_trees, max_features=max_features)))\n",
        "models.append(('Ada', AdaBoostClassifier(n_estimators=num_trees)))\n",
        "models.append(('GB', GradientBoostingClassifier(n_estimators=num_trees)))\n",
        "models.append(('Voting', VotingClassifier(bases)))\n",
        "\n",
        "# Listas para armazenar os resultados\n",
        "results = []\n",
        "names = []\n",
        "\n",
        "# Avaliação dos modelos\n",
        "for name, model in models:\n",
        "    inicio = time.time()\n",
        "    cv_results = cross_val_score(model, x_treino_le, y_treino_le, cv=kfold, scoring=scoring)\n",
        "    fim = time.time()\n",
        "    tempo = fim-inicio #tempo de execução do modelo\n",
        "    results.append(cv_results)\n",
        "    names.append(name)\n",
        "    msg = \"%s: %f (%f)\" % (name, cv_results.mean(), cv_results.std()) # média e desvio padrão dos 10 resultados da validação cruzada\n",
        "\n",
        "    print(msg, f\"Tempo de treinamento: {tempo:.2f}s\") #em segundos\n",
        "\n",
        "# Boxplot de comparação dos modelos\n",
        "fig = plt.figure(figsize=(15,10))\n",
        "fig.suptitle('Comparação dos Modelos')\n",
        "ax = fig.add_subplot(111)\n",
        "plt.boxplot(results)\n",
        "ax.set_xticklabels(names)\n",
        "plt.show()"
      ],
      "metadata": {
        "colab": {
          "base_uri": "https://localhost:8080/",
          "height": 895
        },
        "id": "pWy4uW_LS3xF",
        "outputId": "462ffd2d-a646-4e23-a9d8-781fccecd84b"
      },
      "execution_count": 114,
      "outputs": [
        {
          "output_type": "stream",
          "name": "stdout",
          "text": [
            "LR: 1.000000 (0.000000) Tempo de treinamento: 27.29s\n",
            "KNN: 0.995679 (0.000512) Tempo de treinamento: 17.92s\n",
            "CART: 1.000000 (0.000000) Tempo de treinamento: 0.60s\n",
            "NB: 1.000000 (0.000000) Tempo de treinamento: 0.63s\n",
            "SVM: 0.999988 (0.000030) Tempo de treinamento: 1204.64s\n",
            "Bagging: 1.000000 (0.000000) Tempo de treinamento: 36.93s\n",
            "RF: 1.000000 (0.000000) Tempo de treinamento: 32.37s\n",
            "ET: 1.000000 (0.000000) Tempo de treinamento: 34.98s\n",
            "Ada: 1.000000 (0.000000) Tempo de treinamento: 0.81s\n",
            "GB: 1.000000 (0.000000) Tempo de treinamento: 55.19s\n",
            "Voting: 1.000000 (0.000000) Tempo de treinamento: 1256.60s\n"
          ]
        },
        {
          "output_type": "display_data",
          "data": {
            "text/plain": [
              "<Figure size 1500x1000 with 1 Axes>"
            ],
            "image/png": "[encoded data removed]"
          },
          "metadata": {}
        }
      ]
    },
    {
      "cell_type": "markdown",
      "source": [
        "><font color=#FE8202>Com One-hot Encoding"
      ],
      "metadata": {
        "id": "FcQqk9GM2gpA"
      }
    },
    {
      "cell_type": "code",
      "source": [
        "#Tempo de execução 1hr\n",
        "np.random.seed(7) # definindo uma semente global\n",
        "\n",
        "# Lista que armazenará os modelos\n",
        "models = []\n",
        "\n",
        "# Criando os modelos e adicionando-os na lista de modelos\n",
        "models.append(('LR', LogisticRegression(max_iter=200)))\n",
        "models.append(('KNN', KNeighborsClassifier()))\n",
        "models.append(('CART', DecisionTreeClassifier()))\n",
        "models.append(('NB', GaussianNB()))\n",
        "models.append(('SVM', SVC()))\n",
        "\n",
        "# Definindo os parâmetros do classificador base para o BaggingClassifier\n",
        "base = DecisionTreeClassifier()\n",
        "num_trees = 100\n",
        "max_features = 3\n",
        "\n",
        "# Criando os modelos para o VotingClassifier\n",
        "bases = []\n",
        "model1 = LogisticRegression(max_iter=200)\n",
        "bases.append(('logistic', model1))\n",
        "model2 = DecisionTreeClassifier()\n",
        "bases.append(('cart', model2))\n",
        "model3 = SVC()\n",
        "bases.append(('svm', model3))\n",
        "\n",
        "# Criando os ensembles e adicionando-os na lista de modelos\n",
        "models.append(('Bagging', BaggingClassifier(base_estimator=base, n_estimators=num_trees)))\n",
        "models.append(('RF', RandomForestClassifier(n_estimators=num_trees, max_features=max_features)))\n",
        "models.append(('ET', ExtraTreesClassifier(n_estimators=num_trees, max_features=max_features)))\n",
        "models.append(('Ada', AdaBoostClassifier(n_estimators=num_trees)))\n",
        "models.append(('GB', GradientBoostingClassifier(n_estimators=num_trees)))\n",
        "models.append(('Voting', VotingClassifier(bases)))\n",
        "\n",
        "# Listas para armazenar os resultados\n",
        "results = []\n",
        "names = []\n",
        "\n",
        "# Avaliação dos modelos\n",
        "for name, model in models:\n",
        "    inicio = time.time()\n",
        "    cv_results = cross_val_score(model, x_treino_oneh, y_treino_oneh, cv=kfold, scoring=scoring)\n",
        "    fim = time.time()\n",
        "    tempo = fim-inicio #tempo de execução do modelo\n",
        "    results.append(cv_results)\n",
        "    names.append(name)\n",
        "    msg = \"%s: %f (%f)\" % (name, cv_results.mean(), cv_results.std()) # média e desvio padrão dos 10 resultados da validação cruzada\n",
        "\n",
        "    print(msg, f\"Tempo de treinamento: {tempo:.2f}s\") #em segundos\n",
        "\n",
        "# Boxplot de comparação dos modelos\n",
        "fig = plt.figure(figsize=(15,10))\n",
        "fig.suptitle('Comparação dos Modelos')\n",
        "ax = fig.add_subplot(111)\n",
        "plt.boxplot(results)\n",
        "ax.set_xticklabels(names)\n",
        "plt.show()"
      ],
      "metadata": {
        "colab": {
          "base_uri": "https://localhost:8080/",
          "height": 885
        },
        "id": "FCyLyG7giXVt",
        "outputId": "e74d0f36-f622-4e4b-cc4c-6ba8bf8574d3"
      },
      "execution_count": 78,
      "outputs": [
        {
          "output_type": "stream",
          "name": "stdout",
          "text": [
            "LR: 1.000000 (0.000000) Tempo de treinamento: 28.52s\n",
            "KNN: 0.999930 (0.000091) Tempo de treinamento: 190.35s\n",
            "CART: 1.000000 (0.000000) Tempo de treinamento: 6.76s\n",
            "NB: 0.999988 (0.000030) Tempo de treinamento: 6.57s\n",
            "SVM: 1.000000 (0.000000) Tempo de treinamento: 1082.84s\n",
            "Bagging: 1.000000 (0.000000) Tempo de treinamento: 376.87s\n",
            "RF: 1.000000 (0.000000) Tempo de treinamento: 100.93s\n",
            "ET: 1.000000 (0.000000) Tempo de treinamento: 134.77s\n",
            "Ada: 1.000000 (0.000000) Tempo de treinamento: 7.76s\n",
            "GB: 1.000000 (0.000000) Tempo de treinamento: 601.77s\n",
            "Voting: 1.000000 (0.000000) Tempo de treinamento: 1125.81s\n"
          ]
        },
        {
          "output_type": "display_data",
          "data": {
            "text/plain": [
              "<Figure size 1500x1000 with 1 Axes>"
            ],
            "image/png": "[encoded data removed]"
          },
          "metadata": {}
        }
      ]
    },
    {
      "cell_type": "markdown",
      "source": [
        "><font color=#FE8202>Com Dummy Encoding"
      ],
      "metadata": {
        "id": "rTf62Cz5-eCL"
      }
    },
    {
      "cell_type": "code",
      "source": [
        "#Tempo de execução 55 min\n",
        "np.random.seed(7) # definindo uma semente global\n",
        "\n",
        "# Lista que armazenará os modelos\n",
        "models = []\n",
        "\n",
        "# Criando os modelos e adicionando-os na lista de modelos\n",
        "models.append(('LR', LogisticRegression(max_iter=200)))\n",
        "models.append(('KNN', KNeighborsClassifier()))\n",
        "models.append(('CART', DecisionTreeClassifier()))\n",
        "models.append(('NB', GaussianNB()))\n",
        "models.append(('SVM', SVC()))\n",
        "\n",
        "# Definindo os parâmetros do classificador base para o BaggingClassifier\n",
        "base = DecisionTreeClassifier()\n",
        "num_trees = 100\n",
        "max_features = 3\n",
        "\n",
        "# Criando os modelos para o VotingClassifier\n",
        "bases = []\n",
        "model1 = LogisticRegression(max_iter=200)\n",
        "bases.append(('logistic', model1))\n",
        "model2 = DecisionTreeClassifier()\n",
        "bases.append(('cart', model2))\n",
        "model3 = SVC()\n",
        "bases.append(('svm', model3))\n",
        "\n",
        "# Criando os ensembles e adicionando-os na lista de modelos\n",
        "models.append(('Bagging', BaggingClassifier(base_estimator=base, n_estimators=num_trees)))\n",
        "models.append(('RF', RandomForestClassifier(n_estimators=num_trees, max_features=max_features)))\n",
        "models.append(('ET', ExtraTreesClassifier(n_estimators=num_trees, max_features=max_features)))\n",
        "models.append(('Ada', AdaBoostClassifier(n_estimators=num_trees)))\n",
        "models.append(('GB', GradientBoostingClassifier(n_estimators=num_trees)))\n",
        "models.append(('Voting', VotingClassifier(bases)))\n",
        "\n",
        "# Listas para armazenar os resultados\n",
        "results = []\n",
        "names = []\n",
        "\n",
        "# Avaliação dos modelos\n",
        "for name, model in models:\n",
        "    inicio = time.time()\n",
        "    cv_results = cross_val_score(model, x_treino_dummy, y_treino_dummy, cv=kfold, scoring=scoring)\n",
        "    fim = time.time()\n",
        "    tempo = fim-inicio #tempo de execução do modelo\n",
        "    results.append(cv_results)\n",
        "    names.append(name)\n",
        "    msg = \"%s: %f (%f)\" % (name, cv_results.mean(), cv_results.std()) # média e desvio padrão dos 10 resultados da validação cruzada\n",
        "\n",
        "    print(msg, f\"Tempo de treinamento: {tempo:.2f}s\") #em segundos\n",
        "\n",
        "# Boxplot de comparação dos modelos\n",
        "fig = plt.figure(figsize=(15,10))\n",
        "fig.suptitle('Comparação dos Modelos')\n",
        "ax = fig.add_subplot(111)\n",
        "plt.boxplot(results)\n",
        "ax.set_xticklabels(names)\n",
        "plt.show()"
      ],
      "metadata": {
        "colab": {
          "base_uri": "https://localhost:8080/",
          "height": 890
        },
        "id": "l8qNOFnPmxzg",
        "outputId": "6c0ef7e9-3c15-4459-c6e6-179f31f1eb94"
      },
      "execution_count": 79,
      "outputs": [
        {
          "output_type": "stream",
          "name": "stdout",
          "text": [
            "LR: 1.000000 (0.000000) Tempo de treinamento: 24.30s\n",
            "KNN: 0.999129 (0.000246) Tempo de treinamento: 182.58s\n",
            "CART: 1.000000 (0.000000) Tempo de treinamento: 6.40s\n",
            "NB: 0.999994 (0.000022) Tempo de treinamento: 6.22s\n",
            "SVM: 1.000000 (0.000000) Tempo de treinamento: 937.02s\n",
            "Bagging: 1.000000 (0.000000) Tempo de treinamento: 355.87s\n",
            "RF: 1.000000 (0.000000) Tempo de treinamento: 108.16s\n",
            "ET: 1.000000 (0.000000) Tempo de treinamento: 147.14s\n",
            "Ada: 1.000000 (0.000000) Tempo de treinamento: 7.56s\n",
            "GB: 1.000000 (0.000000) Tempo de treinamento: 573.67s\n",
            "Voting: 1.000000 (0.000000) Tempo de treinamento: 966.93s\n"
          ]
        },
        {
          "output_type": "display_data",
          "data": {
            "text/plain": [
              "<Figure size 1500x1000 with 1 Axes>"
            ],
            "image/png": "[encoded data removed]"
          },
          "metadata": {}
        }
      ]
    },
    {
      "cell_type": "markdown",
      "source": [
        "Podemos verificar que o modelo utilizando as transformações categóricas com Label Encoder, são mais rápidas quando comparadas com as demais.\n",
        ">\n",
        "Sendo assim, seguiremos as analises utilizando Label Encoder."
      ],
      "metadata": {
        "id": "KSfDV7mw187x"
      }
    },
    {
      "cell_type": "markdown",
      "source": [
        "###**<font color=#FE8202> 5.2 Criação e avaliação de modelos: dados padronizados e normalizados**"
      ],
      "metadata": {
        "id": "PDlc6MyMsC-A"
      }
    },
    {
      "cell_type": "markdown",
      "source": [
        "Nessa etapa vamos utilizar a biblioteca Pipeline para criar e avaliar os modelos através da validação cruzada com os dados padronizados e normalizados (evitando o data leakage) e comparar o seu resultado com os modelos treinados com o dataset original"
      ],
      "metadata": {
        "id": "GWOd3Y_V-c7e"
      }
    },
    {
      "cell_type": "code",
      "source": [
        "#Tempo de execução 55 minutos\n",
        "np.random.seed(7) # definindo uma semente global para este bloco\n",
        "\n",
        "# Listas para armazenar os armazenar os pipelines e os resultados para todas as visões do dataset\n",
        "pipelines = []\n",
        "results = []\n",
        "names = []\n",
        "\n",
        "\n",
        "# Criando os elementos do pipeline\n",
        "\n",
        "# Algoritmos que serão utilizados\n",
        "reg_log = ('LR', LogisticRegression(max_iter=200))\n",
        "knn = ('KNN', KNeighborsClassifier())\n",
        "cart = ('CART', DecisionTreeClassifier())\n",
        "naive_bayes = ('NB', GaussianNB())\n",
        "svm = ('SVM', SVC())\n",
        "bagging = ('Bag', BaggingClassifier(base_estimator=base, n_estimators=num_trees))\n",
        "random_forest = ('RF', RandomForestClassifier(n_estimators=num_trees, max_features=max_features))\n",
        "extra_trees = ('ET', ExtraTreesClassifier(n_estimators=num_trees, max_features=max_features))\n",
        "adaboost = ('Ada', AdaBoostClassifier(n_estimators=num_trees))\n",
        "gradient_boosting = ('GB', GradientBoostingClassifier(n_estimators=num_trees))\n",
        "voting = ('Voting', VotingClassifier(bases))\n",
        "\n",
        "# Transformações que serão utilizadas\n",
        "standard_scaler = ('StandardScaler', StandardScaler())\n",
        "min_max_scaler = ('MinMaxScaler', MinMaxScaler())\n",
        "\n",
        "\n",
        "# Montando os pipelines\n",
        "\n",
        "# Dataset original\n",
        "pipelines.append(('LR-orig', Pipeline([reg_log])))\n",
        "pipelines.append(('KNN-orig', Pipeline([knn])))\n",
        "pipelines.append(('CART-orig', Pipeline([cart])))\n",
        "pipelines.append(('NB-orig', Pipeline([naive_bayes])))\n",
        "pipelines.append(('SVM-orig', Pipeline([svm])))\n",
        "pipelines.append(('Bag-orig', Pipeline([bagging])))\n",
        "pipelines.append(('RF-orig', Pipeline([random_forest])))\n",
        "pipelines.append(('ET-orig', Pipeline([extra_trees])))\n",
        "pipelines.append(('Ada-orig', Pipeline([adaboost])))\n",
        "pipelines.append(('GB-orig', Pipeline([gradient_boosting])))\n",
        "pipelines.append(('Vot-orig', Pipeline([voting])))\n",
        "\n",
        "# Dataset Padronizado\n",
        "pipelines.append(('LR-padr', Pipeline([standard_scaler, reg_log])))\n",
        "pipelines.append(('KNN-padr', Pipeline([standard_scaler, knn])))\n",
        "pipelines.append(('CART-padr', Pipeline([standard_scaler, cart])))\n",
        "pipelines.append(('NB-padr', Pipeline([standard_scaler, naive_bayes])))\n",
        "pipelines.append(('SVM-padr', Pipeline([standard_scaler, svm])))\n",
        "pipelines.append(('Bag-padr', Pipeline([standard_scaler, bagging])))\n",
        "pipelines.append(('RF-padr', Pipeline([standard_scaler, random_forest])))\n",
        "pipelines.append(('ET-padr', Pipeline([standard_scaler, extra_trees])))\n",
        "pipelines.append(('Ada-padr', Pipeline([standard_scaler, adaboost])))\n",
        "pipelines.append(('GB-padr', Pipeline([standard_scaler, gradient_boosting])))\n",
        "pipelines.append(('Vot-padr', Pipeline([standard_scaler, voting])))\n",
        "\n",
        "# Dataset Normalizado\n",
        "pipelines.append(('LR-norm', Pipeline([min_max_scaler, reg_log])))\n",
        "pipelines.append(('KNN-norm', Pipeline([min_max_scaler, knn])))\n",
        "pipelines.append(('CART-norm', Pipeline([min_max_scaler, cart])))\n",
        "pipelines.append(('NB-norm', Pipeline([min_max_scaler, naive_bayes])))\n",
        "pipelines.append(('SVM-norm', Pipeline([min_max_scaler, svm])))\n",
        "pipelines.append(('Bag-norm', Pipeline([min_max_scaler, bagging])))\n",
        "pipelines.append(('RF-norm', Pipeline([min_max_scaler, random_forest])))\n",
        "pipelines.append(('ET-norm', Pipeline([min_max_scaler, extra_trees])))\n",
        "pipelines.append(('Ada-norm', Pipeline([min_max_scaler, adaboost])))\n",
        "pipelines.append(('GB-norm', Pipeline([min_max_scaler, gradient_boosting])))\n",
        "pipelines.append(('Vot-norm', Pipeline([min_max_scaler, voting])))\n",
        "\n",
        "# Executando os pipelines\n",
        "for name, model in pipelines:\n",
        "    inicio = time.time()\n",
        "    cv_results = cross_val_score(model, x_treino_le, y_treino_le, cv=kfold, scoring=scoring)\n",
        "    fim = time.time()\n",
        "    tempo = fim-inicio #tempo de execução do modelo\n",
        "    results.append(cv_results)\n",
        "    names.append(name)\n",
        "    msg = \"%s: %f (%f)\" % (name, cv_results.mean(), cv_results.std()) # média e desvio padrão dos 10 resultados da validação cruzada\n",
        "    print(msg, f\"Tempo de treinamento: {tempo:.2f}s\")   #em segundos\n",
        "\n",
        "\n",
        "\n",
        "# Boxplot de comparação dos modelos\n",
        "fig = plt.figure(figsize=(25,6))\n",
        "fig.suptitle('Comparação dos Modelos - Dataset orginal, padronizado e normalizado')\n",
        "ax = fig.add_subplot(111)\n",
        "plt.boxplot(results)\n",
        "ax.set_xticklabels(names, rotation=90)\n",
        "plt.show()"
      ],
      "metadata": {
        "colab": {
          "base_uri": "https://localhost:8080/",
          "height": 879
        },
        "id": "M6HyH0V5sLGZ",
        "outputId": "f14342f5-ba40-4687-8de8-bc577c984a5e"
      },
      "execution_count": 115,
      "outputs": [
        {
          "output_type": "stream",
          "name": "stdout",
          "text": [
            "LR-orig: 1.000000 (0.000000) Tempo de treinamento: 25.29s\n",
            "KNN-orig: 0.995679 (0.000512) Tempo de treinamento: 18.18s\n",
            "CART-orig: 1.000000 (0.000000) Tempo de treinamento: 0.59s\n",
            "NB-orig: 1.000000 (0.000000) Tempo de treinamento: 0.62s\n",
            "SVM-orig: 0.999988 (0.000030) Tempo de treinamento: 1290.13s\n",
            "Bag-orig: 1.000000 (0.000000) Tempo de treinamento: 38.60s\n",
            "RF-orig: 1.000000 (0.000000) Tempo de treinamento: 32.06s\n",
            "ET-orig: 1.000000 (0.000000) Tempo de treinamento: 36.20s\n",
            "Ada-orig: 1.000000 (0.000000) Tempo de treinamento: 0.94s\n",
            "GB-orig: 1.000000 (0.000000) Tempo de treinamento: 54.43s\n",
            "Vot-orig: 1.000000 (0.000000) Tempo de treinamento: 1281.41s\n",
            "LR-padr: 1.000000 (0.000000) Tempo de treinamento: 4.69s\n",
            "KNN-padr: 0.999936 (0.000067) Tempo de treinamento: 26.04s\n",
            "CART-padr: 1.000000 (0.000000) Tempo de treinamento: 0.77s\n",
            "NB-padr: 1.000000 (0.000000) Tempo de treinamento: 0.73s\n",
            "SVM-padr: 0.999948 (0.000062) Tempo de treinamento: 70.11s\n",
            "Bag-padr: 1.000000 (0.000000) Tempo de treinamento: 37.77s\n",
            "RF-padr: 1.000000 (0.000000) Tempo de treinamento: 33.68s\n",
            "ET-padr: 1.000000 (0.000000) Tempo de treinamento: 35.83s\n",
            "Ada-padr: 1.000000 (0.000000) Tempo de treinamento: 1.02s\n",
            "GB-padr: 1.000000 (0.000000) Tempo de treinamento: 55.60s\n",
            "Vot-padr: 1.000000 (0.000000) Tempo de treinamento: 76.41s\n",
            "LR-norm: 1.000000 (0.000000) Tempo de treinamento: 5.66s\n",
            "KNN-norm: 1.000000 (0.000000) Tempo de treinamento: 15.70s\n",
            "CART-norm: 1.000000 (0.000000) Tempo de treinamento: 0.70s\n",
            "NB-norm: 1.000000 (0.000000) Tempo de treinamento: 0.66s\n",
            "SVM-norm: 1.000000 (0.000000) Tempo de treinamento: 19.52s\n",
            "Bag-norm: 1.000000 (0.000000) Tempo de treinamento: 36.59s\n",
            "RF-norm: 1.000000 (0.000000) Tempo de treinamento: 31.22s\n",
            "ET-norm: 1.000000 (0.000000) Tempo de treinamento: 34.08s\n",
            "Ada-norm: 1.000000 (0.000000) Tempo de treinamento: 0.89s\n",
            "GB-norm: 1.000000 (0.000000) Tempo de treinamento: 51.64s\n",
            "Vot-norm: 1.000000 (0.000000) Tempo de treinamento: 28.13s\n"
          ]
        },
        {
          "output_type": "display_data",
          "data": {
            "text/plain": [
              "<Figure size 2500x600 with 1 Axes>"
            ],
            "image/png": "[encoded data removed]"
          },
          "metadata": {}
        }
      ]
    },
    {
      "cell_type": "markdown",
      "source": [
        "###**<font color=#FE8202> 5.3 Otimização dos hiperparâmetros**"
      ],
      "metadata": {
        "id": "w9lCuda5CuO7"
      }
    },
    {
      "cell_type": "markdown",
      "source": [
        "Agora iremos utilizar a biblioteca Grid Search para executar a otimização dos hiperparâmetros dos algoritmos **Árvore de decisão**, **Regressão Logística** e **KNN**, a título de exemplificação, a fim de buscar resultados ainda melhores."
      ],
      "metadata": {
        "id": "PuMMKfYECp9y"
      }
    },
    {
      "cell_type": "markdown",
      "source": [
        "####**<font color=#FE8202> 5.3.1 Árvore de decisão**"
      ],
      "metadata": {
        "id": "rDXj5-7hNcHO"
      }
    },
    {
      "cell_type": "markdown",
      "source": [
        "Árvore de decisão é um método de aprendizado de máquina supervisionado que é utilizado para classificação e para regressão.\n",
        ">\n",
        "Seleciona a ordem que os atributos irão aparecer na árvore, sempre de cima para baixo, conforme sua importância para a predição, assim como determina a separação dos ramos da árvore.\n",
        ">\n",
        "Estrutura similar a um fluxograma. É composto por nós, ramos e folhas.\n"
      ],
      "metadata": {
        "id": "ALJcoD-f4xUd"
      }
    },
    {
      "cell_type": "code",
      "source": [
        "arvore = DecisionTreeClassifier()\n",
        "\n",
        "#Definindo os parâmetros\n",
        "param_grid = {\"criterion\": [\"gini\", \"entropy\"], #criterio\n",
        "              \"min_samples_split\": range(1,11), # o mínimo de registros necessários para que uma separação seja feita\n",
        "              \"max_depth\": \t   range(1,11), #Profundidade máxima da árvore\n",
        "              \"min_samples_leaf\": range(1,6), # o mínimo de registros necessários em cada nós-folha\n",
        "              \"max_leaf_nodes\": [1, 2, 5, 10, 15, 20] # a quantidade máxima de nós-folha que a árvore pode ter\n",
        "}\n",
        "\n",
        "#Executando o GridSearchCV\n",
        "grid = GridSearchCV(arvore, param_grid, cv=6, scoring='accuracy')\n",
        "grid_result = grid.fit(x_treino_le, y_treino_le)\n"
      ],
      "metadata": {
        "id": "AdLzQV49QN8f"
      },
      "execution_count": 58,
      "outputs": []
    },
    {
      "cell_type": "code",
      "source": [
        "#Avaliando os resultados\n",
        "print(grid.best_score_)\n",
        "print(grid.best_params_)\n",
        "print(grid.best_estimator_)"
      ],
      "metadata": {
        "colab": {
          "base_uri": "https://localhost:8080/"
        },
        "id": "LAr2DxJkWusI",
        "outputId": "216cca40-d1ad-4b6b-d657-2160592a1538"
      },
      "execution_count": 59,
      "outputs": [
        {
          "output_type": "stream",
          "name": "stdout",
          "text": [
            "1.0\n",
            "{'criterion': 'gini', 'max_depth': 1, 'max_leaf_nodes': 2, 'min_samples_leaf': 1, 'min_samples_split': 2}\n",
            "DecisionTreeClassifier(max_depth=1, max_leaf_nodes=2)\n"
          ]
        }
      ]
    },
    {
      "cell_type": "markdown",
      "source": [
        "Agora que já temos os melhores parâmetros, vamos aplica-los."
      ],
      "metadata": {
        "id": "ls1wCZn9f5l3"
      }
    },
    {
      "cell_type": "code",
      "source": [
        "# Preparação do modelo\n",
        "inicio = time.time()\n",
        "arvore = DecisionTreeClassifier(max_depth=1, max_leaf_nodes=2)\n",
        "arvore.fit(x_treino_le, y_treino_le)\n",
        "fim = time.time()\n",
        "log_arvore = fim-inicio"
      ],
      "metadata": {
        "id": "RALHas2aNilj"
      },
      "execution_count": 60,
      "outputs": []
    },
    {
      "cell_type": "code",
      "source": [
        "# Estimativa da acurácia no conjunto de teste\n",
        "previsoes_arvore = arvore.predict(x_teste_le)\n",
        "\n",
        "# Avaliação\n",
        "\n",
        "#Acurácia\n",
        "print(\"Acurácia: %.2f%%\" % (accuracy_score(y_teste_le, previsoes_arvore) * 100.0))\n",
        "# Precisão\n",
        "print(\"Precisão: %.2f%%\" % (precision_score(y_teste_le, previsoes_arvore) * 100.0))\n",
        "# Recall / Revocação\n",
        "print(\"Revocação: %.2f%%\" % (recall_score(y_teste_le, previsoes_arvore) * 100.0))\n",
        "# F1 score\n",
        "print(\"F1-Score: %.2f%%\" % (f1_score(y_teste_le, previsoes_arvore) * 100.0))\n",
        "print(f\"Tempo de treinamento: {log_arvore:.2f}s\")"
      ],
      "metadata": {
        "colab": {
          "base_uri": "https://localhost:8080/"
        },
        "id": "2SNWbLB8Nxy0",
        "outputId": "b038d031-ba35-40f0-a502-73b011028cc4"
      },
      "execution_count": 61,
      "outputs": [
        {
          "output_type": "stream",
          "name": "stdout",
          "text": [
            "Acurácia: 100.00%\n",
            "Precisão: 100.00%\n",
            "Revocação: 100.00%\n",
            "F1-Score: 100.00%\n",
            "Tempo de treinamento: 0.04s\n"
          ]
        }
      ]
    },
    {
      "cell_type": "markdown",
      "source": [
        "> <font color=#FE8202>Matriz de confusão"
      ],
      "metadata": {
        "id": "qYNcrVoKhJFT"
      }
    },
    {
      "cell_type": "markdown",
      "source": [
        "Após estimar a classe nos dados de teste, comparamos a classe estimada pelo modelo com a classe real.\n",
        ">\n",
        "Como o classificador tem apenas 2 opções de classificação, a matriz de confusão tem dimensões 2 por 2, onde as posições representam:\n",
        ">\n",
        "(0,0). Verdadeiro positvo (TP)\n",
        ">\n",
        "(0,1): Falsos negativos (FN)\n",
        ">\n",
        "(1,0): Falsos positivos (FP)\n",
        ">\n",
        "(1,1) Verdadeiros negativos (TN)\n"
      ],
      "metadata": {
        "id": "GiKzdMxc4Eh4"
      }
    },
    {
      "cell_type": "code",
      "source": [
        "sns.heatmap(confusion_matrix(y_teste_le, previsoes_arvore), annot= True, fmt='g')\n",
        "plt.xlabel('y_teste')\n",
        "plt.ylabel('previsoes_arvore')"
      ],
      "metadata": {
        "colab": {
          "base_uri": "https://localhost:8080/",
          "height": 466
        },
        "id": "ubr-r0UuOlM8",
        "outputId": "bd047ef0-e7aa-4855-9452-f79d9b8b0772"
      },
      "execution_count": 62,
      "outputs": [
        {
          "output_type": "execute_result",
          "data": {
            "text/plain": [
              "Text(50.722222222222214, 0.5, 'previsoes_arvore')"
            ]
          },
          "metadata": {},
          "execution_count": 62
        },
        {
          "output_type": "display_data",
          "data": {
            "text/plain": [
              "<Figure size 640x480 with 2 Axes>"
            ],
            "image/png": "[encoded data removed]"
          },
          "metadata": {}
        }
      ]
    },
    {
      "cell_type": "code",
      "source": [
        "print('Total de Amostras: {:,d}'.format(y_teste_le.shape[0]).replace(',','.'))\n",
        "print('Acertos de classificação: {:,d}'.format((y_teste_le == previsoes_arvore).sum()).replace(',','.'))\n",
        "print('Erros de classificação: {:,d}'.format((y_teste_le != previsoes_arvore).sum()).replace(',','.'))"
      ],
      "metadata": {
        "colab": {
          "base_uri": "https://localhost:8080/"
        },
        "id": "hkI-kVYKhZBO",
        "outputId": "212bda35-961b-419a-90c9-fb736d23705e"
      },
      "execution_count": 63,
      "outputs": [
        {
          "output_type": "stream",
          "name": "stdout",
          "text": [
            "Total de Amostras: 26.175\n",
            "Acertos de classificação: 26.175\n",
            "Erros de classificação: 0\n"
          ]
        }
      ]
    },
    {
      "cell_type": "markdown",
      "source": [
        "####**<font color=#FE8202> 5.3.2 Regressão Logística**"
      ],
      "metadata": {
        "id": "5pi6Li2ao51t"
      }
    },
    {
      "cell_type": "markdown",
      "source": [
        "Algoritmo de classificação em aprendizagem supervisionada.\n",
        "Utiliza conceitos de regressão linear em seu modelo matemático.\n",
        ">\n",
        "Pode ser binária (variável dependente binária) ou multinomial\n",
        "(variável dependente com mais de duas categorias)."
      ],
      "metadata": {
        "id": "P5uCMeyt-iBl"
      }
    },
    {
      "cell_type": "code",
      "source": [
        "log_re = LogisticRegression(max_iter=200)\n",
        "\n",
        "#Definindo os parâmetros\n",
        "param_grid = {'C': np.logspace(-5, 8, 15), 'penalty': ['l1', 'l2']}\n",
        "\n",
        "#Executando o GridSearchCV\n",
        "grid = GridSearchCV(log_re, param_grid, cv=6, scoring='accuracy')\n",
        "grid_result = grid.fit(x_treino_le, y_treino_le)"
      ],
      "metadata": {
        "id": "kwI42djhqJ8S"
      },
      "execution_count": 122,
      "outputs": []
    },
    {
      "cell_type": "code",
      "source": [
        "#Avaliando os resultados\n",
        "print(grid.best_score_)\n",
        "print(grid.best_params_)\n",
        "print(grid.best_estimator_)"
      ],
      "metadata": {
        "colab": {
          "base_uri": "https://localhost:8080/"
        },
        "id": "Kw9DC8XurAfH",
        "outputId": "49742eca-5da1-4fdb-a9ed-d85183969296"
      },
      "execution_count": 123,
      "outputs": [
        {
          "output_type": "stream",
          "name": "stdout",
          "text": [
            "1.0\n",
            "{'C': 0.4393970560760795, 'penalty': 'l2'}\n",
            "LogisticRegression(C=0.4393970560760795, max_iter=200)\n"
          ]
        }
      ]
    },
    {
      "cell_type": "markdown",
      "source": [
        "Agora que já temos os melhores parâmetros, vamos aplica-los."
      ],
      "metadata": {
        "id": "sYm3XTS8ssM0"
      }
    },
    {
      "cell_type": "code",
      "source": [
        "# Preparação do modelo\n",
        "inicio = time.time()\n",
        "log_re = LogisticRegression(C=0.4393970560760795, max_iter=200)\n",
        "log_re.fit(x_treino_le, y_treino_le)\n",
        "fim = time.time()\n",
        "log_log_re = fim-inicio"
      ],
      "metadata": {
        "id": "X1ndNOilrLY5"
      },
      "execution_count": 73,
      "outputs": []
    },
    {
      "cell_type": "code",
      "source": [
        "# Estimativa da acurácia no conjunto de teste\n",
        "previsoes_log_re = log_re.predict(x_teste_le)\n",
        "\n",
        "# Avaliação\n",
        "\n",
        "#Acurácia\n",
        "print(\"Acurácia: %.2f%%\" % (accuracy_score(y_teste_le, previsoes_log_re) * 100.0))\n",
        "# Precisão\n",
        "print(\"Precisão: %.2f%%\" % (precision_score(y_teste_le, previsoes_log_re) * 100.0))\n",
        "# Recall / Revocação\n",
        "print(\"Revocação: %.2f%%\" % (recall_score(y_teste_le, previsoes_log_re) * 100.0))\n",
        "# F1 score\n",
        "print(\"F1-Score: %.2f%%\" % (f1_score(y_teste_le, previsoes_log_re) * 100.0))\n",
        "print(f\"Tempo de treinamento: {log_log_re:.2f}s\")"
      ],
      "metadata": {
        "colab": {
          "base_uri": "https://localhost:8080/"
        },
        "id": "z223Lp7Hra6d",
        "outputId": "470a0b23-1015-4a94-852d-972f01908acb"
      },
      "execution_count": 74,
      "outputs": [
        {
          "output_type": "stream",
          "name": "stdout",
          "text": [
            "Acurácia: 100.00%\n",
            "Precisão: 100.00%\n",
            "Revocação: 100.00%\n",
            "F1-Score: 100.00%\n",
            "Tempo de treinamento: 1.88s\n"
          ]
        }
      ]
    },
    {
      "cell_type": "markdown",
      "source": [
        "> <font color=#FE8202>Matriz de confusão"
      ],
      "metadata": {
        "id": "XY_q2cQcsBXS"
      }
    },
    {
      "cell_type": "code",
      "source": [
        "sns.heatmap(confusion_matrix(y_teste_le, previsoes_log_re), annot= True, fmt='g')\n",
        "plt.xlabel('y_teste')\n",
        "plt.ylabel('previsoes_regressão_logistica')"
      ],
      "metadata": {
        "colab": {
          "base_uri": "https://localhost:8080/",
          "height": 466
        },
        "id": "HgvklzYBsEpj",
        "outputId": "cdd58c42-feca-472f-9945-00f5ea48af8e"
      },
      "execution_count": 75,
      "outputs": [
        {
          "output_type": "execute_result",
          "data": {
            "text/plain": [
              "Text(50.722222222222214, 0.5, 'previsoes_regressão_logistica')"
            ]
          },
          "metadata": {},
          "execution_count": 75
        },
        {
          "output_type": "display_data",
          "data": {
            "text/plain": [
              "<Figure size 640x480 with 2 Axes>"
            ],
            "image/png": "[encoded data removed]"
          },
          "metadata": {}
        }
      ]
    },
    {
      "cell_type": "code",
      "source": [
        "print('Total de Amostras: {:,d}'.format(y_teste_le.shape[0]).replace(',','.'))\n",
        "print('Acertos de classificação: {:,d}'.format((y_teste_le == previsoes_log_re).sum()).replace(',','.'))\n",
        "print('Erros de classificação: {:,d}'.format((y_teste_le != previsoes_log_re).sum()).replace(',','.'))"
      ],
      "metadata": {
        "colab": {
          "base_uri": "https://localhost:8080/"
        },
        "id": "Vnn8vQkbsPEp",
        "outputId": "80891a25-4543-4b19-aa67-6bbeaacfcd31"
      },
      "execution_count": 76,
      "outputs": [
        {
          "output_type": "stream",
          "name": "stdout",
          "text": [
            "Total de Amostras: 26.175\n",
            "Acertos de classificação: 26.175\n",
            "Erros de classificação: 0\n"
          ]
        }
      ]
    },
    {
      "cell_type": "markdown",
      "source": [
        "####**<font color=#FE8202> 5.3.3 Aprendizagem baseada em instâncias (KNN)**"
      ],
      "metadata": {
        "id": "gSERslbPsyRX"
      }
    },
    {
      "cell_type": "markdown",
      "source": [
        "KNN é a sigla de K Nearest Neighbors (vizinhos mais próximos), realizando a classificação das instâncias (dados) em classes (grupo de dados semelhantes).\n",
        ">\n",
        "É um algoritmo de classificação em aprendizagem supervisionada, e não possuiu um modelo matemático, apenas classifica uma instância através de cálculos de distâncias.\n"
      ],
      "metadata": {
        "id": "fvRX6cRS4iFy"
      }
    },
    {
      "cell_type": "code",
      "source": [
        "knn = KNeighborsClassifier()\n",
        "\n",
        "#Definindo os parâmetros\n",
        "knn_range = list(range(1, 31))\n",
        "param_grid = dict(n_neighbors=knn_range)\n",
        "\n",
        "\n",
        "#Executando o GridSearchCV\n",
        "grid = GridSearchCV(knn, param_grid, cv=6, scoring='accuracy')\n",
        "grid_result = grid.fit(x_treino_le, y_treino_le)"
      ],
      "metadata": {
        "id": "oKqIfKJLs3Vl"
      },
      "execution_count": 65,
      "outputs": []
    },
    {
      "cell_type": "code",
      "source": [
        "# Plotando um grafico com os resultados de cada parâmetro\n",
        "result = pd.DataFrame(grid.cv_results_)[['param_n_neighbors','mean_test_score']]\n",
        "result['mean_test_score'] = result['mean_test_score']*100\n",
        "result.plot(kind='line',x='param_n_neighbors',y='mean_test_score')\n",
        "plt.xlabel('param_n_neighbors')\n",
        "plt.ylabel('mean_test_score')\n",
        "plt.show()"
      ],
      "metadata": {
        "colab": {
          "base_uri": "https://localhost:8080/",
          "height": 450
        },
        "id": "4EqFPBL5trwL",
        "outputId": "0acae4ba-9185-437e-e719-36b68097705c"
      },
      "execution_count": 66,
      "outputs": [
        {
          "output_type": "display_data",
          "data": {
            "text/plain": [
              "<Figure size 640x480 with 1 Axes>"
            ],
            "image/png": "[encoded data removed]"
          },
          "metadata": {}
        }
      ]
    },
    {
      "cell_type": "markdown",
      "source": [
        "Podemos reparar que o melhor resultado é com n_neighbors = 1.\n",
        ">\n",
        "Depois do parâmetro 3, o score diminui constantimente."
      ],
      "metadata": {
        "id": "g8YVy8vTuGwu"
      }
    },
    {
      "cell_type": "code",
      "source": [
        "#Avaliando os resultados\n",
        "print(grid.best_score_)\n",
        "print(grid.best_params_)\n",
        "print(grid.best_estimator_)"
      ],
      "metadata": {
        "colab": {
          "base_uri": "https://localhost:8080/"
        },
        "id": "iIGy6b36tS_C",
        "outputId": "dd223562-0cca-46c1-9753-14e286e281fe"
      },
      "execution_count": 67,
      "outputs": [
        {
          "output_type": "stream",
          "name": "stdout",
          "text": [
            "0.9939349890358602\n",
            "{'n_neighbors': 1}\n",
            "KNeighborsClassifier(n_neighbors=1)\n"
          ]
        }
      ]
    },
    {
      "cell_type": "markdown",
      "source": [
        "Agora que já temos os melhores parâmetros, vamos aplica-los."
      ],
      "metadata": {
        "id": "KAC7tpXnu_x5"
      }
    },
    {
      "cell_type": "code",
      "source": [
        "# Preparação do modelo\n",
        "inicio = time.time()\n",
        "knn = KNeighborsClassifier(n_neighbors=1)\n",
        "knn.fit(x_treino_le, y_treino_le)\n",
        "fim = time.time()\n",
        "log_knn = fim-inicio"
      ],
      "metadata": {
        "id": "Yeb2O2SRzZoG"
      },
      "execution_count": 68,
      "outputs": []
    },
    {
      "cell_type": "code",
      "source": [
        "# Estimativa da acurácia no conjunto de teste\n",
        "previsoes_knn = knn.predict(x_teste_le)\n",
        "\n",
        "# Avaliação\n",
        "\n",
        "#Acurácia\n",
        "print(\"Acurácia: %.2f%%\" % (accuracy_score(y_teste_le, previsoes_knn) * 100.0))\n",
        "# Precisão\n",
        "print(\"Precisão: %.2f%%\" % (precision_score(y_teste_le, previsoes_knn) * 100.0))\n",
        "# Recall / Revocação\n",
        "print(\"Revocação: %.2f%%\" % (recall_score(y_teste_le, previsoes_knn) * 100.0))\n",
        "# F1 score\n",
        "print(\"F1-Score: %.2f%%\" % (f1_score(y_teste_le, previsoes_knn) * 100.0))\n",
        "print(f\"Tempo de treinamento: {log_knn:.2f}s\")"
      ],
      "metadata": {
        "colab": {
          "base_uri": "https://localhost:8080/"
        },
        "id": "TkFkYL55zsNI",
        "outputId": "33a8d5e4-a02e-4e39-9ea6-5e1be4a1ee46"
      },
      "execution_count": 70,
      "outputs": [
        {
          "output_type": "stream",
          "name": "stdout",
          "text": [
            "Acurácia: 99.45%\n",
            "Precisão: 99.63%\n",
            "Revocação: 99.70%\n",
            "F1-Score: 99.66%\n",
            "Tempo de treinamento: 0.25s\n"
          ]
        }
      ]
    },
    {
      "cell_type": "markdown",
      "source": [
        "> <font color=#FE8202>Matriz de confusão"
      ],
      "metadata": {
        "id": "eZ6kbSTA0XN6"
      }
    },
    {
      "cell_type": "code",
      "source": [
        "sns.heatmap(confusion_matrix(y_teste_le, previsoes_knn), annot= True, fmt='g')\n",
        "plt.xlabel('y_teste')\n",
        "plt.ylabel('previsoes_knn')"
      ],
      "metadata": {
        "colab": {
          "base_uri": "https://localhost:8080/",
          "height": 466
        },
        "id": "Twq9Scpf0asn",
        "outputId": "54fae286-eedf-49bb-9141-bbddbcb65567"
      },
      "execution_count": 71,
      "outputs": [
        {
          "output_type": "execute_result",
          "data": {
            "text/plain": [
              "Text(50.722222222222214, 0.5, 'previsoes_knn')"
            ]
          },
          "metadata": {},
          "execution_count": 71
        },
        {
          "output_type": "display_data",
          "data": {
            "text/plain": [
              "<Figure size 640x480 with 2 Axes>"
            ],
            "image/png": "[encoded data removed]"
          },
          "metadata": {}
        }
      ]
    },
    {
      "cell_type": "code",
      "source": [
        "print('Total de Amostras: {:,d}'.format(y_teste_le.shape[0]).replace(',','.'))\n",
        "print('Acertos de classificação: {:,d}'.format((y_teste_le == previsoes_knn).sum()).replace(',','.'))\n",
        "print('Erros de classificação: {:,d}'.format((y_teste_le != previsoes_knn).sum()).replace(',','.'))"
      ],
      "metadata": {
        "colab": {
          "base_uri": "https://localhost:8080/"
        },
        "id": "bb4UGbUE0k1M",
        "outputId": "27ee2c13-ec18-4d01-a8ee-40500ae8363d"
      },
      "execution_count": 72,
      "outputs": [
        {
          "output_type": "stream",
          "name": "stdout",
          "text": [
            "Total de Amostras: 26.175\n",
            "Acertos de classificação: 26.030\n",
            "Erros de classificação: 145\n"
          ]
        }
      ]
    },
    {
      "cell_type": "markdown",
      "source": [
        "\n",
        "\n",
        "---\n",
        "\n"
      ],
      "metadata": {
        "id": "BrT63nsb0MHj"
      }
    },
    {
      "cell_type": "markdown",
      "source": [
        "###**<font color=#FE8202> 5.4 Melhor Modelo**"
      ],
      "metadata": {
        "id": "FgGlW1X91B3e"
      }
    },
    {
      "cell_type": "markdown",
      "source": [
        "Vamos compara as avaliações dos três modelos anteriores."
      ],
      "metadata": {
        "id": "u9zq5nNf1hBP"
      }
    },
    {
      "cell_type": "code",
      "source": [
        "print('Árvore de decisão')\n",
        "print(\"Acurácia: %.2f%%\" % (accuracy_score(y_teste_le, previsoes_arvore) * 100.0))\n",
        "print(\"Precisão: %.2f%%\" % (precision_score(y_teste_le, previsoes_arvore) * 100.0))\n",
        "print(\"Revocação: %.2f%%\" % (recall_score(y_teste_le, previsoes_arvore) * 100.0))\n",
        "print(\"F1-Score: %.2f%%\" % (f1_score(y_teste_le, previsoes_arvore) * 100.0))\n",
        "print(f\"Tempo de treinamento: {log_arvore:.2f}s\")\n",
        "print('Total de Amostras: {:,d}'.format(y_teste_le.shape[0]).replace(',','.'))\n",
        "print('Acertos de classificação: {:,d}'.format((y_teste_le == previsoes_arvore).sum()).replace(',','.'))\n",
        "print('Erros de classificação: {:,d}'.format((y_teste_le != previsoes_arvore).sum()).replace(',','.'))\n",
        "print('--------------------------------------------------------------------------------------')\n",
        "print('Regressão Logística')\n",
        "print(\"Acurácia: %.2f%%\" % (accuracy_score(y_teste_le, previsoes_log_re) * 100.0))\n",
        "print(\"Precisão: %.2f%%\" % (precision_score(y_teste_le, previsoes_log_re) * 100.0))\n",
        "print(\"Revocação: %.2f%%\" % (recall_score(y_teste_le, previsoes_log_re) * 100.0))\n",
        "print(\"F1-Score: %.2f%%\" % (f1_score(y_teste_le, previsoes_log_re) * 100.0))\n",
        "print(f\"Tempo de treinamento: {log_log_re:.2f}s\")\n",
        "print('Total de Amostras: {:,d}'.format(y_teste_le.shape[0]).replace(',','.'))\n",
        "print('Acertos de classificação: {:,d}'.format((y_teste_le == previsoes_log_re).sum()).replace(',','.'))\n",
        "print('Erros de classificação: {:,d}'.format((y_teste_le != previsoes_log_re).sum()).replace(',','.'))\n",
        "print('--------------------------------------------------------------------------------------')\n",
        "print('KNN')\n",
        "print(\"Acurácia: %.2f%%\" % (accuracy_score(y_teste_le, previsoes_knn) * 100.0))\n",
        "print(\"Precisão: %.2f%%\" % (precision_score(y_teste_le, previsoes_knn) * 100.0))\n",
        "print(\"Revocação: %.2f%%\" % (recall_score(y_teste_le, previsoes_knn) * 100.0))\n",
        "print(\"F1-Score: %.2f%%\" % (f1_score(y_teste_le, previsoes_knn) * 100.0))\n",
        "print(f\"Tempo de treinamento: {log_log_re:.2f}s\")\n",
        "print('Total de Amostras: {:,d}'.format(y_teste_le.shape[0]).replace(',','.'))\n",
        "print('Acertos de classificação: {:,d}'.format((y_teste_le == previsoes_knn).sum()).replace(',','.'))\n",
        "print('Erros de classificação: {:,d}'.format((y_teste_le != previsoes_knn).sum()).replace(',','.'))"
      ],
      "metadata": {
        "colab": {
          "base_uri": "https://localhost:8080/"
        },
        "id": "EwuPdEHC2GpR",
        "outputId": "ad9b6c00-cf11-4b89-a831-d9413d7d2e4f"
      },
      "execution_count": 77,
      "outputs": [
        {
          "output_type": "stream",
          "name": "stdout",
          "text": [
            "Árvore de decisão\n",
            "Acurácia: 100.00%\n",
            "Precisão: 100.00%\n",
            "Revocação: 100.00%\n",
            "F1-Score: 100.00%\n",
            "Tempo de treinamento: 0.04s\n",
            "Total de Amostras: 26.175\n",
            "Acertos de classificação: 26.175\n",
            "Erros de classificação: 0\n",
            "--------------------------------------------------------------------------------------\n",
            "Regressão Logística\n",
            "Acurácia: 100.00%\n",
            "Precisão: 100.00%\n",
            "Revocação: 100.00%\n",
            "F1-Score: 100.00%\n",
            "Tempo de treinamento: 1.88s\n",
            "Total de Amostras: 26.175\n",
            "Acertos de classificação: 26.175\n",
            "Erros de classificação: 0\n",
            "--------------------------------------------------------------------------------------\n",
            "KNN\n",
            "Acurácia: 99.45%\n",
            "Precisão: 99.63%\n",
            "Revocação: 99.70%\n",
            "F1-Score: 99.66%\n",
            "Tempo de treinamento: 1.88s\n",
            "Total de Amostras: 26.175\n",
            "Acertos de classificação: 26.030\n",
            "Erros de classificação: 145\n"
          ]
        }
      ]
    },
    {
      "cell_type": "markdown",
      "source": [
        "Com os três algorítmos configurados com os melhores parâmetros, o que mais se destacou foi a Árvore de decisão, acertando todas as classificações, e com o menor tempo de execução.\n",
        ">\n",
        "No próximo passo vamos uitiza-lo para verificar dados não testados."
      ],
      "metadata": {
        "id": "eSSKtQqI9GrC"
      }
    },
    {
      "cell_type": "markdown",
      "source": [
        "###**<font color=#FE8202> 5.5 Simulando a aplicação do modelo em dados não vistos**"
      ],
      "metadata": {
        "id": "ifGJAqkC-tEY"
      }
    },
    {
      "cell_type": "markdown",
      "source": [
        "Iremos simular a aplicação do modelo em dados não vistos, simulando um arquivo enviado pelo usuário com novas instâncias, mas que não sabemos a classe de saída.\n",
        ">\n",
        "Poderemos, então,aplicar nosso modelo recém-treinado para fazer a predição das classes.\n",
        ">\n",
        "Será necessário carregar esse arquivo com as mesmas transformações de dados utilizadas no treinamento do modelo.\n"
      ],
      "metadata": {
        "id": "Oi5v__UGAFxl"
      }
    },
    {
      "cell_type": "code",
      "source": [
        "# importando dados de uma url para um dataframe\n",
        "\n",
        "# URL de importação\n",
        "url3  = \"https://raw.githubusercontent.com/gabrielmprata/MVP_SP02_Macine_Learning_Deep/main/dados_novos.csv\"\n",
        "\n",
        "# Carga do dataset para o Pandas dataframe\n",
        "acidentes_novos = pd.read_csv(url3, encoding=\"Latin 1\", sep=';')\n"
      ],
      "metadata": {
        "id": "Qe_SHJY3_CR4"
      },
      "execution_count": 94,
      "outputs": []
    },
    {
      "cell_type": "code",
      "source": [
        "#Verificando a carga\n",
        "acidentes_novos.head(3)"
      ],
      "metadata": {
        "colab": {
          "base_uri": "https://localhost:8080/",
          "height": 294
        },
        "id": "ggJV9nd2w9ke",
        "outputId": "270c13d9-6161-42db-c54f-de1ba0af0264"
      },
      "execution_count": 95,
      "outputs": [
        {
          "output_type": "execute_result",
          "data": {
            "text/plain": [
              "   semana  ilesos  feridos_leves  feridos_graves  mortos  \\\n",
              "0       4       2              1               0       0   \n",
              "1       4       0              2               0       0   \n",
              "2       4       1              0               0       0   \n",
              "\n",
              "                         causa_acidente classificacao_acidente     fase_dia  \\\n",
              "0      Ingestão de álcool pelo condutor    Com Vítimas Feridas  Plena Noite   \n",
              "1               Velocidade Incompatível    Com Vítimas Feridas  Plena Noite   \n",
              "2  Demais falhas mecânicas ou elétricas            Sem Vítimas  Plena Noite   \n",
              "\n",
              "        tipo_acidente tipo_pista uso_solo  \n",
              "0    Colisão traseira      Dupla      Não  \n",
              "1  Colisão com objeto      Dupla      Não  \n",
              "2            Incêndio      Dupla      Sim  "
            ],
            "text/html": [
              "\n",
              "  <div id=\"df-875c354c-376d-44b9-8c0a-38893ca0e5a9\">\n",
              "    <div class=\"colab-df-container\">\n",
              "      <div>\n",
              "<style scoped>\n",
              "    .dataframe tbody tr th:only-of-type {\n",
              "        vertical-align: middle;\n",
              "    }\n",
              "\n",
              "    .dataframe tbody tr th {\n",
              "        vertical-align: top;\n",
              "    }\n",
              "\n",
              "    .dataframe thead th {\n",
              "        text-align: right;\n",
              "    }\n",
              "</style>\n",
              "<table border=\"1\" class=\"dataframe\">\n",
              "  <thead>\n",
              "    <tr style=\"text-align: right;\">\n",
              "      <th></th>\n",
              "      <th>semana</th>\n",
              "      <th>ilesos</th>\n",
              "      <th>feridos_leves</th>\n",
              "      <th>feridos_graves</th>\n",
              "      <th>mortos</th>\n",
              "      <th>causa_acidente</th>\n",
              "      <th>classificacao_acidente</th>\n",
              "      <th>fase_dia</th>\n",
              "      <th>tipo_acidente</th>\n",
              "      <th>tipo_pista</th>\n",
              "      <th>uso_solo</th>\n",
              "    </tr>\n",
              "  </thead>\n",
              "  <tbody>\n",
              "    <tr>\n",
              "      <th>0</th>\n",
              "      <td>4</td>\n",
              "      <td>2</td>\n",
              "      <td>1</td>\n",
              "      <td>0</td>\n",
              "      <td>0</td>\n",
              "      <td>Ingestão de álcool pelo condutor</td>\n",
              "      <td>Com Vítimas Feridas</td>\n",
              "      <td>Plena Noite</td>\n",
              "      <td>Colisão traseira</td>\n",
              "      <td>Dupla</td>\n",
              "      <td>Não</td>\n",
              "    </tr>\n",
              "    <tr>\n",
              "      <th>1</th>\n",
              "      <td>4</td>\n",
              "      <td>0</td>\n",
              "      <td>2</td>\n",
              "      <td>0</td>\n",
              "      <td>0</td>\n",
              "      <td>Velocidade Incompatível</td>\n",
              "      <td>Com Vítimas Feridas</td>\n",
              "      <td>Plena Noite</td>\n",
              "      <td>Colisão com objeto</td>\n",
              "      <td>Dupla</td>\n",
              "      <td>Não</td>\n",
              "    </tr>\n",
              "    <tr>\n",
              "      <th>2</th>\n",
              "      <td>4</td>\n",
              "      <td>1</td>\n",
              "      <td>0</td>\n",
              "      <td>0</td>\n",
              "      <td>0</td>\n",
              "      <td>Demais falhas mecânicas ou elétricas</td>\n",
              "      <td>Sem Vítimas</td>\n",
              "      <td>Plena Noite</td>\n",
              "      <td>Incêndio</td>\n",
              "      <td>Dupla</td>\n",
              "      <td>Sim</td>\n",
              "    </tr>\n",
              "  </tbody>\n",
              "</table>\n",
              "</div>\n",
              "      <button class=\"colab-df-convert\" onclick=\"convertToInteractive('df-875c354c-376d-44b9-8c0a-38893ca0e5a9')\"\n",
              "              title=\"Convert this dataframe to an interactive table.\"\n",
              "              style=\"display:none;\">\n",
              "        \n",
              "  <svg xmlns=\"http://www.w3.org/2000/svg\" height=\"24px\"viewBox=\"0 0 24 24\"\n",
              "       width=\"24px\">\n",
              "    <path d=\"M0 0h24v24H0V0z\" fill=\"none\"/>\n",
              "    <path d=\"M18.56 5.44l.94 2.06.94-2.06 2.06-.94-2.06-.94-.94-2.06-.94 2.06-2.06.94zm-11 1L8.5 8.5l.94-2.06 2.06-.94-2.06-.94L8.5 2.5l-.94 2.06-2.06.94zm10 10l.94 2.06.94-2.06 2.06-.94-2.06-.94-.94-2.06-.94 2.06-2.06.94z\"/><path d=\"M17.41 7.96l-1.37-1.37c-.4-.4-.92-.59-1.43-.59-.52 0-1.04.2-1.43.59L10.3 9.45l-7.72 7.72c-.78.78-.78 2.05 0 2.83L4 21.41c.39.39.9.59 1.41.59.51 0 1.02-.2 1.41-.59l7.78-7.78 2.81-2.81c.8-.78.8-2.07 0-2.86zM5.41 20L4 18.59l7.72-7.72 1.47 1.35L5.41 20z\"/>\n",
              "  </svg>\n",
              "      </button>\n",
              "      \n",
              "  <style>\n",
              "    .colab-df-container {\n",
              "      display:flex;\n",
              "      flex-wrap:wrap;\n",
              "      gap: 12px;\n",
              "    }\n",
              "\n",
              "    .colab-df-convert {\n",
              "      background-color: #E8F0FE;\n",
              "      border: none;\n",
              "      border-radius: 50%;\n",
              "      cursor: pointer;\n",
              "      display: none;\n",
              "      fill: #1967D2;\n",
              "      height: 32px;\n",
              "      padding: 0 0 0 0;\n",
              "      width: 32px;\n",
              "    }\n",
              "\n",
              "    .colab-df-convert:hover {\n",
              "      background-color: #E2EBFA;\n",
              "      box-shadow: 0px 1px 2px rgba(60, 64, 67, 0.3), 0px 1px 3px 1px rgba(60, 64, 67, 0.15);\n",
              "      fill: #174EA6;\n",
              "    }\n",
              "\n",
              "    [theme=dark] .colab-df-convert {\n",
              "      background-color: #3B4455;\n",
              "      fill: #D2E3FC;\n",
              "    }\n",
              "\n",
              "    [theme=dark] .colab-df-convert:hover {\n",
              "      background-color: #434B5C;\n",
              "      box-shadow: 0px 1px 3px 1px rgba(0, 0, 0, 0.15);\n",
              "      filter: drop-shadow(0px 1px 2px rgba(0, 0, 0, 0.3));\n",
              "      fill: #FFFFFF;\n",
              "    }\n",
              "  </style>\n",
              "\n",
              "      <script>\n",
              "        const buttonEl =\n",
              "          document.querySelector('#df-875c354c-376d-44b9-8c0a-38893ca0e5a9 button.colab-df-convert');\n",
              "        buttonEl.style.display =\n",
              "          google.colab.kernel.accessAllowed ? 'block' : 'none';\n",
              "\n",
              "        async function convertToInteractive(key) {\n",
              "          const element = document.querySelector('#df-875c354c-376d-44b9-8c0a-38893ca0e5a9');\n",
              "          const dataTable =\n",
              "            await google.colab.kernel.invokeFunction('convertToInteractive',\n",
              "                                                     [key], {});\n",
              "          if (!dataTable) return;\n",
              "\n",
              "          const docLinkHtml = 'Like what you see? Visit the ' +\n",
              "            '<a target=\"_blank\" href=https://colab.research.google.com/notebooks/data_table.ipynb>data table notebook</a>'\n",
              "            + ' to learn more about interactive tables.';\n",
              "          element.innerHTML = '';\n",
              "          dataTable['output_type'] = 'display_data';\n",
              "          await google.colab.output.renderOutput(dataTable, element);\n",
              "          const docLink = document.createElement('div');\n",
              "          docLink.innerHTML = docLinkHtml;\n",
              "          element.appendChild(docLink);\n",
              "        }\n",
              "      </script>\n",
              "    </div>\n",
              "  </div>\n",
              "  "
            ]
          },
          "metadata": {},
          "execution_count": 95
        }
      ]
    },
    {
      "cell_type": "code",
      "source": [
        "#Criando o dataset para aplicar o LE\n",
        "ml_model_new = acidentes_novos.copy()\n",
        "\n",
        "# Iniciando o LE\n",
        "le = LabelEncoder()\n",
        "\n",
        "#Selecionando o index dos atributos categóricos\n",
        "colunas = ml_model_new.dtypes.reset_index()\n",
        "categ_cols = colunas[colunas[0] == 'object']['index'].to_list()\n",
        "\n",
        "for i in categ_cols:\n",
        "     ml_model_new[str(i) +'_encoded'] = le.fit_transform(ml_model_new[i])\n",
        "     ml_model_new = ml_model_new.drop(i,axis = 1)\n",
        ""
      ],
      "metadata": {
        "id": "GEBzn5WuxY-_"
      },
      "execution_count": 96,
      "outputs": []
    },
    {
      "cell_type": "code",
      "source": [
        "ml_model_new"
      ],
      "metadata": {
        "colab": {
          "base_uri": "https://localhost:8080/",
          "height": 488
        },
        "id": "H2QSNrYH2M2G",
        "outputId": "1c73a80d-fabc-4f8c-fdf1-7c1b1267aa52"
      },
      "execution_count": 97,
      "outputs": [
        {
          "output_type": "execute_result",
          "data": {
            "text/plain": [
              "    semana  ilesos  feridos_leves  feridos_graves  mortos  \\\n",
              "0        4       2              1               0       0   \n",
              "1        4       0              2               0       0   \n",
              "2        4       1              0               0       0   \n",
              "3        4       1              2               0       0   \n",
              "4        4       1              0               1       0   \n",
              "..     ...     ...            ...             ...     ...   \n",
              "95       4       4              0               0       0   \n",
              "96       4       1              1               0       0   \n",
              "97       4       2              1               0       0   \n",
              "98       4       1              4               0       0   \n",
              "99       4       3              1               0       0   \n",
              "\n",
              "    causa_acidente_encoded  classificacao_acidente_encoded  fase_dia_encoded  \\\n",
              "0                       15                               1                 1   \n",
              "1                       24                               1                 1   \n",
              "2                        9                               2                 1   \n",
              "3                       17                               1                 1   \n",
              "4                       21                               1                 1   \n",
              "..                     ...                             ...               ...   \n",
              "95                      24                               2                 2   \n",
              "96                       2                               1                 2   \n",
              "97                      24                               1                 2   \n",
              "98                      24                               1                 2   \n",
              "99                      20                               1                 2   \n",
              "\n",
              "    tipo_acidente_encoded  tipo_pista_encoded  uso_solo_encoded  \n",
              "0                       7                   0                 0  \n",
              "1                       3                   0                 0  \n",
              "2                       8                   0                 1  \n",
              "3                       5                   1                 1  \n",
              "4                       7                   1                 1  \n",
              "..                    ...                 ...               ...  \n",
              "95                     10                   0                 0  \n",
              "96                      9                   0                 0  \n",
              "97                     10                   0                 1  \n",
              "98                     10                   0                 0  \n",
              "99                     10                   0                 0  \n",
              "\n",
              "[100 rows x 11 columns]"
            ],
            "text/html": [
              "\n",
              "  <div id=\"df-2d4a89ee-da62-41d3-b37d-b89f17dae150\">\n",
              "    <div class=\"colab-df-container\">\n",
              "      <div>\n",
              "<style scoped>\n",
              "    .dataframe tbody tr th:only-of-type {\n",
              "        vertical-align: middle;\n",
              "    }\n",
              "\n",
              "    .dataframe tbody tr th {\n",
              "        vertical-align: top;\n",
              "    }\n",
              "\n",
              "    .dataframe thead th {\n",
              "        text-align: right;\n",
              "    }\n",
              "</style>\n",
              "<table border=\"1\" class=\"dataframe\">\n",
              "  <thead>\n",
              "    <tr style=\"text-align: right;\">\n",
              "      <th></th>\n",
              "      <th>semana</th>\n",
              "      <th>ilesos</th>\n",
              "      <th>feridos_leves</th>\n",
              "      <th>feridos_graves</th>\n",
              "      <th>mortos</th>\n",
              "      <th>causa_acidente_encoded</th>\n",
              "      <th>classificacao_acidente_encoded</th>\n",
              "      <th>fase_dia_encoded</th>\n",
              "      <th>tipo_acidente_encoded</th>\n",
              "      <th>tipo_pista_encoded</th>\n",
              "      <th>uso_solo_encoded</th>\n",
              "    </tr>\n",
              "  </thead>\n",
              "  <tbody>\n",
              "    <tr>\n",
              "      <th>0</th>\n",
              "      <td>4</td>\n",
              "      <td>2</td>\n",
              "      <td>1</td>\n",
              "      <td>0</td>\n",
              "      <td>0</td>\n",
              "      <td>15</td>\n",
              "      <td>1</td>\n",
              "      <td>1</td>\n",
              "      <td>7</td>\n",
              "      <td>0</td>\n",
              "      <td>0</td>\n",
              "    </tr>\n",
              "    <tr>\n",
              "      <th>1</th>\n",
              "      <td>4</td>\n",
              "      <td>0</td>\n",
              "      <td>2</td>\n",
              "      <td>0</td>\n",
              "      <td>0</td>\n",
              "      <td>24</td>\n",
              "      <td>1</td>\n",
              "      <td>1</td>\n",
              "      <td>3</td>\n",
              "      <td>0</td>\n",
              "      <td>0</td>\n",
              "    </tr>\n",
              "    <tr>\n",
              "      <th>2</th>\n",
              "      <td>4</td>\n",
              "      <td>1</td>\n",
              "      <td>0</td>\n",
              "      <td>0</td>\n",
              "      <td>0</td>\n",
              "      <td>9</td>\n",
              "      <td>2</td>\n",
              "      <td>1</td>\n",
              "      <td>8</td>\n",
              "      <td>0</td>\n",
              "      <td>1</td>\n",
              "    </tr>\n",
              "    <tr>\n",
              "      <th>3</th>\n",
              "      <td>4</td>\n",
              "      <td>1</td>\n",
              "      <td>2</td>\n",
              "      <td>0</td>\n",
              "      <td>0</td>\n",
              "      <td>17</td>\n",
              "      <td>1</td>\n",
              "      <td>1</td>\n",
              "      <td>5</td>\n",
              "      <td>1</td>\n",
              "      <td>1</td>\n",
              "    </tr>\n",
              "    <tr>\n",
              "      <th>4</th>\n",
              "      <td>4</td>\n",
              "      <td>1</td>\n",
              "      <td>0</td>\n",
              "      <td>1</td>\n",
              "      <td>0</td>\n",
              "      <td>21</td>\n",
              "      <td>1</td>\n",
              "      <td>1</td>\n",
              "      <td>7</td>\n",
              "      <td>1</td>\n",
              "      <td>1</td>\n",
              "    </tr>\n",
              "    <tr>\n",
              "      <th>...</th>\n",
              "      <td>...</td>\n",
              "      <td>...</td>\n",
              "      <td>...</td>\n",
              "      <td>...</td>\n",
              "      <td>...</td>\n",
              "      <td>...</td>\n",
              "      <td>...</td>\n",
              "      <td>...</td>\n",
              "      <td>...</td>\n",
              "      <td>...</td>\n",
              "      <td>...</td>\n",
              "    </tr>\n",
              "    <tr>\n",
              "      <th>95</th>\n",
              "      <td>4</td>\n",
              "      <td>4</td>\n",
              "      <td>0</td>\n",
              "      <td>0</td>\n",
              "      <td>0</td>\n",
              "      <td>24</td>\n",
              "      <td>2</td>\n",
              "      <td>2</td>\n",
              "      <td>10</td>\n",
              "      <td>0</td>\n",
              "      <td>0</td>\n",
              "    </tr>\n",
              "    <tr>\n",
              "      <th>96</th>\n",
              "      <td>4</td>\n",
              "      <td>1</td>\n",
              "      <td>1</td>\n",
              "      <td>0</td>\n",
              "      <td>0</td>\n",
              "      <td>2</td>\n",
              "      <td>1</td>\n",
              "      <td>2</td>\n",
              "      <td>9</td>\n",
              "      <td>0</td>\n",
              "      <td>0</td>\n",
              "    </tr>\n",
              "    <tr>\n",
              "      <th>97</th>\n",
              "      <td>4</td>\n",
              "      <td>2</td>\n",
              "      <td>1</td>\n",
              "      <td>0</td>\n",
              "      <td>0</td>\n",
              "      <td>24</td>\n",
              "      <td>1</td>\n",
              "      <td>2</td>\n",
              "      <td>10</td>\n",
              "      <td>0</td>\n",
              "      <td>1</td>\n",
              "    </tr>\n",
              "    <tr>\n",
              "      <th>98</th>\n",
              "      <td>4</td>\n",
              "      <td>1</td>\n",
              "      <td>4</td>\n",
              "      <td>0</td>\n",
              "      <td>0</td>\n",
              "      <td>24</td>\n",
              "      <td>1</td>\n",
              "      <td>2</td>\n",
              "      <td>10</td>\n",
              "      <td>0</td>\n",
              "      <td>0</td>\n",
              "    </tr>\n",
              "    <tr>\n",
              "      <th>99</th>\n",
              "      <td>4</td>\n",
              "      <td>3</td>\n",
              "      <td>1</td>\n",
              "      <td>0</td>\n",
              "      <td>0</td>\n",
              "      <td>20</td>\n",
              "      <td>1</td>\n",
              "      <td>2</td>\n",
              "      <td>10</td>\n",
              "      <td>0</td>\n",
              "      <td>0</td>\n",
              "    </tr>\n",
              "  </tbody>\n",
              "</table>\n",
              "<p>100 rows × 11 columns</p>\n",
              "</div>\n",
              "      <button class=\"colab-df-convert\" onclick=\"convertToInteractive('df-2d4a89ee-da62-41d3-b37d-b89f17dae150')\"\n",
              "              title=\"Convert this dataframe to an interactive table.\"\n",
              "              style=\"display:none;\">\n",
              "        \n",
              "  <svg xmlns=\"http://www.w3.org/2000/svg\" height=\"24px\"viewBox=\"0 0 24 24\"\n",
              "       width=\"24px\">\n",
              "    <path d=\"M0 0h24v24H0V0z\" fill=\"none\"/>\n",
              "    <path d=\"M18.56 5.44l.94 2.06.94-2.06 2.06-.94-2.06-.94-.94-2.06-.94 2.06-2.06.94zm-11 1L8.5 8.5l.94-2.06 2.06-.94-2.06-.94L8.5 2.5l-.94 2.06-2.06.94zm10 10l.94 2.06.94-2.06 2.06-.94-2.06-.94-.94-2.06-.94 2.06-2.06.94z\"/><path d=\"M17.41 7.96l-1.37-1.37c-.4-.4-.92-.59-1.43-.59-.52 0-1.04.2-1.43.59L10.3 9.45l-7.72 7.72c-.78.78-.78 2.05 0 2.83L4 21.41c.39.39.9.59 1.41.59.51 0 1.02-.2 1.41-.59l7.78-7.78 2.81-2.81c.8-.78.8-2.07 0-2.86zM5.41 20L4 18.59l7.72-7.72 1.47 1.35L5.41 20z\"/>\n",
              "  </svg>\n",
              "      </button>\n",
              "      \n",
              "  <style>\n",
              "    .colab-df-container {\n",
              "      display:flex;\n",
              "      flex-wrap:wrap;\n",
              "      gap: 12px;\n",
              "    }\n",
              "\n",
              "    .colab-df-convert {\n",
              "      background-color: #E8F0FE;\n",
              "      border: none;\n",
              "      border-radius: 50%;\n",
              "      cursor: pointer;\n",
              "      display: none;\n",
              "      fill: #1967D2;\n",
              "      height: 32px;\n",
              "      padding: 0 0 0 0;\n",
              "      width: 32px;\n",
              "    }\n",
              "\n",
              "    .colab-df-convert:hover {\n",
              "      background-color: #E2EBFA;\n",
              "      box-shadow: 0px 1px 2px rgba(60, 64, 67, 0.3), 0px 1px 3px 1px rgba(60, 64, 67, 0.15);\n",
              "      fill: #174EA6;\n",
              "    }\n",
              "\n",
              "    [theme=dark] .colab-df-convert {\n",
              "      background-color: #3B4455;\n",
              "      fill: #D2E3FC;\n",
              "    }\n",
              "\n",
              "    [theme=dark] .colab-df-convert:hover {\n",
              "      background-color: #434B5C;\n",
              "      box-shadow: 0px 1px 3px 1px rgba(0, 0, 0, 0.15);\n",
              "      filter: drop-shadow(0px 1px 2px rgba(0, 0, 0, 0.3));\n",
              "      fill: #FFFFFF;\n",
              "    }\n",
              "  </style>\n",
              "\n",
              "      <script>\n",
              "        const buttonEl =\n",
              "          document.querySelector('#df-2d4a89ee-da62-41d3-b37d-b89f17dae150 button.colab-df-convert');\n",
              "        buttonEl.style.display =\n",
              "          google.colab.kernel.accessAllowed ? 'block' : 'none';\n",
              "\n",
              "        async function convertToInteractive(key) {\n",
              "          const element = document.querySelector('#df-2d4a89ee-da62-41d3-b37d-b89f17dae150');\n",
              "          const dataTable =\n",
              "            await google.colab.kernel.invokeFunction('convertToInteractive',\n",
              "                                                     [key], {});\n",
              "          if (!dataTable) return;\n",
              "\n",
              "          const docLinkHtml = 'Like what you see? Visit the ' +\n",
              "            '<a target=\"_blank\" href=https://colab.research.google.com/notebooks/data_table.ipynb>data table notebook</a>'\n",
              "            + ' to learn more about interactive tables.';\n",
              "          element.innerHTML = '';\n",
              "          dataTable['output_type'] = 'display_data';\n",
              "          await google.colab.output.renderOutput(dataTable, element);\n",
              "          const docLink = document.createElement('div');\n",
              "          docLink.innerHTML = docLinkHtml;\n",
              "          element.appendChild(docLink);\n",
              "        }\n",
              "      </script>\n",
              "    </div>\n",
              "  </div>\n",
              "  "
            ]
          },
          "metadata": {},
          "execution_count": 97
        }
      ]
    },
    {
      "cell_type": "code",
      "source": [
        "novos = arvore.predict(ml_model_new)"
      ],
      "metadata": {
        "id": "cbQ3r0RH0fpb"
      },
      "execution_count": 98,
      "outputs": []
    },
    {
      "cell_type": "code",
      "source": [
        "print(novos)"
      ],
      "metadata": {
        "colab": {
          "base_uri": "https://localhost:8080/"
        },
        "id": "gj455HXq3ag2",
        "outputId": "13c55061-21ac-4dd3-a044-af0574dce9f6"
      },
      "execution_count": 100,
      "outputs": [
        {
          "output_type": "stream",
          "name": "stdout",
          "text": [
            "[1 1 0 1 1 1 0 0 0 1 0 1 1 1 1 1 1 1 1 1 0 0 0 1 1 1 1 1 1 1 1 1 1 1 0 1 0\n",
            " 1 1 1 1 1 1 0 1 1 1 1 1 1 1 1 1 0 1 1 1 0 1 1 1 0 1 1 1 1 1 1 1 1 1 1 1 1\n",
            " 1 1 0 1 1 0 0 1 0 1 1 1 1 1 1 1 1 1 1 1 1 0 1 1 1 1]\n"
          ]
        }
      ]
    },
    {
      "cell_type": "code",
      "source": [
        "type(ml_model_new)"
      ],
      "metadata": {
        "colab": {
          "base_uri": "https://localhost:8080/"
        },
        "id": "CHosfpoj3zpH",
        "outputId": "2043eeb1-c673-4d0f-a7eb-51ffe04ae2c8"
      },
      "execution_count": 102,
      "outputs": [
        {
          "output_type": "execute_result",
          "data": {
            "text/plain": [
              "pandas.core.frame.DataFrame"
            ]
          },
          "metadata": {},
          "execution_count": 102
        }
      ]
    }
  ]
}